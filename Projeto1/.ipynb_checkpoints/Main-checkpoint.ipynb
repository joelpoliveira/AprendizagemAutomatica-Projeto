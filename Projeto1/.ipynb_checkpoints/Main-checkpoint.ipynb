{
 "cells": [
  {
   "cell_type": "code",
   "execution_count": null,
   "id": "60d15fd0",
   "metadata": {},
   "outputs": [],
   "source": [
    "import pandas as pd\n",
    "import numpy as np\n",
    "import json\n",
    "import matplotlib.pyplot as plt\n",
    "\n",
    "from sklearn.metrics import (classification_report, matthews_corrcoef,\n",
    "                            confusion_matrix, ConfusionMatrixDisplay,\n",
    "                            mean_squared_error, explained_variance_score)\n",
    "\n",
    "from sklearn.linear_model import LinearRegression, LogisticRegression, Lasso, Ridge\n",
    "from sklearn.tree import DecisionTreeClassifier, DecisionTreeRegressor\n",
    "from sklearn.model_selection import KFold, LeaveOneOut, train_test_split\n",
    "\n",
    "from sklearn.tree import DecisionTreeRegressor\n",
    "from sklearn.linear_model import LinearRegression\n",
    "\n",
    "from sklearn.model_selection import cross_val_score\n",
    "from itertools import combinations\n",
    "from time import time\n",
    "\n",
    "import seaborn as sns"
   ]
  },
  {
   "cell_type": "code",
   "execution_count": null,
   "id": "562b1f23",
   "metadata": {},
   "outputs": [],
   "source": [
    "data = pd.read_csv(\"parkinsons_updrs.data\")"
   ]
  },
  {
   "cell_type": "code",
   "execution_count": null,
   "id": "e939e382",
   "metadata": {},
   "outputs": [],
   "source": [
    "data.info()"
   ]
  },
  {
   "cell_type": "code",
   "execution_count": null,
   "id": "17208b1d",
   "metadata": {
    "scrolled": true
   },
   "outputs": [],
   "source": [
    "data.columns"
   ]
  },
  {
   "cell_type": "code",
   "execution_count": null,
   "id": "5dc6dc8b",
   "metadata": {},
   "outputs": [],
   "source": [
    "#Separate X from y\n",
    "X = data.drop(columns=[\"total_UPDRS\", \"motor_UPDRS\"])\n",
    "y = data[\"motor_UPDRS\"]"
   ]
  },
  {
   "cell_type": "code",
   "execution_count": null,
   "id": "8e41bf46",
   "metadata": {},
   "outputs": [],
   "source": [
    "#Separate Training set from Independent Validations Set\n",
    "(X_train, X_IND, \n",
    " y_train, y_IND) = train_test_split(X, y, test_size=361, random_state=361)"
   ]
  },
  {
   "cell_type": "code",
   "execution_count": null,
   "id": "36e63906",
   "metadata": {},
   "outputs": [],
   "source": [
    "#join X and y from the training set\n",
    "data_train = pd.concat((X_train, y_train), axis=1 )"
   ]
  },
  {
   "cell_type": "code",
   "execution_count": null,
   "id": "07711527",
   "metadata": {},
   "outputs": [],
   "source": [
    "data_train.head()"
   ]
  },
  {
   "cell_type": "code",
   "execution_count": null,
   "id": "35d8be57",
   "metadata": {},
   "outputs": [],
   "source": [
    "data_train[data_train[\"subject#\"]==20].plot(x=\"test_time\", y = \"motor_UPDRS\", ls=\"\", marker=\"o\")"
   ]
  },
  {
   "cell_type": "code",
   "execution_count": null,
   "id": "228a7827",
   "metadata": {},
   "outputs": [],
   "source": [
    "data_train.columns"
   ]
  },
  {
   "cell_type": "code",
   "execution_count": null,
   "id": "e229b3cf",
   "metadata": {},
   "outputs": [],
   "source": [
    "data_train.sex.unique()"
   ]
  },
  {
   "cell_type": "code",
   "execution_count": null,
   "id": "8837ac27",
   "metadata": {
    "scrolled": false
   },
   "outputs": [],
   "source": [
    "sns.boxplot(data=data_train, x=\"sex\", y=\"motor_UPDRS\")"
   ]
  },
  {
   "cell_type": "code",
   "execution_count": null,
   "id": "63bb36ef",
   "metadata": {},
   "outputs": [],
   "source": [
    "X_train = X_train.drop(columns=[\"subject#\", \"test_time\"])"
   ]
  },
  {
   "cell_type": "code",
   "execution_count": null,
   "id": "5d7ccfc7",
   "metadata": {},
   "outputs": [],
   "source": [
    "def get_model_statistics(model, X, y):\n",
    "    kf = KFold(n_splits=16)\n",
    "    \n",
    "    #statistic arrays\n",
    "    pearse = []\n",
    "    rmse = []\n",
    "    rve = []\n",
    "    max_err = []\n",
    "    \n",
    "    #Get the train/test folds\n",
    "    for train_index, test_index in kf.split(X):\n",
    "        #Create train/test sets\n",
    "        X_train, X_test = X.iloc[train_index], X.iloc[test_index]\n",
    "        y_train, y_test = y.iloc[train_index], y.iloc[test_index]\n",
    "        \n",
    "        #fit model\n",
    "        temp_model = model.fit(X_train, y_train)\n",
    "        \n",
    "        #get predictions\n",
    "        preds = temp_model.predict(X_test)\n",
    "        \n",
    "        #get statistics\n",
    "        pearse.append( np.corrcoef(y_test, preds)[0,1] )\n",
    "        rmse.append( np.sqrt(mean_squared_error(y_test, preds)) )\n",
    "        rve.append( explained_variance_score(y_test, preds) )\n",
    "        max_err.append( np.abs(y_test - preds).max() )\n",
    "    \n",
    "    #return statistics estimations\n",
    "    return (\n",
    "         np.mean(pearse),\n",
    "         np.mean(rmse),\n",
    "         np.mean(rve),\n",
    "         np.max(max_err)\n",
    "       )"
   ]
  },
  {
   "cell_type": "code",
   "execution_count": null,
   "id": "ad1ce02d",
   "metadata": {},
   "outputs": [],
   "source": [
    "get_model_statistics(Ridge(), X_train, y_train)"
   ]
  },
  {
   "cell_type": "code",
   "execution_count": null,
   "id": "0029e4f0",
   "metadata": {},
   "outputs": [],
   "source": [
    "for train, test in KFold(n_splits=16).split(X_train):\n",
    "    print(train)\n",
    "    break"
   ]
  },
  {
   "cell_type": "code",
   "execution_count": null,
   "id": "0d120066",
   "metadata": {},
   "outputs": [],
   "source": []
  }
 ],
 "metadata": {
  "kernelspec": {
   "display_name": "Python 3 (ipykernel)",
   "language": "python",
   "name": "python3"
  },
  "language_info": {
   "codemirror_mode": {
    "name": "ipython",
    "version": 3
   },
   "file_extension": ".py",
   "mimetype": "text/x-python",
   "name": "python",
   "nbconvert_exporter": "python",
   "pygments_lexer": "ipython3",
   "version": "3.9.7"
  }
 },
 "nbformat": 4,
 "nbformat_minor": 5
}
