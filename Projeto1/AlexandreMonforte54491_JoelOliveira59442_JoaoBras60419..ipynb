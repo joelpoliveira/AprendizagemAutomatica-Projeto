{
 "cells": [
  {
   "cell_type": "code",
   "execution_count": 325,
   "id": "60d15fd0",
   "metadata": {},
   "outputs": [],
   "source": [
    "import pandas as pd\n",
    "import numpy as np\n",
    "import matplotlib.pyplot as plt\n",
    "from sklearn.metrics import (mean_squared_error, explained_variance_score, max_error,\n",
    "                             precision_score, recall_score, f1_score, matthews_corrcoef,\n",
    "                            confusion_matrix, ConfusionMatrixDisplay)\n",
    "from sklearn.linear_model import LinearRegression, Lasso, Ridge, LogisticRegression\n",
    "from sklearn.tree import DecisionTreeRegressor, DecisionTreeClassifier\n",
    "from sklearn.model_selection import KFold, train_test_split\n",
    "from sklearn.preprocessing import StandardScaler"
   ]
  },
  {
   "cell_type": "markdown",
   "id": "9679a2e3",
   "metadata": {},
   "source": [
    "# Objetivo 1"
   ]
  },
  {
   "cell_type": "code",
   "execution_count": 402,
   "id": "562b1f23",
   "metadata": {},
   "outputs": [],
   "source": [
    "data = pd.read_csv(\"parkinsons_updrs.data\")\n",
    "#Separate X from y\n",
    "X = data.drop(columns=[\"total_UPDRS\", \"motor_UPDRS\"])\n",
    "y = data[\"motor_UPDRS\"]"
   ]
  },
  {
   "cell_type": "code",
   "execution_count": 403,
   "id": "8e41bf46",
   "metadata": {},
   "outputs": [],
   "source": [
    "#Separate Training set from Independent Validations Set\n",
    "(X_train, X_IND, \n",
    " y_train, y_IND) = train_test_split(X, y, test_size=361, random_state=361)"
   ]
  },
  {
   "cell_type": "code",
   "execution_count": 404,
   "id": "36e63906",
   "metadata": {},
   "outputs": [],
   "source": [
    "#join X and y from the training set\n",
    "data_train = pd.concat((X_train, y_train), axis=1 )\n",
    "X_train = X_train.drop(columns=[\"subject#\", \"test_time\"])"
   ]
  },
  {
   "cell_type": "code",
   "execution_count": 405,
   "id": "f4c2f8a2",
   "metadata": {},
   "outputs": [],
   "source": [
    "def get_model_statistics_simple(model, X, y):\n",
    "    kf = KFold(n_splits=16)\n",
    "    X_train, X_test, y_train, y_test = train_test_split(X, y, test_size=0.5, random_state=21)\n",
    "    temp_model = model.fit(X_train, y_train)\n",
    "    train_preds = temp_model.predict(X_train)\n",
    "    train_rmse = np.sqrt(mean_squared_error(y_train, train_preds))\n",
    "    preds = temp_model.predict(X_test)\n",
    "    test_rmse = np.sqrt(mean_squared_error(y_test, preds))\n",
    "    pearse = ( np.corrcoef(y_test, preds)[0,1] )\n",
    "    rve = ( explained_variance_score(y_test, preds) )\n",
    "    max_err = ( np.abs(y_test - preds).max() )\n",
    "    return (train_rmse,test_rmse,pearse,rve,max_err)"
   ]
  },
  {
   "cell_type": "code",
   "execution_count": 406,
   "id": "bb5cc5a9",
   "metadata": {},
   "outputs": [],
   "source": [
    "def get_model_statistics_cv(model, X, y):\n",
    "    kf = KFold(n_splits=16)\n",
    "    pearse = []\n",
    "    test_rmse = []\n",
    "    train_rmse = []\n",
    "    rve = []\n",
    "    max_err = []\n",
    "    for train_index, test_index in kf.split(X):\n",
    "        X_train, X_test = X.iloc[train_index], X.iloc[test_index]\n",
    "        y_train, y_test = y.iloc[train_index], y.iloc[test_index]\n",
    "        temp_model = model.fit(X_train, y_train)\n",
    "        train_preds = temp_model.predict(X_train)\n",
    "        preds = temp_model.predict(X_test)\n",
    "        train_rmse.append(np.sqrt(mean_squared_error(y_train, train_preds)))\n",
    "        pearse.append( np.corrcoef(y_test, preds)[0,1] )\n",
    "        test_rmse.append( np.sqrt(mean_squared_error(y_test, preds)) )\n",
    "        rve.append( explained_variance_score(y_test, preds) )\n",
    "        max_err.append( np.abs(y_test - preds).max() )\n",
    "    return (np.mean(pearse),np.mean(test_rmse),np.mean(rve),np.max(max_err),np.mean(train_rmse))"
   ]
  },
  {
   "cell_type": "code",
   "execution_count": 407,
   "id": "37ca0031",
   "metadata": {},
   "outputs": [],
   "source": [
    "alphas = np.linspace(0.01, 5, 100)"
   ]
  },
  {
   "cell_type": "code",
   "execution_count": 408,
   "id": "2c2391f7",
   "metadata": {
    "scrolled": true
   },
   "outputs": [],
   "source": [
    "results = pd.DataFrame(columns = [\"Pearson\", \"Test RMSE\", \"RVE\", \"Max_err\", \"Train RMSE\"])\n",
    "for alpha in alphas:\n",
    "    (train_rmse, test_rmse, \n",
    "     pearse, rve, max_err) = get_model_statistics_simple(Ridge(alpha=alpha), X_train, y_train)\n",
    "    results.loc[alpha] = {\"Pearson\": pearse,\"Test RMSE\": test_rmse,\"RVE\":rve,\n",
    "        \"Max_err\": max_err,\"Train RMSE\": train_rmse}"
   ]
  },
  {
   "cell_type": "code",
   "execution_count": 409,
   "id": "1019a0b9",
   "metadata": {},
   "outputs": [
    {
     "data": {
      "image/png": "[encoded data removed]",
      "text/plain": [
       "<Figure size 400x200 with 1 Axes>"
      ]
     },
     "metadata": {},
     "output_type": "display_data"
    }
   ],
   "source": [
    "def plot_df(df, column, ax, title=\"\", x_label=\"\", y_label=\"\", legend=\"\"):\n",
    "    ax.set_title(title)\n",
    "    ax.set_ylabel(y_label)\n",
    "    ax.set_xlabel(x_label)\n",
    "    ax.plot(df.index, df[column], \"-*\", label=legend, markersize=1)\n",
    "    ax.legend()\n",
    "f = plt.figure(figsize=(4,2)); ax = plt.axes()\n",
    "plot_df(results, \"Train RMSE\", ax, legend=\"Train RMSE\")\n",
    "plot_df(results, \"Test RMSE\", ax, legend=\"Test RMSE\", title=\"RMSE\",)"
   ]
  },
  {
   "cell_type": "code",
   "execution_count": null,
   "id": "7e8cc737",
   "metadata": {},
   "outputs": [],
   "source": [
    "f,ax = plt.subplots(1,2, figsize=(12,4))\n",
    "ax[0].plot(results.index, results.Max_err, \"-*\"); ax[0].set_title(\"Max Error in the Model\")\n",
    "ax[1].plot(results.index, results.Pearson, '-*');ax[1].set_title(\"Pearson Correlation Coef.\")"
   ]
  },
  {
   "cell_type": "code",
   "execution_count": null,
   "id": "fac14b39",
   "metadata": {
    "scrolled": true
   },
   "outputs": [],
   "source": [
    "coefs = pd.DataFrame(columns=X_train.columns)\n",
    "for alpha in alphas:\n",
    "    model = Ridge(alpha=alpha).fit(X_train, y_train)\n",
    "    coefs.loc[alpha] = dict(zip(model.feature_names_in_, model.coef_))\n",
    "coefs.plot(figsize=(12,10));"
   ]
  },
  {
   "cell_type": "code",
   "execution_count": 411,
   "id": "32ba4331",
   "metadata": {},
   "outputs": [
    {
     "data": {
      "image/png": "[encoded data removed]",
      "text/plain": [
       "<Figure size 400x200 with 1 Axes>"
      ]
     },
     "metadata": {},
     "output_type": "display_data"
    }
   ],
   "source": [
    "results = pd.DataFrame(columns = [\"Pearson\", \"Test RMSE\", \"RVE\", \"Max_err\", \"Train RMSE\"])\n",
    "for alpha in alphas:\n",
    "    (train_rmse, test_rmse, \n",
    "     pearse, rve, max_err) = get_model_statistics_simple(Lasso(alpha=alpha), X_train, y_train)\n",
    "    results.loc[alpha] = {\"Pearson\": pearse,\"Test RMSE\": test_rmse,\"RVE\":rve,\n",
    "        \"Max_err\": max_err,\"Train RMSE\": train_rmse}\n",
    "f = plt.figure(figsize=(4,2)); ax = plt.axes()\n",
    "plot_df(results, \"Train RMSE\", ax, legend=\"Train RMSE\")\n",
    "plot_df(results, \"Test RMSE\", ax, legend=\"Test RMSE\", title=\"RMSE\",)"
   ]
  },
  {
   "cell_type": "code",
   "execution_count": null,
   "id": "b4fe61ac",
   "metadata": {},
   "outputs": [],
   "source": [
    "coefs = pd.DataFrame(columns=X_train.columns)\n",
    "for alpha in alphas:\n",
    "    model = Ridge(alpha=alpha).fit(X_train, y_train)\n",
    "    coefs.loc[alpha] = dict(zip(model.feature_names_in_, model.coef_))\n",
    "coefs.plot(figsize=(12,10));"
   ]
  },
  {
   "cell_type": "code",
   "execution_count": 413,
   "id": "ba8c4b3e",
   "metadata": {},
   "outputs": [],
   "source": [
    "def plot_stats(x, y, ax, title=\"\", x_label=\"\", y_label=\"\", legend=\"\"):\n",
    "    ax.set_title(title)\n",
    "    ax.set_xlabel(x_label, fontsize=12)\n",
    "    ax.set_ylabel(y_label, fontsize=12)\n",
    "    ax.grid(True)\n",
    "    ax.plot(x, y, \".\",label=legend)\n",
    "    if legend!=\"\":\n",
    "        ax.legend()"
   ]
  },
  {
   "cell_type": "code",
   "execution_count": null,
   "id": "6067cf5a",
   "metadata": {},
   "outputs": [],
   "source": [
    "def loop(a0, x, y, ax ,xlabel, ylabel=\"\", legend=\"\"):\n",
    "    for i in range(len(a0)):\n",
    "        y.append(a0[i][0])\n",
    "    plot_stats(x, y, ax, x_label=xlabel, y_label=ylabel, legend=legend)"
   ]
  },
  {
   "cell_type": "code",
   "execution_count": 418,
   "id": "2435fed9",
   "metadata": {},
   "outputs": [],
   "source": [
    "def plot_all_stats(*args, xlabel=\"\"):\n",
    "    pc =[]\n",
    "    ttrmse = []\n",
    "    rve = []\n",
    "    me = []\n",
    "    tnrmse = []\n",
    "    f, ax = plt.subplots(2,2, figsize=(6,4))\n",
    "    loop(args[0], pc, args[1], a[0,0], \"Pearson Corr.\")\n",
    "    loop(args[0], ttrmse, args[1], a[0,1], \"RMSE\", \"Test RMSE\")\n",
    "    loop(args[0], rve, args[1], a[1,0], \"RVE\")\n",
    "    loop(args[0], me, args[1], a[1,1], \"Max. Error\")\n",
    "    loop(args[0], tnrmse, args[1], a[0,1], \"RMSE\", \"Train RMSE\")\n",
    "    f.tight_layout()\n",
    "    print(args[0][args[2]])"
   ]
  },
  {
   "cell_type": "code",
   "execution_count": 419,
   "id": "3dac88d4",
   "metadata": {},
   "outputs": [
    {
     "name": "stdout",
     "output_type": "stream",
     "text": [
      "(0.9155887478922698, 3.293365826218557, 0.8338803558069359, 21.965400000000006, 1.5841904568985608)\n"
     ]
    },
    {
     "data": {
      "image/png": "[encoded data removed]",
      "text/plain": [
       "<Figure size 600x400 with 4 Axes>"
      ]
     },
     "metadata": {},
     "output_type": "display_data"
    }
   ],
   "source": [
    "m_depth=[]\n",
    "n_depth=[]\n",
    "for d in range(1,20):\n",
    "    depth=d\n",
    "    a=get_model_statistics_cv(DecisionTreeRegressor(splitter='best', max_depth=depth, \n",
    "                                              min_samples_split=2, min_samples_leaf=1, min_weight_fraction_leaf=0.0, \n",
    "                                              max_features=None, random_state=361, \n",
    "                                              max_leaf_nodes=None, min_impurity_decrease=0.0, ccp_alpha=0.0), X_train, y_train)\n",
    "    m_depth.append(a)\n",
    "    n_depth.append(depth)\n",
    "plot_all_stats(m_depth, n_depth, 12, \"Max. Depth\")"
   ]
  },
  {
   "cell_type": "code",
   "execution_count": null,
   "id": "9848c59e",
   "metadata": {},
   "outputs": [],
   "source": [
    "mss=[]\n",
    "nmss=[]\n",
    "for s in range(2,50):\n",
    "    split=s\n",
    "    a=get_model_statistics_cv(DecisionTreeRegressor(splitter='best', max_depth=13, \n",
    "                                              min_samples_split=s, min_samples_leaf=1, min_weight_fraction_leaf=0.0, \n",
    "                                              max_features=None, random_state=361, max_leaf_nodes=None, \n",
    "                                            min_impurity_decrease=0.0, ccp_alpha=0.0), X_train, y_train)\n",
    "    mss.append(a)\n",
    "    nmss.append(split)\n",
    "plot_all_stats(mss, nmss, 32, \"Min. Samples Split\")"
   ]
  },
  {
   "cell_type": "code",
   "execution_count": null,
   "id": "d65798b0",
   "metadata": {},
   "outputs": [],
   "source": [
    "msl=[]\n",
    "nmsl=[]\n",
    "for l in range(1,10):\n",
    "    leaf=l\n",
    "    a=get_model_statistics_cv(DecisionTreeRegressor(splitter='best', max_depth=13, \n",
    "                                              min_samples_split=34, min_samples_leaf=l, min_weight_fraction_leaf=0.0, \n",
    "                                              max_features=None, random_state=361, max_leaf_nodes=None, \n",
    "                                            min_impurity_decrease=0.0, ccp_alpha=0.0), X_train, y_train)\n",
    "    msl.append(a)\n",
    "    nmsl.append(leaf)\n",
    "plot_all_stats(msl, nmsl, 1, \"Min. Samples Leaf\")"
   ]
  },
  {
   "cell_type": "code",
   "execution_count": null,
   "id": "a04e25f6",
   "metadata": {},
   "outputs": [],
   "source": [
    "mf=[]\n",
    "nmf=[1,2,3]\n",
    "model = DecisionTreeRegressor(splitter='best', max_depth=13, min_samples_split=34, min_samples_leaf=2, \n",
    "                              min_weight_fraction_leaf=0.0, max_features=None, random_state=361, \n",
    "                                max_leaf_nodes=None, min_impurity_decrease=0.0, ccp_alpha=0.0)\n",
    "a=get_model_statistics_cv(model, X_train, y_train)\n",
    "b=get_model_statistics_cv(model, X_train, y_train)\n",
    "c=get_model_statistics_cv(model, X_train, y_train)\n",
    "mf.append(a); mf.append(b); mf.append(c)\n",
    "plot_all_stats(mf, nmf, 0, \"Max. Features\")"
   ]
  },
  {
   "cell_type": "code",
   "execution_count": null,
   "id": "7616af54",
   "metadata": {},
   "outputs": [],
   "source": [
    "mln=[]\n",
    "nmln=[]\n",
    "z=get_model_statistics_cv(DecisionTreeRegressor(splitter='best', max_depth=13, \n",
    "                                              min_samples_split=34, min_samples_leaf=34, min_weight_fraction_leaf=0.0, \n",
    "                                              max_features=None, random_state=361, \n",
    "                                              max_leaf_nodes=None, min_impurity_decrease=0.0, ccp_alpha=0.0), X_train, y_train)\n",
    "mln.append(z); nmln.append(0)\n",
    "for l in range(2,50):\n",
    "    leaf=l\n",
    "    a=get_model_statistics_cv(DecisionTreeRegressor(splitter='best', max_depth=13, \n",
    "                                              min_samples_split=34, min_samples_leaf=34, min_weight_fraction_leaf=0.0, \n",
    "                                              max_features=None, random_state=361, \n",
    "                                              max_leaf_nodes=l, min_impurity_decrease=0.0, ccp_alpha=0.0), X_train, y_train)\n",
    "    mln.append(a); nmln.append(leaf)\n",
    "plot_all_stats(mln, nmln, 0, \"Max. Leaf Nodes\")"
   ]
  },
  {
   "cell_type": "code",
   "execution_count": null,
   "id": "086f05a5",
   "metadata": {},
   "outputs": [],
   "source": [
    "mid=[]\n",
    "nmid=[]\n",
    "dez=[]\n",
    "for i in range(31):\n",
    "    dez.append(i/600)\n",
    "for i in dez:\n",
    "    impurity=i\n",
    "    a=get_model_statistics_cv(DecisionTreeRegressor(splitter='best', max_depth=13, \n",
    "                                              min_samples_split=34, min_samples_leaf=2, min_weight_fraction_leaf=0.0, \n",
    "                                              max_features=None, random_state=361, \n",
    "                                              max_leaf_nodes=None, min_impurity_decrease=i, ccp_alpha=0.0), X_train, y_train)\n",
    "    mid.append(a)\n",
    "    nmid.append(impurity)\n",
    "plot_all_stats(mid, nmid, 15, \"Min. Impurity Decrease\")"
   ]
  },
  {
   "cell_type": "code",
   "execution_count": 338,
   "id": "7359eab1",
   "metadata": {},
   "outputs": [
    {
     "data": {
      "text/plain": [
       "(0.9308201935003684,\n",
       " 2.966368667047948,\n",
       " 0.8659370527232023,\n",
       " 21.005658536585358,\n",
       " 2.571550254121365)"
      ]
     },
     "execution_count": 338,
     "metadata": {},
     "output_type": "execute_result"
    }
   ],
   "source": [
    "get_model_statistics_cv(DecisionTreeRegressor(splitter='best', max_depth=13, \n",
    "                                              min_samples_split=34, min_samples_leaf=2, \n",
    "                                              min_weight_fraction_leaf=0.0, \n",
    "                                              max_features=None, random_state=361, \n",
    "                                              max_leaf_nodes=None, min_impurity_decrease=0.025, \n",
    "                                              ccp_alpha=0.0), X_train, y_train)"
   ]
  },
  {
   "cell_type": "markdown",
   "id": "5371dcea",
   "metadata": {},
   "source": [
    "## Validação"
   ]
  },
  {
   "cell_type": "code",
   "execution_count": 339,
   "id": "065e98de",
   "metadata": {},
   "outputs": [],
   "source": [
    "X_IND=X_IND.drop(columns=['subject#','test_time'])"
   ]
  },
  {
   "cell_type": "code",
   "execution_count": 340,
   "id": "26204a3f",
   "metadata": {},
   "outputs": [],
   "source": [
    "modelo=DecisionTreeRegressor(splitter='best', max_depth=13, min_samples_split=34, \n",
    "                             min_samples_leaf=2, min_weight_fraction_leaf=0.0, \n",
    "                            max_features=None, random_state=361, max_leaf_nodes=None, \n",
    "                             min_impurity_decrease=0.025, ccp_alpha=0.0).fit(X_train,y_train)\n",
    "preds=modelo.predict(X_IND)"
   ]
  },
  {
   "cell_type": "code",
   "execution_count": 341,
   "id": "6ac4bd34",
   "metadata": {},
   "outputs": [
    {
     "name": "stdout",
     "output_type": "stream",
     "text": [
      "Pearson: 0.933838062240891\n",
      "Test RMSE: 2.906698676507129\n",
      "Max err: 14.219776041666652\n",
      "RVE:  0.8714433159104555\n",
      "Train RMSE: 2.538464349864012\n"
     ]
    }
   ],
   "source": [
    "print(\"Pearson:\", np.corrcoef(y_IND, preds)[0,1])\n",
    "print(\"Test RMSE:\", np.sqrt( mean_squared_error( y_IND, preds) ))\n",
    "print(\"Max err:\", max_error(y_IND, preds ))\n",
    "print(\"RVE: \", explained_variance_score(y_IND, preds))\n",
    "print(\"Train RMSE:\", np.sqrt(mean_squared_error(y_train, modelo.predict(X_train))))"
   ]
  },
  {
   "cell_type": "markdown",
   "id": "e9158faf",
   "metadata": {},
   "source": [
    "# Objetivo 2"
   ]
  },
  {
   "cell_type": "code",
   "execution_count": 386,
   "id": "e83b4a07",
   "metadata": {},
   "outputs": [],
   "source": [
    "data = pd.read_csv(\"parkinsons_updrs.data\")"
   ]
  },
  {
   "cell_type": "code",
   "execution_count": 387,
   "id": "6c7e956e",
   "metadata": {},
   "outputs": [],
   "source": [
    "#Separate X from y\n",
    "X = data.drop(columns=[\"total_UPDRS\", \"motor_UPDRS\"])\n",
    "y = data[\"total_UPDRS\"].map(lambda x: 1 if x>40 else 0)"
   ]
  },
  {
   "cell_type": "code",
   "execution_count": 389,
   "id": "34f50853",
   "metadata": {},
   "outputs": [],
   "source": [
    "#Separate Training set from Independent Validations Set\n",
    "(X_train, X_IND, \n",
    " y_train, y_IND) = train_test_split(X, y, test_size=361, random_state=361)"
   ]
  },
  {
   "cell_type": "code",
   "execution_count": 390,
   "id": "9e80aa74",
   "metadata": {},
   "outputs": [],
   "source": [
    "#join X and y from the training set\n",
    "data_train = pd.concat((X_train, y_train), axis=1 )\n",
    "X_train = X_train.drop(columns=[\"subject#\", \"test_time\"])"
   ]
  },
  {
   "cell_type": "code",
   "execution_count": 391,
   "id": "6c1587a4",
   "metadata": {},
   "outputs": [],
   "source": [
    "def get_model_statistics_simple(model, X, y, plot=False, *args, **kwargs):    \n",
    "    X_train, X_test, y_train, y_test = train_test_split(X, y, test_size=0.5)\n",
    "    scaler = StandardScaler().fit(X_train)\n",
    "    X_train = scaler.transform(X_train)\n",
    "    #fit model\n",
    "    temp_model = model.fit(X_train, y_train)\n",
    "    #get predictions on test set\n",
    "    X_test = scaler.transform(X_test)\n",
    "    preds = temp_model.predict(X_test)\n",
    "    #get statistics\n",
    "    if np.any(preds)==1:\n",
    "        prec = precision_score(y_test, preds)\n",
    "    else:\n",
    "        prec = np.nan\n",
    "    recall = recall_score(y_test, preds)\n",
    "    f1 = f1_score(y_test, preds)\n",
    "    mcc = matthews_corrcoef(y_test, preds)\n",
    "    #return statistics estimations\n",
    "    return (prec,recall,f1,mcc)"
   ]
  },
  {
   "cell_type": "code",
   "execution_count": 392,
   "id": "78f94694",
   "metadata": {},
   "outputs": [],
   "source": [
    "def get_model_statistics_cv(model, X, y):\n",
    "    kf = KFold(n_splits=16)\n",
    "    #statistic arrays\n",
    "    prec = []\n",
    "    recall = []\n",
    "    f1 = []\n",
    "    mcc = [] \n",
    "    #Get the train/test folds\n",
    "    for train_index, test_index in kf.split(X):\n",
    "        #Create train/test sets\n",
    "        X_train, X_test = X.iloc[train_index], X.iloc[test_index]\n",
    "        y_train, y_test = y.iloc[train_index], y.iloc[test_index]\n",
    "        scaler = StandardScaler()\n",
    "        scaler.fit(X_train)\n",
    "        X_train = scaler.transform(X_train)\n",
    "        #fit model\n",
    "        temp_model = model.fit(X_train, y_train)\n",
    "        #get predictions on test set\n",
    "        X_test = scaler.transform(X_test)\n",
    "        preds = temp_model.predict(X_test)\n",
    "        #get statistics\n",
    "        if np.any(preds)==1:\n",
    "            prec.append(precision_score(y_test, preds))\n",
    "        recall.append( recall_score(y_test, preds) )\n",
    "        f1.append( f1_score(y_test, preds) )\n",
    "        mcc.append( matthews_corrcoef(y_test, preds) )\n",
    "    #return statistics estimations\n",
    "    return (np.mean(prec),np.mean(recall),np.mean(f1),np.mean(mcc))"
   ]
  },
  {
   "cell_type": "code",
   "execution_count": 393,
   "id": "3590fb43",
   "metadata": {},
   "outputs": [],
   "source": [
    "def plot_df(df, column, ax, title=\"\", x_label=\"\", y_label=\"\", legend=\"\"):\n",
    "    ax.set_title(title)\n",
    "    ax.set_ylabel(y_label)\n",
    "    ax.set_xlabel(x_label)\n",
    "    \n",
    "    ax.plot(df.index, df[column], \"-*\", label=legend)\n",
    "    ax.grid(True)\n",
    "    if legend!=\"\":\n",
    "        ax.legend()"
   ]
  },
  {
   "cell_type": "code",
   "execution_count": 394,
   "id": "d81912f6",
   "metadata": {},
   "outputs": [],
   "source": [
    "def plot_all_stats(stats, xlabel=\"\"):\n",
    "    f, ax = plt.subplots(2,2)\n",
    "    plot_df(stats, \"Precision\", ax[0,0], x_label = xlabel, y_label=\"Precision Score\")\n",
    "    plot_df(stats, \"Recall\", ax[0,1], x_label = xlabel, y_label=\"Recall Score\")\n",
    "    plot_df(stats, \"F1 Score\", ax[1,0], x_label = xlabel, y_label=\"F1 Score\")\n",
    "    plot_df(stats, \"MCC\", ax[1,1], x_label = xlabel, y_label=\"MCC\")\n",
    "    f.tight_layout()\n",
    "    print(stats.idxmax())"
   ]
  },
  {
   "cell_type": "code",
   "execution_count": 395,
   "id": "6d5bf162",
   "metadata": {},
   "outputs": [],
   "source": [
    "criteria = [\"gini\", \"entropy\"]; max_depth = range(3, 30+1) ;min_sample_split = range(2, 30+1)\n",
    "min_samples_leaf = range(1, 50+1); max_leaf_nodes = range(2,50); min_imp = np.linspace(0,0.05,100)\n",
    "columns = [\"Precision\", \"Recall\", \"F1 Score\", \"MCC\"]"
   ]
  },
  {
   "cell_type": "code",
   "execution_count": null,
   "id": "0b373f4c",
   "metadata": {},
   "outputs": [],
   "source": [
    "# max_depth\n",
    "stats = pd.DataFrame(columns=columns)\n",
    "for d in max_depth:\n",
    "    temp = get_model_statistics_cv(\n",
    "        DecisionTreeClassifier(criterion=criteria[1], max_depth=d), X_train, y_train,)\n",
    "    stats.loc[d] = dict(zip(columns, temp))\n",
    "plot_all_stats(stats, xlabel=\"Max. Depth\")"
   ]
  },
  {
   "cell_type": "code",
   "execution_count": null,
   "id": "c6fd589e",
   "metadata": {},
   "outputs": [],
   "source": [
    "# min_sample_split\n",
    "stats = pd.DataFrame(columns=columns)\n",
    "for s in min_sample_split:\n",
    "    temp = get_model_statistics_cv(\n",
    "        DecisionTreeClassifier(criterion=criteria[1], max_depth=7, \n",
    "                               min_samples_split=s), X_train, y_train,)\n",
    "    stats.loc[s] = dict(zip(columns, temp))\n",
    "plot_all_stats(stats, xlabel=\"Min. Samples Split\")"
   ]
  },
  {
   "cell_type": "code",
   "execution_count": null,
   "id": "630f7c27",
   "metadata": {},
   "outputs": [],
   "source": [
    "#min_samples_leaf\n",
    "stats = pd.DataFrame(columns=columns)\n",
    "for s in min_samples_leaf:\n",
    "    temp = get_model_statistics_cv(\n",
    "        DecisionTreeClassifier(criterion=criteria[1], max_depth=7,\n",
    "                               min_samples_split=29, min_samples_leaf=s), X_train, y_train,)\n",
    "    stats.loc[s] = dict(zip(columns, temp))\n",
    "plot_all_stats(stats, xlabel=\"Min. Samples Leaf\")"
   ]
  },
  {
   "cell_type": "code",
   "execution_count": null,
   "id": "c8bb0f3a",
   "metadata": {},
   "outputs": [],
   "source": [
    "#max_leaf_nodes\n",
    "stats = pd.DataFrame(columns=columns)\n",
    "for s in max_leaf_nodes:\n",
    "    temp = get_model_statistics_cv(\n",
    "        DecisionTreeClassifier(criterion=criteria[1], max_depth=7,\n",
    "                               min_samples_split=29, min_samples_leaf=4,\n",
    "                              max_leaf_nodes=s), X_train, y_train,)\n",
    "    stats.loc[s] = dict(zip(columns, temp))\n",
    "plot_all_stats(stats, xlabel=\"Max. Leaf Nodes\")"
   ]
  },
  {
   "cell_type": "code",
   "execution_count": null,
   "id": "b7abd660",
   "metadata": {
    "scrolled": true
   },
   "outputs": [],
   "source": [
    "#min_impurity_decrease\n",
    "stats = pd.DataFrame(columns=columns)\n",
    "for s in min_imp:\n",
    "    temp = get_model_statistics_cv(\n",
    "        DecisionTreeClassifier(criterion=criteria[1], max_depth=7, min_samples_split=29, \n",
    "                                min_samples_leaf=4, max_leaf_nodes=28, \n",
    "                               min_impurity_decrease=s), X_train, y_train,)\n",
    "    stats.loc[s] = dict(zip(columns, temp))\n",
    "plot_all_stats(stats, xlabel=\"Min. Impurity Decrease\")"
   ]
  },
  {
   "cell_type": "code",
   "execution_count": 354,
   "id": "a4d30c31",
   "metadata": {},
   "outputs": [
    {
     "data": {
      "text/plain": [
       "(0.8215224587034152,\n",
       " 0.8022553855948714,\n",
       " 0.8107803065844441,\n",
       " 0.7731348771480981)"
      ]
     },
     "execution_count": 354,
     "metadata": {},
     "output_type": "execute_result"
    }
   ],
   "source": [
    "dt = DecisionTreeClassifier(criterion=criteria[1], max_depth=7,\n",
    "                               min_samples_split=29, min_samples_leaf=4,\n",
    "                              max_leaf_nodes=28)\n",
    "get_model_statistics_cv(dt, X_train, y_train)"
   ]
  },
  {
   "cell_type": "code",
   "execution_count": null,
   "id": "15bf2aeb",
   "metadata": {},
   "outputs": [],
   "source": [
    "for col in X_train.columns:\n",
    "    data_train.plot(x=col, y=\"total_UPDRS\", ls=\"\", marker=\"*\", markersize=1, ylabel=\"total_UPDRS > 40\")"
   ]
  },
  {
   "cell_type": "code",
   "execution_count": 356,
   "id": "2b627c55",
   "metadata": {},
   "outputs": [
    {
     "name": "stdout",
     "output_type": "stream",
     "text": [
      "Precision: 0.3181818181818182 \n",
      "Recall: 0.004364296556358917 \n",
      "F1: 0.008547730854026252 \n",
      "MCC 0.014537910213583069\n"
     ]
    }
   ],
   "source": [
    "(pred, recall,\n",
    " f1, mcc) = get_model_statistics_cv(LogisticRegression(random_state=361), X_train, y_train, normalize = True)\n",
    "print(\"Precision:\", pred, \"\\nRecall:\", recall, \"\\nF1:\", f1, \"\\nMCC\", mcc)"
   ]
  },
  {
   "cell_type": "markdown",
   "id": "e10dee0c",
   "metadata": {},
   "source": [
    "## Validação"
   ]
  },
  {
   "cell_type": "code",
   "execution_count": 357,
   "id": "480059c5",
   "metadata": {},
   "outputs": [
    {
     "name": "stdout",
     "output_type": "stream",
     "text": [
      "0.8275862068965517\n",
      "0.7868852459016393\n",
      "0.8067226890756303\n",
      "0.7689594000412863\n"
     ]
    }
   ],
   "source": [
    "dt = DecisionTreeClassifier(criterion=criteria[1], max_depth=7, min_samples_split=29, \n",
    "                            min_samples_leaf=4, max_leaf_nodes=28)\n",
    "scaler = StandardScaler().fit(X_train)\n",
    "dt.fit(scaler.transform(X_train), y_train)\n",
    "preds = dt.predict(scaler.transform(X_IND.drop(columns=[\"subject#\", \"test_time\"])))\n",
    "print(precision_score(y_IND, preds), recall_score(y_IND, preds), f1_score(y_IND, preds),\n",
    "    matthews_corrcoef(y_IND, preds), sep=\"\\n\")"
   ]
  }
 ],
 "metadata": {
  "kernelspec": {
   "display_name": "Python 3 (ipykernel)",
   "language": "python",
   "name": "python3"
  },
  "language_info": {
   "codemirror_mode": {
    "name": "ipython",
    "version": 3
   },
   "file_extension": ".py",
   "mimetype": "text/x-python",
   "name": "python",
   "nbconvert_exporter": "python",
   "pygments_lexer": "ipython3",
   "version": "3.9.7"
  }
 },
 "nbformat": 4,
 "nbformat_minor": 5
}
