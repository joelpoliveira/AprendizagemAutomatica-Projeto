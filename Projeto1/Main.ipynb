{
 "cells": [
  {
   "cell_type": "code",
   "execution_count": null,
   "id": "60d15fd0",
   "metadata": {},
   "outputs": [],
   "source": [
    "import pandas as pd\n",
    "import numpy as np\n",
    "import json\n",
    "import matplotlib.pyplot as plt\n",
    "from sklearn.metrics import (classification_report, matthews_corrcoef,\n",
    "                            confusion_matrix, ConfusionMatrixDisplay,\n",
    "                            mean_squared_error, explained_variance_score)\n",
    "from sklearn.linear_model import LinearRegression, LogisticRegression\n",
    "from sklearn.tree import DecisionTreeClassifier, DecisionTreeRegressor\n",
    "from sklearn.model_selection import KFold, LeaveOneOut, train_test_split\n",
    "\n",
    "from sklearn.tree import DecisionTreeRegressor\n",
    "from sklearn.linear_model import LinearRegression\n",
    "\n",
    "from sklearn.model_selection import cross_val_score\n",
    "from itertools import combinations\n",
    "from time import time"
   ]
  },
  {
   "cell_type": "code",
   "execution_count": null,
   "id": "562b1f23",
   "metadata": {},
   "outputs": [],
   "source": [
    "data = pd.read_csv(\"parkinsons_updrs.data\")"
   ]
  },
  {
   "cell_type": "code",
   "execution_count": null,
   "id": "e939e382",
   "metadata": {},
   "outputs": [],
   "source": [
    "data.info()"
   ]
  },
  {
   "cell_type": "code",
   "execution_count": null,
   "id": "17208b1d",
   "metadata": {
    "scrolled": true
   },
   "outputs": [],
   "source": [
    "data.columns"
   ]
  },
  {
   "cell_type": "code",
   "execution_count": null,
   "id": "5dc6dc8b",
   "metadata": {},
   "outputs": [],
   "source": [
    "X = data.drop(columns=[\"total_UPDRS\", \"motor_UPDRS\"])\n",
    "y = data[\"motor_UPDRS\"]"
   ]
  },
  {
   "cell_type": "code",
   "execution_count": null,
   "id": "8e41bf46",
   "metadata": {},
   "outputs": [],
   "source": [
    "X_train, X_IND, y_train, y_IND = train_test_split(X, y, test_size=361, random_state=361)"
   ]
  },
  {
   "cell_type": "code",
   "execution_count": null,
   "id": "36e63906",
   "metadata": {},
   "outputs": [],
   "source": [
    "data_train = pd.concat((X_train, y_train), axis=1 )"
   ]
  },
  {
   "cell_type": "code",
   "execution_count": null,
   "id": "35d8be57",
   "metadata": {},
   "outputs": [],
   "source": [
    "data_train[data_train[\"subject#\"]==20].plot(x=\"test_time\", y = \"motor_UPDRS\", ls=\"\", marker=\"o\")"
   ]
  },
  {
   "cell_type": "code",
   "execution_count": null,
   "id": "228a7827",
   "metadata": {},
   "outputs": [],
   "source": [
    "data_train.columns"
   ]
  },
  {
   "cell_type": "code",
   "execution_count": null,
   "id": "e229b3cf",
   "metadata": {},
   "outputs": [],
   "source": [
    "data_train.sex.unique()"
   ]
  },
  {
   "cell_type": "code",
   "execution_count": null,
   "id": "8837ac27",
   "metadata": {
    "scrolled": false
   },
   "outputs": [],
   "source": [
    "sns.boxplot(data=data_train, x=\"sex\", y=\"motor_UPDRS\")"
   ]
  },
  {
   "cell_type": "code",
   "execution_count": null,
   "id": "63bb36ef",
   "metadata": {},
   "outputs": [],
   "source": [
    "X_train = X_train.drop(columns=[\"subject#\", \"test_time\"])"
   ]
  },
  {
   "cell_type": "code",
   "execution_count": null,
   "id": "33780e61",
   "metadata": {},
   "outputs": [],
   "source": [
    "stats = pd.DataFrame(columns=[\"Pearson\", \"RMSE\", \"RVE\", \"MaxError\"])\n",
    "folder = KFold(n_splits=16)\n",
    "\n",
    "#Create Linear model 1D , for each X variable.\n",
    "for xi in X_train.columns:\n",
    "    #Use this 4 statistics to get information about how a variable affects the response\n",
    "    pearse = []\n",
    "    rmse = []\n",
    "    rve = []\n",
    "    max_err = []\n",
    "    \n",
    "    #KFold cv to get statistics\n",
    "    for train_index, test_index in folder.split(X_train):\n",
    "        lm = LinearRegression()\n",
    "        \n",
    "        x_train, x_test = X_train.iloc[train_index], X_train.iloc[test_index]\n",
    "        yy_train, yy_test = y_train.iloc[train_index], y_train.iloc[test_index]\n",
    "        \n",
    "        lm = lm.fit(x_train[xi].to_numpy().reshape(-1,1), yy_train)\n",
    "        preds=lm.predict(x_test[xi].to_numpy().reshape(-1,1))\n",
    "        \n",
    "        pearse.append( np.corrcoef(yy_test, preds)[0,1] )\n",
    "        rmse.append( np.sqrt(mean_squared_error(yy_test, preds)) )\n",
    "        rve.append( explained_variance_score(yy_test, preds) )\n",
    "        max_err.append( np.abs(yy_test - preds).max() )\n",
    "    \n",
    "    stats.loc[xi] = {\"Pearson\": np.mean(pearse),\n",
    "                    \"RMSE\": np.mean(rmse),\n",
    "                    \"RVE\": np.mean(rve),\n",
    "                    \"MaxError\": np.mean(max_err)}"
   ]
  },
  {
   "cell_type": "code",
   "execution_count": null,
   "id": "ea50807f",
   "metadata": {},
   "outputs": [],
   "source": [
    "stats.sort_values(by=\"Pearson\", ascending=False)"
   ]
  },
  {
   "cell_type": "code",
   "execution_count": null,
   "id": "6cefc5b9",
   "metadata": {},
   "outputs": [],
   "source": [
    "def conf_int(arr, n, conf):\n",
    "    z = {\n",
    "        99: 2.576, \n",
    "        95: 1.960,\n",
    "        90: 1.645,\n",
    "        85: 1.440,\n",
    "        80: 1.282,\n",
    "    }\n",
    "    mean = np.mean(arr)\n",
    "    std = np.std(arr)\n",
    "    temp = z[conf] * (std/np.sqrt(n))\n",
    "    \n",
    "    min_v = mean - temp\n",
    "    max_v = mean + temp\n",
    "    return min_v, max_v"
   ]
  },
  {
   "cell_type": "code",
   "execution_count": null,
   "id": "1746cfee",
   "metadata": {},
   "outputs": [],
   "source": [
    "def bootstrap(model, X, y, test_size, n):\n",
    "    \n",
    "    pearse=[]\n",
    "    rve=[]\n",
    "    rmse=[]\n",
    "    max_err=[]\n",
    "    for i in range(n):\n",
    "        (X_train, X_test, \n",
    "         y_train, y_test) = train_test_split(X, y, test_size=test_size)\n",
    "        temp_model = model().fit(X_train, y_train)\n",
    "        \n",
    "        preds = temp_model.predict(X_test)\n",
    "        \n",
    "        pearse.append( np.corrcoef(preds, y_test)[0,1] )\n",
    "        rve.append( explained_variance_score(y_test, preds) )\n",
    "        rmse.append( np.sqrt(mean_squared_error(y_test, preds) ) )\n",
    "        max_err.append( np.abs(y_test - preds).max() )\n",
    "    \n",
    "    stats = pd.Series(\n",
    "        data = [conf_int(pearse, n, 95),\n",
    "               conf_int(rve, n, 95),\n",
    "               conf_int(rmse, n, 95),\n",
    "               conf_int(max_err, n, 95)],\n",
    "        index = [\"Pearson\", \"RVE\", \"RMSE\", \"MaxErr\"]\n",
    "    )\n",
    "    return stats"
   ]
  },
  {
   "cell_type": "code",
   "execution_count": null,
   "id": "bb9531d3",
   "metadata": {},
   "outputs": [],
   "source": [
    "bootstrap(LinearRegression, X_train[[\"age\", \"HNR\", \"PPE\", \"Shimmer:APQ11\"]], y_train, 0.2, 1000)"
   ]
  }
 ],
 "metadata": {
  "kernelspec": {
   "display_name": "Python 3 (ipykernel)",
   "language": "python",
   "name": "python3"
  },
  "language_info": {
   "codemirror_mode": {
    "name": "ipython",
    "version": 3
   },
   "file_extension": ".py",
   "mimetype": "text/x-python",
   "name": "python",
   "nbconvert_exporter": "python",
   "pygments_lexer": "ipython3",
   "version": "3.9.7"
  }
 },
 "nbformat": 4,
 "nbformat_minor": 5
}
