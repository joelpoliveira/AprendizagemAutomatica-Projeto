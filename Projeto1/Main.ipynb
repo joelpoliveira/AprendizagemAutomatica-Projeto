{
 "cells": [
  {
   "cell_type": "code",
   "execution_count": null,
   "id": "60d15fd0",
   "metadata": {},
   "outputs": [],
   "source": [
    "import pandas as pd\n",
    "import numpy as np\n",
    "import matplotlib.pyplot as plt\n",
    "from sklearn.metrics import (classification_report, matthews_corrcoef,\n",
    "                            confusion_matrix, ConfusionMatrixDisplay)\n",
    "from sklearn.linear_model import LinearRegression, LogisticRegression\n",
    "from sklearn.tree import DecisionTreeClassifier, DecisionTreeRegressor\n",
    "from sklearn.model_selection import KFold, LeaveOneOut, train_test_split"
   ]
  },
  {
   "cell_type": "code",
   "execution_count": null,
   "id": "562b1f23",
   "metadata": {},
   "outputs": [],
   "source": [
    "data = pd.read_csv(\"parkinsons_updrs.data\")"
   ]
  },
  {
   "cell_type": "code",
   "execution_count": null,
   "id": "17208b1d",
   "metadata": {
    "scrolled": true
   },
   "outputs": [],
   "source": [
    "data.columns"
   ]
  },
  {
   "cell_type": "code",
   "execution_count": null,
   "id": "5dc6dc8b",
   "metadata": {},
   "outputs": [],
   "source": [
    "X = data.drop(columns=[\"total_UPDRS\", \"motor_UPDRS\"])\n",
    "y = data[\"motor_UPDRS\"]"
   ]
  },
  {
   "cell_type": "code",
   "execution_count": null,
   "id": "8e41bf46",
   "metadata": {},
   "outputs": [],
   "source": [
    "X_train, X_IND, y_train, y_IND = train_test_split(X, y, test_size=361, random_state=361)"
   ]
  },
  {
   "cell_type": "code",
   "execution_count": null,
   "id": "36e63906",
   "metadata": {},
   "outputs": [],
   "source": [
    "data_train = pd.concat((X_train, y_train), axis=1 )"
   ]
  },
  {
   "cell_type": "code",
   "execution_count": null,
   "id": "d228aadc",
   "metadata": {},
   "outputs": [],
   "source": [
    "data[\"subject#\"].value_counts().plot.bar()"
   ]
  },
  {
   "cell_type": "code",
   "execution_count": null,
   "id": "b391b0e5",
   "metadata": {},
   "outputs": [],
   "source": []
  },
  {
   "cell_type": "code",
   "execution_count": null,
   "id": "35d8be57",
   "metadata": {},
   "outputs": [],
   "source": []
  }
 ],
 "metadata": {
  "kernelspec": {
   "display_name": "Python 3 (ipykernel)",
   "language": "python",
   "name": "python3"
  },
  "language_info": {
   "codemirror_mode": {
    "name": "ipython",
    "version": 3
   },
   "file_extension": ".py",
   "mimetype": "text/x-python",
   "name": "python",
   "nbconvert_exporter": "python",
   "pygments_lexer": "ipython3",
   "version": "3.9.7"
  }
 },
 "nbformat": 4,
 "nbformat_minor": 5
}
