{
 "cells": [
  {
   "cell_type": "code",
   "execution_count": null,
   "id": "d15d3a43",
   "metadata": {},
   "outputs": [],
   "source": [
    "import pandas as pd\n",
    "import numpy as np\n",
    "import matplotlib.pyplot as plt\n",
    "\n",
    "from sklearn.metrics import (classification_report, matthews_corrcoef,\n",
    "                             precision_score, recall_score, f1_score,\n",
    "                            confusion_matrix, ConfusionMatrixDisplay)\n",
    "\n",
    "from sklearn.linear_model import LogisticRegression\n",
    "from sklearn.tree import DecisionTreeClassifier\n",
    "from sklearn.discriminant_analysis import LinearDiscriminantAnalysis\n",
    "from sklearn.preprocessing import StandardScaler\n",
    "from sklearn.model_selection import KFold, train_test_split\n",
    "\n",
    "import seaborn as sns"
   ]
  },
  {
   "cell_type": "code",
   "execution_count": null,
   "id": "34e9a26f",
   "metadata": {},
   "outputs": [],
   "source": [
    "data = pd.read_csv(\"parkinsons_updrs.data\")"
   ]
  },
  {
   "cell_type": "code",
   "execution_count": null,
   "id": "7dc09bd5",
   "metadata": {},
   "outputs": [],
   "source": [
    "#Separate X from y\n",
    "X = data.drop(columns=[\"total_UPDRS\", \"motor_UPDRS\"])\n",
    "y = data[\"total_UPDRS\"].map(lambda x: 1 if x>40 else 0)"
   ]
  },
  {
   "cell_type": "code",
   "execution_count": null,
   "id": "c11533a7",
   "metadata": {},
   "outputs": [],
   "source": [
    "y.value_counts()"
   ]
  },
  {
   "cell_type": "code",
   "execution_count": null,
   "id": "f24bc3f9",
   "metadata": {},
   "outputs": [],
   "source": [
    "#Separate Training set from Independent Validations Set\n",
    "(X_train, X_IND, \n",
    " y_train, y_IND) = train_test_split(X, y, test_size=361, random_state=361)"
   ]
  },
  {
   "cell_type": "code",
   "execution_count": null,
   "id": "5fa93fde",
   "metadata": {},
   "outputs": [],
   "source": [
    "#join X and y from the training set\n",
    "data_train = pd.concat((X_train, y_train), axis=1 )"
   ]
  },
  {
   "cell_type": "code",
   "execution_count": null,
   "id": "eaccc0cc",
   "metadata": {},
   "outputs": [],
   "source": [
    "X_train = X_train.drop(columns=[\"subject#\", \"test_time\"])"
   ]
  },
  {
   "cell_type": "code",
   "execution_count": null,
   "id": "7f3eeba6",
   "metadata": {},
   "outputs": [],
   "source": [
    "def get_model_statistics_simple(model, X, y, normalize = True, plot=False, *args, **kwargs):    \n",
    "    X_train, X_test, y_train, y_test = train_test_split(X, y, test_size=0.5)\n",
    "\n",
    "    if normalize:\n",
    "        scaler = StandardScaler().fit(X_train)\n",
    "        X_train = scaler.transform(X_train)\n",
    "    \n",
    "    #fit model\n",
    "    temp_model = model.fit(X_train, y_train)\n",
    "    \n",
    "    #get predictions on test set\n",
    "    if normalize:\n",
    "        X_test = scaler.transform(X_test)\n",
    "    preds = temp_model.predict(X_test)\n",
    "    \n",
    "    #get statistics\n",
    "    if np.any(preds)==1:\n",
    "        prec = precision_score(y_test, preds)\n",
    "    else:\n",
    "        prec = np.nan\n",
    "        \n",
    "    \n",
    "    recall = recall_score(y_test, preds)\n",
    "    f1 = f1_score(y_test, preds)\n",
    "    mcc = matthews_corrcoef(y_test, preds)\n",
    "    \n",
    "    if plot:\n",
    "        if (prec>0.5 or recall>0.5 or mcc>0.5):\n",
    "            cm = ConfusionMatrixDisplay(\n",
    "                confusion_matrix(y_test, preds),\n",
    "            )\n",
    "            cm.plot()\n",
    "            cm.ax_.set_title(kwargs.get(\"title\", \"\"))\n",
    "            plt.show()\n",
    "    #return statistics estimations\n",
    "    return (\n",
    "        prec,\n",
    "        recall,\n",
    "        f1,\n",
    "        mcc\n",
    "       )"
   ]
  },
  {
   "cell_type": "code",
   "execution_count": null,
   "id": "2bf0c6a7",
   "metadata": {},
   "outputs": [],
   "source": [
    "def get_model_statistics_cv(model, X, y, normalize = True):\n",
    "    kf = KFold(n_splits=16)\n",
    "    \n",
    "    #statistic arrays\n",
    "    prec = []\n",
    "    recall = []\n",
    "    f1 = []\n",
    "    mcc = []\n",
    "    \n",
    "    #Get the train/test folds\n",
    "    for train_index, test_index in kf.split(X):\n",
    "        #Create train/test sets\n",
    "        X_train, X_test = X.iloc[train_index], X.iloc[test_index]\n",
    "        y_train, y_test = y.iloc[train_index], y.iloc[test_index]\n",
    "\n",
    "        if normalize:\n",
    "            scaler = StandardScaler()\n",
    "            scaler.fit(X_train)\n",
    "            X_train = scaler.transform(X_train)\n",
    "\n",
    "        #fit model\n",
    "        temp_model = model.fit(X_train, y_train)\n",
    "\n",
    "        #get predictions on test set\n",
    "        if normalize:\n",
    "            X_test = scaler.transform(X_test)\n",
    "        preds = temp_model.predict(X_test)\n",
    "\n",
    "        #get statistics\n",
    "        prec.append( precision_score(y_test, preds, zero_division=np.nan) )\n",
    "        recall.append( recall_score(y_test, preds, zero_division=np.nan) )\n",
    "        f1.append( f1_score(y_test, preds, zero_division=np.nan) )\n",
    "        mcc.append( matthews_corrcoef(y_test, preds) )\n",
    "    \n",
    "    #return statistics estimations\n",
    "    return (\n",
    "        np.mean(prec),\n",
    "        np.mean(recall),\n",
    "        np.mean(f1),\n",
    "        np.mean(mcc)\n",
    "       )"
   ]
  },
  {
   "cell_type": "code",
   "execution_count": null,
   "id": "2ab62023",
   "metadata": {},
   "outputs": [],
   "source": [
    "for col in X_train.columns:\n",
    "    f = plt.figure()\n",
    "    ax = plt.axes()\n",
    "    X_train[col].plot.hist(ax = ax, title=col, bins=20)"
   ]
  }
 ],
 "metadata": {
  "kernelspec": {
   "display_name": "Python 3 (ipykernel)",
   "language": "python",
   "name": "python3"
  },
  "language_info": {
   "codemirror_mode": {
    "name": "ipython",
    "version": 3
   },
   "file_extension": ".py",
   "mimetype": "text/x-python",
   "name": "python",
   "nbconvert_exporter": "python",
   "pygments_lexer": "ipython3",
   "version": "3.9.7"
  }
 },
 "nbformat": 4,
 "nbformat_minor": 5
}
