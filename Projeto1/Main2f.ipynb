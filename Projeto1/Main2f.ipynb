{
 "cells": [
  {
   "cell_type": "code",
   "execution_count": 1,
   "id": "d15d3a43",
   "metadata": {},
   "outputs": [],
   "source": [
    "import pandas as pd\n",
    "import numpy as np\n",
    "import matplotlib.pyplot as plt\n",
    "\n",
    "from sklearn.metrics import (classification_report, matthews_corrcoef,\n",
    "                             precision_score, recall_score, f1_score,\n",
    "                            confusion_matrix, ConfusionMatrixDisplay)\n",
    "\n",
    "from sklearn.linear_model import LogisticRegression\n",
    "from sklearn.tree import DecisionTreeClassifier\n",
    "from sklearn.discriminant_analysis import LinearDiscriminantAnalysis\n",
    "from sklearn.preprocessing import StandardScaler\n",
    "from sklearn.model_selection import KFold, train_test_split\n",
    "from sklearn.decomposition import PCA\n",
    "\n",
    "import seaborn as sns"
   ]
  },
  {
   "cell_type": "code",
   "execution_count": 2,
   "id": "34e9a26f",
   "metadata": {},
   "outputs": [],
   "source": [
    "data = pd.read_csv(\"parkinsons_updrs.data\")"
   ]
  },
  {
   "cell_type": "code",
   "execution_count": 3,
   "id": "7dc09bd5",
   "metadata": {},
   "outputs": [],
   "source": [
    "#Separate X from y\n",
    "X = data.drop(columns=[\"total_UPDRS\", \"motor_UPDRS\"])\n",
    "y = data[\"total_UPDRS\"].map(lambda x: 1 if x>40 else 0)"
   ]
  },
  {
   "cell_type": "code",
   "execution_count": 4,
   "id": "c11533a7",
   "metadata": {},
   "outputs": [
    {
     "data": {
      "text/plain": [
       "0    4869\n",
       "1    1006\n",
       "Name: total_UPDRS, dtype: int64"
      ]
     },
     "execution_count": 4,
     "metadata": {},
     "output_type": "execute_result"
    }
   ],
   "source": [
    "y.value_counts()"
   ]
  },
  {
   "cell_type": "code",
   "execution_count": 5,
   "id": "f24bc3f9",
   "metadata": {},
   "outputs": [],
   "source": [
    "#Separate Training set from Independent Validations Set\n",
    "(X_train, X_IND, \n",
    " y_train, y_IND) = train_test_split(X, y, test_size=361, random_state=361)"
   ]
  },
  {
   "cell_type": "code",
   "execution_count": 6,
   "id": "84e00902",
   "metadata": {},
   "outputs": [
    {
     "data": {
      "text/plain": [
       "0    4569\n",
       "1     945\n",
       "Name: total_UPDRS, dtype: int64"
      ]
     },
     "execution_count": 6,
     "metadata": {},
     "output_type": "execute_result"
    }
   ],
   "source": [
    "y_train.value_counts()"
   ]
  },
  {
   "cell_type": "code",
   "execution_count": null,
   "id": "5fa93fde",
   "metadata": {},
   "outputs": [],
   "source": [
    "#join X and y from the training set\n",
    "data_train = pd.concat((X_train, y_train), axis=1 )"
   ]
  },
  {
   "cell_type": "code",
   "execution_count": null,
   "id": "eaccc0cc",
   "metadata": {},
   "outputs": [],
   "source": [
    "X_train = X_train.drop(columns=[\"subject#\", \"test_time\"])"
   ]
  },
  {
   "cell_type": "code",
   "execution_count": null,
   "id": "7f3eeba6",
   "metadata": {},
   "outputs": [],
   "source": [
    "def get_model_statistics_simple(model, X, y, normalize = True, plot=False, *args, **kwargs):    \n",
    "    X_train, X_test, y_train, y_test = train_test_split(X, y, test_size=0.5)\n",
    "\n",
    "    if normalize:\n",
    "        scaler = StandardScaler().fit(X_train)\n",
    "        X_train = scaler.transform(X_train)\n",
    "    \n",
    "    #fit model\n",
    "    temp_model = model.fit(X_train, y_train)\n",
    "    \n",
    "    #get predictions on test set\n",
    "    if normalize:\n",
    "        X_test = scaler.transform(X_test)\n",
    "    preds = temp_model.predict(X_test)\n",
    "    \n",
    "    #get statistics\n",
    "    if np.any(preds)==1:\n",
    "        prec = precision_score(y_test, preds)\n",
    "    else:\n",
    "        prec = np.nan\n",
    "        \n",
    "    \n",
    "    recall = recall_score(y_test, preds)\n",
    "    f1 = f1_score(y_test, preds)\n",
    "    mcc = matthews_corrcoef(y_test, preds)\n",
    "    \n",
    "    if plot:\n",
    "        if (prec>0.1 or recall>0.1 or mcc>0.1):\n",
    "            cm = ConfusionMatrixDisplay(\n",
    "                confusion_matrix(y_test, preds),\n",
    "            )\n",
    "            cm.plot()\n",
    "            cm.ax_.set_title(kwargs.get(\"title\", \"\"))\n",
    "            plt.show()\n",
    "    #return statistics estimations\n",
    "    return (\n",
    "        prec,\n",
    "        recall,\n",
    "        f1,\n",
    "        mcc\n",
    "       )"
   ]
  },
  {
   "cell_type": "code",
   "execution_count": null,
   "id": "2bf0c6a7",
   "metadata": {},
   "outputs": [],
   "source": [
    "def get_model_statistics_cv(model, X, y, normalize = True):\n",
    "    kf = KFold(n_splits=16)\n",
    "    \n",
    "    #statistic arrays\n",
    "    prec = []\n",
    "    recall = []\n",
    "    f1 = []\n",
    "    mcc = []\n",
    "    \n",
    "    #Get the train/test folds\n",
    "    for train_index, test_index in kf.split(X):\n",
    "        #Create train/test sets\n",
    "        X_train, X_test = X.iloc[train_index], X.iloc[test_index]\n",
    "        y_train, y_test = y.iloc[train_index], y.iloc[test_index]\n",
    "\n",
    "        if normalize:\n",
    "            scaler = StandardScaler()\n",
    "            scaler.fit(X_train)\n",
    "            X_train = scaler.transform(X_train)\n",
    "\n",
    "        #fit model\n",
    "        temp_model = model.fit(X_train, y_train)\n",
    "\n",
    "        #get predictions on test set\n",
    "        if normalize:\n",
    "            X_test = scaler.transform(X_test)\n",
    "        preds = temp_model.predict(X_test)\n",
    "\n",
    "        #get statistics\n",
    "        if np.any(preds)==1:\n",
    "            prec.append(precision_score(y_test, preds))\n",
    "        #prec.append( precision_score(y_test, preds) )\n",
    "        recall.append( recall_score(y_test, preds) )\n",
    "        f1.append( f1_score(y_test, preds) )\n",
    "        mcc.append( matthews_corrcoef(y_test, preds) )\n",
    "    \n",
    "    #return statistics estimations\n",
    "    return (\n",
    "        np.mean(prec),\n",
    "        np.mean(recall),\n",
    "        np.mean(f1),\n",
    "        np.mean(mcc)\n",
    "       )"
   ]
  },
  {
   "cell_type": "code",
   "execution_count": null,
   "id": "d92ad669",
   "metadata": {},
   "outputs": [],
   "source": [
    "solvers = [\"svd\", \"lsqr\", \"eigen\"]\n",
    "for slv in solvers:\n",
    "    model = LinearDiscriminantAnalysis(solver=slv)\n",
    "    print(get_model_statistics_simple(model, X_train, y_train, normalize=False, plot=True))"
   ]
  },
  {
   "cell_type": "code",
   "execution_count": null,
   "id": "575e3106",
   "metadata": {},
   "outputs": [],
   "source": [
    "for col in X_train.columns:\n",
    "    data_train.plot(x=col, y=\"total_UPDRS\", ls=\"\", marker=\"*\", markersize=1)"
   ]
  },
  {
   "cell_type": "code",
   "execution_count": null,
   "id": "765d54c0",
   "metadata": {},
   "outputs": [],
   "source": [
    "for col in X_train.columns:\n",
    "    f = plt.figure()\n",
    "    ax = plt.axes()\n",
    "    sns.histplot(data_train, x=col, hue = \"total_UPDRS\", ax=ax)"
   ]
  },
  {
   "cell_type": "code",
   "execution_count": null,
   "id": "c8bd8495",
   "metadata": {},
   "outputs": [],
   "source": [
    "def plot_df(df, column, ax, title=\"\", x_label=\"\", y_label=\"\", legend=\"\"):\n",
    "    ax.set_title(title)\n",
    "    ax.set_ylabel(y_label)\n",
    "    ax.set_xlabel(x_label)\n",
    "    \n",
    "    ax.plot(df.index, df[column], \"-*\", label=legend)\n",
    "    ax.grid(True)\n",
    "    if legend!=\"\":\n",
    "        ax.legend()"
   ]
  },
  {
   "cell_type": "code",
   "execution_count": null,
   "id": "b07a00be",
   "metadata": {},
   "outputs": [],
   "source": [
    "criteria = [\"gini\", \"entropy\", \"log_loss\"]\n",
    "max_depth = range(3, 30+1)\n",
    "min_sample_split = range(2, 30+1)\n",
    "min_samples_leaf = range(1, 50+1)\n",
    "\n",
    "columns = [\"Precision\", \"Recall\", \"F1 Score\", \"MCC\"]"
   ]
  },
  {
   "cell_type": "markdown",
   "id": "c4f6dd11",
   "metadata": {},
   "source": [
    "# Criteria : Gini\n",
    "## 1. Depth Testing"
   ]
  },
  {
   "cell_type": "code",
   "execution_count": null,
   "id": "9bb7ea9d",
   "metadata": {},
   "outputs": [],
   "source": [
    "stats_depth = pd.DataFrame(columns=columns)\n",
    "for d in max_depth:\n",
    "    temp = get_model_statistics_cv(\n",
    "        DecisionTreeClassifier(criterion=criteria[0], max_depth=d), \n",
    "        X_train, \n",
    "        y_train,\n",
    "    )\n",
    "    stats_depth.loc[d] = dict(zip(columns, temp))\n",
    "\n",
    "f, ax = plt.subplots(2,2)\n",
    "plot_df(stats_depth, \"Precision\", ax[0,0], x_label = \"Max Depth\", y_label=\"Precision Score\")\n",
    "plot_df(stats_depth, \"Recall\", ax[0,1], x_label = \"Max Depth\", y_label=\"Recall Score\")\n",
    "plot_df(stats_depth, \"F1 Score\", ax[1,0], x_label = \"Max Depth\", y_label=\"F1 Score\")\n",
    "plot_df(stats_depth, \"MCC\", ax[1,1], x_label = \"Max Depth\", y_label=\"MCC\")\n",
    "f.tight_layout()"
   ]
  },
  {
   "cell_type": "code",
   "execution_count": null,
   "id": "c85740a6",
   "metadata": {},
   "outputs": [],
   "source": [
    "stats_depth.idxmax()"
   ]
  },
  {
   "cell_type": "markdown",
   "id": "bc26ebdc",
   "metadata": {},
   "source": [
    "## 2. Sample Split"
   ]
  },
  {
   "cell_type": "code",
   "execution_count": null,
   "id": "71d7797c",
   "metadata": {},
   "outputs": [],
   "source": [
    "stats_split = pd.DataFrame(columns=columns)\n",
    "for s in min_sample_split:\n",
    "    temp = get_model_statistics_cv(\n",
    "        DecisionTreeClassifier(criterion=criteria[0], max_depth=9, min_samples_split=s), \n",
    "        X_train, \n",
    "        y_train,\n",
    "    )\n",
    "    stats_split.loc[s] = dict(zip(columns, temp))\n",
    "\n",
    "f, ax = plt.subplots(2,2)\n",
    "plot_df(stats_split, \"Precision\", ax[0,0], x_label = \"min_samples_split\", y_label=\"Precision Score\")\n",
    "plot_df(stats_split, \"Recall\", ax[0,1], x_label = \"min_samples_split\", y_label=\"Recall Score\")\n",
    "plot_df(stats_split, \"F1 Score\", ax[1,0], x_label = \"min_samples_split\", y_label=\"F1 Score\")\n",
    "plot_df(stats_split, \"MCC\", ax[1,1], x_label = \"min_samples_split\", y_label=\"MCC\")\n",
    "f.tight_layout()"
   ]
  },
  {
   "cell_type": "code",
   "execution_count": null,
   "id": "c4645d55",
   "metadata": {},
   "outputs": [],
   "source": [
    "stats_split.idxmax()"
   ]
  },
  {
   "cell_type": "markdown",
   "id": "13cb64d8",
   "metadata": {},
   "source": [
    "## 3. Samples Leaf"
   ]
  },
  {
   "cell_type": "code",
   "execution_count": null,
   "id": "7dbc09f4",
   "metadata": {},
   "outputs": [],
   "source": [
    "stats_leaf = pd.DataFrame(columns=columns)\n",
    "for s in min_samples_leaf:\n",
    "    temp = get_model_statistics_cv(\n",
    "        DecisionTreeClassifier(criterion=criteria[0], max_depth=9,\n",
    "                               min_samples_split=3, min_samples_leaf=s), \n",
    "        X_train, \n",
    "        y_train,\n",
    "    )\n",
    "    stats_leaf.loc[s] = dict(zip(columns, temp))\n",
    "\n",
    "f, ax = plt.subplots(2,2)\n",
    "plot_df(stats_leaf, \"Precision\", ax[0,0], x_label = \"min_samples_leaf\", y_label=\"Precision Score\")\n",
    "plot_df(stats_leaf, \"Recall\", ax[0,1], x_label = \"min_samples_leaf\", y_label=\"Recall Score\")\n",
    "plot_df(stats_leaf, \"F1 Score\", ax[1,0], x_label = \"min_samples_leaf\", y_label=\"F1 Score\")\n",
    "plot_df(stats_leaf, \"MCC\", ax[1,1], x_label = \"min_samples_leaf\", y_label=\"MCC\")\n",
    "f.tight_layout()"
   ]
  },
  {
   "cell_type": "code",
   "execution_count": null,
   "id": "4ae4b6b7",
   "metadata": {},
   "outputs": [],
   "source": [
    "stats_leaf.idxmax()"
   ]
  },
  {
   "cell_type": "markdown",
   "id": "8a3bc2d4",
   "metadata": {},
   "source": [
    "## Best Gini"
   ]
  },
  {
   "cell_type": "code",
   "execution_count": null,
   "id": "f0e3b8e3",
   "metadata": {},
   "outputs": [],
   "source": [
    "dt = DecisionTreeClassifier(max_depth=9,\n",
    "                           min_samples_split=3,\n",
    "                           min_samples_leaf=20,\n",
    "                           )\n",
    "get_model_statistics_cv(dt, X_train, y_train)"
   ]
  },
  {
   "cell_type": "markdown",
   "id": "5ea89cca",
   "metadata": {},
   "source": [
    "# Criteria : Entropy\n",
    "## 1. Depth"
   ]
  },
  {
   "cell_type": "code",
   "execution_count": null,
   "id": "6bcea898",
   "metadata": {},
   "outputs": [],
   "source": [
    "stats_depth = pd.DataFrame(columns=columns)\n",
    "for d in max_depth:\n",
    "    temp = get_model_statistics_cv(\n",
    "        DecisionTreeClassifier(criterion=criteria[1], max_depth=d), \n",
    "        X_train, \n",
    "        y_train,\n",
    "    )\n",
    "    stats_depth.loc[d] = dict(zip(columns, temp))\n",
    "\n",
    "f, ax = plt.subplots(2,2)\n",
    "plot_df(stats_depth, \"Precision\", ax[0,0], x_label = \"Max Depth\", y_label=\"Precision Score\")\n",
    "plot_df(stats_depth, \"Recall\", ax[0,1], x_label = \"Max Depth\", y_label=\"Recall Score\")\n",
    "plot_df(stats_depth, \"F1 Score\", ax[1,0], x_label = \"Max Depth\", y_label=\"F1 Score\")\n",
    "plot_df(stats_depth, \"MCC\", ax[1,1], x_label = \"Max Depth\", y_label=\"MCC\")\n",
    "f.tight_layout()"
   ]
  },
  {
   "cell_type": "code",
   "execution_count": null,
   "id": "569e3be7",
   "metadata": {},
   "outputs": [],
   "source": [
    "stats_depth.idxmax()"
   ]
  },
  {
   "cell_type": "markdown",
   "id": "ce04638c",
   "metadata": {},
   "source": [
    "## 2. Split"
   ]
  },
  {
   "cell_type": "code",
   "execution_count": null,
   "id": "ee559051",
   "metadata": {},
   "outputs": [],
   "source": [
    "stats_split = pd.DataFrame(columns=columns)\n",
    "for s in min_sample_split:\n",
    "    temp = get_model_statistics_cv(\n",
    "        DecisionTreeClassifier(criterion=criteria[1], max_depth=7,\n",
    "                               min_samples_split=s), \n",
    "        X_train, \n",
    "        y_train,\n",
    "    )\n",
    "    stats_split.loc[s] = dict(zip(columns, temp))\n",
    "\n",
    "f, ax = plt.subplots(2,2)\n",
    "plot_df(stats_split, \"Precision\", ax[0,0], x_label = \"min_samples_split\", y_label=\"Precision Score\")\n",
    "plot_df(stats_split, \"Recall\", ax[0,1], x_label = \"min_samples_split\", y_label=\"Recall Score\")\n",
    "plot_df(stats_split, \"F1 Score\", ax[1,0], x_label = \"min_samples_split\", y_label=\"F1 Score\")\n",
    "plot_df(stats_split, \"MCC\", ax[1,1], x_label = \"min_samples_split\", y_label=\"MCC\")\n",
    "f.tight_layout()"
   ]
  },
  {
   "cell_type": "code",
   "execution_count": null,
   "id": "c768c6c3",
   "metadata": {},
   "outputs": [],
   "source": [
    "stats_split.idxmax()"
   ]
  },
  {
   "cell_type": "markdown",
   "id": "8928a256",
   "metadata": {},
   "source": [
    "## 3.  Leaf"
   ]
  },
  {
   "cell_type": "code",
   "execution_count": null,
   "id": "b465b2f6",
   "metadata": {},
   "outputs": [],
   "source": [
    "stats_leaf = pd.DataFrame(columns=columns)\n",
    "for s in min_samples_leaf:\n",
    "    temp = get_model_statistics_cv(\n",
    "        DecisionTreeClassifier(criterion=criteria[1], max_depth=7,\n",
    "                               min_samples_split=20, min_samples_leaf=s), \n",
    "        X_train, \n",
    "        y_train,\n",
    "    )\n",
    "    stats_leaf.loc[s] = dict(zip(columns, temp))\n",
    "\n",
    "f, ax = plt.subplots(2,2)\n",
    "plot_df(stats_leaf, \"Precision\", ax[0,0], x_label = \"min_samples_leaf\", y_label=\"Precision Score\")\n",
    "plot_df(stats_leaf, \"Recall\", ax[0,1], x_label = \"min_samples_leaf\", y_label=\"Recall Score\")\n",
    "plot_df(stats_leaf, \"F1 Score\", ax[1,0], x_label = \"min_samples_leaf\", y_label=\"F1 Score\")\n",
    "plot_df(stats_leaf, \"MCC\", ax[1,1], x_label = \"min_samples_leaf\", y_label=\"MCC\")\n",
    "f.tight_layout()"
   ]
  },
  {
   "cell_type": "code",
   "execution_count": null,
   "id": "6f540471",
   "metadata": {},
   "outputs": [],
   "source": [
    "stats_leaf.idxmax()"
   ]
  },
  {
   "cell_type": "code",
   "execution_count": null,
   "id": "c16ac402",
   "metadata": {},
   "outputs": [],
   "source": [
    "stats_leaf = pd.DataFrame(columns=columns)\n",
    "for s in range(2,50):\n",
    "    temp = get_model_statistics_cv(\n",
    "        DecisionTreeClassifier(criterion=criteria[1], max_depth=7,\n",
    "                               min_samples_split=20, min_samples_leaf=2,\n",
    "                              max_leaf_nodes=s), \n",
    "        X_train, \n",
    "        y_train,\n",
    "    )\n",
    "    stats_leaf.loc[s] = dict(zip(columns, temp))\n",
    "\n",
    "f, ax = plt.subplots(2,2)\n",
    "plot_df(stats_leaf, \"Precision\", ax[0,0], x_label = \"min_samples_leaf\", y_label=\"Precision Score\")\n",
    "plot_df(stats_leaf, \"Recall\", ax[0,1], x_label = \"min_samples_leaf\", y_label=\"Recall Score\")\n",
    "plot_df(stats_leaf, \"F1 Score\", ax[1,0], x_label = \"min_samples_leaf\", y_label=\"F1 Score\")\n",
    "plot_df(stats_leaf, \"MCC\", ax[1,1], x_label = \"min_samples_leaf\", y_label=\"MCC\")\n",
    "f.tight_layout()"
   ]
  },
  {
   "cell_type": "code",
   "execution_count": null,
   "id": "d60d3a81",
   "metadata": {
    "scrolled": true
   },
   "outputs": [],
   "source": [
    "stats_leaf.idxmax()"
   ]
  },
  {
   "cell_type": "code",
   "execution_count": null,
   "id": "7be489f8",
   "metadata": {
    "scrolled": true
   },
   "outputs": [],
   "source": [
    "stats_leaf = pd.DataFrame(columns=columns)\n",
    "for s in np.linspace(0,0.05,100):\n",
    "    temp = get_model_statistics_cv(\n",
    "        DecisionTreeClassifier(criterion=criteria[1], max_depth=7,\n",
    "                               min_samples_split=20, min_samples_leaf=2,\n",
    "                              max_leaf_nodes=28, min_impurity_decrease=s), \n",
    "        X_train, \n",
    "        y_train,\n",
    "    )\n",
    "    stats_leaf.loc[s] = dict(zip(columns, temp))\n",
    "\n",
    "f, ax = plt.subplots(2,2)\n",
    "plot_df(stats_leaf, \"Precision\", ax[0,0], x_label = \"min_samples_leaf\", y_label=\"Precision Score\")\n",
    "plot_df(stats_leaf, \"Recall\", ax[0,1], x_label = \"min_samples_leaf\", y_label=\"Recall Score\")\n",
    "plot_df(stats_leaf, \"F1 Score\", ax[1,0], x_label = \"min_samples_leaf\", y_label=\"F1 Score\")\n",
    "plot_df(stats_leaf, \"MCC\", ax[1,1], x_label = \"min_samples_leaf\", y_label=\"MCC\")\n",
    "f.tight_layout()"
   ]
  },
  {
   "cell_type": "code",
   "execution_count": null,
   "id": "1f66d4e3",
   "metadata": {},
   "outputs": [],
   "source": [
    "stats_leaf.idxmax()"
   ]
  },
  {
   "cell_type": "markdown",
   "id": "890e1423",
   "metadata": {},
   "source": [
    "## Best Entropy"
   ]
  },
  {
   "cell_type": "code",
   "execution_count": null,
   "id": "c0f35f61",
   "metadata": {},
   "outputs": [],
   "source": [
    "dt = DecisionTreeClassifier(criterion=criteria[1],\n",
    "                           max_depth=7,\n",
    "                           min_samples_split=20,\n",
    "                           min_samples_leaf=2,\n",
    "                           max_leaf_nodes=28,\n",
    "                           )\n",
    "\n",
    "get_model_statistics_cv(dt, X_train, y_train)"
   ]
  },
  {
   "cell_type": "markdown",
   "id": "d6eeb0ab",
   "metadata": {},
   "source": [
    "## Logistic Regression\n"
   ]
  },
  {
   "cell_type": "code",
   "execution_count": 64,
   "id": "309c0bf7",
   "metadata": {},
   "outputs": [
    {
     "name": "stdout",
     "output_type": "stream",
     "text": [
      "Precision: 0.21875 \n",
      "Recall: 0.004364296556358917 \n",
      "F1: 0.008547730854026252 \n",
      "MCC 0.014537910213583069\n"
     ]
    }
   ],
   "source": [
    "(pred, recall,\n",
    " f1, ncc) = get_model_statistics_cv(LogisticRegression(random_state=361), X_train, y_train, normalize = True)\n",
    "\n",
    "print(\"Precision:\", pred, \"\\nRecall:\", recall, \"\\nF1:\", f1, \"\\nMCC\", mcc)"
   ]
  }
 ],
 "metadata": {
  "kernelspec": {
   "display_name": "Python 3 (ipykernel)",
   "language": "python",
   "name": "python3"
  },
  "language_info": {
   "codemirror_mode": {
    "name": "ipython",
    "version": 3
   },
   "file_extension": ".py",
   "mimetype": "text/x-python",
   "name": "python",
   "nbconvert_exporter": "python",
   "pygments_lexer": "ipython3",
   "version": "3.9.7"
  }
 },
 "nbformat": 4,
 "nbformat_minor": 5
}
