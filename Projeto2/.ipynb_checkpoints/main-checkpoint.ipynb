{
 "cells": [
  {
   "cell_type": "code",
   "execution_count": 1,
   "id": "e34e4775-d916-4e4f-a0c8-ab2aa88a37c1",
   "metadata": {},
   "outputs": [],
   "source": [
    "import pandas as pd\n",
    "import numpy as np\n",
    "import seaborn as sns\n",
    "import matplotlib.pyplot as plt\n",
    "\n",
    "from sklearn.pipeline import Pipeline\n",
    "from sklearn.impute import KNNImputer, SimpleImputer\n",
    "from sklearn.model_selection import train_test_split, GridSearchCV\n",
    "from sklearn.preprocessing import StandardScaler, PowerTransformer, MinMaxScaler\n",
    "from sklearn.metrics import mean_squared_error, max_error"
   ]
  },
  {
   "cell_type": "code",
   "execution_count": 2,
   "id": "c7d78328-80a9-4340-97d1-b18fb3960467",
   "metadata": {},
   "outputs": [
    {
     "data": {
      "text/plain": [
       "(4564, 42)"
      ]
     },
     "execution_count": 2,
     "metadata": {},
     "output_type": "execute_result"
    }
   ],
   "source": [
    "df = pd.read_csv(\"biodegradable_a.csv\")\n",
    "df.shape"
   ]
  },
  {
   "cell_type": "code",
   "execution_count": 3,
   "id": "7c8f2f55-61f8-4eb5-96ef-54e0c3ff15ca",
   "metadata": {},
   "outputs": [],
   "source": [
    "X = df.drop(columns=\"Biodegradable\")\n",
    "y = df.Biodegradable"
   ]
  },
  {
   "cell_type": "code",
   "execution_count": 4,
   "id": "2f9bb65e-4ae9-4682-9b59-4e130dd75050",
   "metadata": {},
   "outputs": [],
   "source": [
    "X_Train, X_Test, y_Train, y_Test = train_test_split(X, y, test_size=355, random_state=22)"
   ]
  },
  {
   "cell_type": "code",
   "execution_count": 5,
   "id": "fd52167f-7fc9-4a24-a498-27f31ff8800f",
   "metadata": {},
   "outputs": [
    {
     "name": "stdout",
     "output_type": "stream",
     "text": [
      "<class 'pandas.core.frame.DataFrame'>\n",
      "Int64Index: 4209 entries, 919 to 2933\n",
      "Data columns (total 41 columns):\n",
      " #   Column    Non-Null Count  Dtype  \n",
      "---  ------    --------------  -----  \n",
      " 0   SpMax_L   4209 non-null   float64\n",
      " 1   J_Dz(e)   4209 non-null   float64\n",
      " 2   nHM       4209 non-null   float64\n",
      " 3   F01       3739 non-null   float64\n",
      " 4   F04       4209 non-null   float64\n",
      " 5   NssssC    4209 non-null   float64\n",
      " 6   nCb       4209 non-null   float64\n",
      " 7   C         3503 non-null   float64\n",
      " 8   nCp       3595 non-null   float64\n",
      " 9   nO        4209 non-null   float64\n",
      " 10  F03       4209 non-null   float64\n",
      " 11  SdssC     4209 non-null   float64\n",
      " 12  HyWi_B    3769 non-null   float64\n",
      " 13  LOC       4209 non-null   float64\n",
      " 14  SM6_L     4209 non-null   float64\n",
      " 15  F03_CO    4171 non-null   float64\n",
      " 16  Me        3796 non-null   float64\n",
      " 17  Mi        4209 non-null   float64\n",
      " 18  nN_N      4209 non-null   float64\n",
      " 19  nArNO2    4209 non-null   float64\n",
      " 20  nCRX3     4209 non-null   float64\n",
      " 21  SpPosA_B  4209 non-null   float64\n",
      " 22  nCIR      3749 non-null   float64\n",
      " 23  B01       4209 non-null   float64\n",
      " 24  B03       4209 non-null   float64\n",
      " 25  N_073     4209 non-null   float64\n",
      " 26  SpMax_A   3591 non-null   float64\n",
      " 27  Psi_i_1d  4209 non-null   float64\n",
      " 28  B04       4209 non-null   float64\n",
      " 29  SdO       4010 non-null   float64\n",
      " 30  TI2_L     4209 non-null   float64\n",
      " 31  nCrt      3982 non-null   float64\n",
      " 32  C_026     4209 non-null   float64\n",
      " 33  F02_CN    4209 non-null   float64\n",
      " 34  nHDon     4209 non-null   float64\n",
      " 35  SpMax_B   2944 non-null   float64\n",
      " 36  Psi_i_A   3795 non-null   float64\n",
      " 37  nN        4209 non-null   float64\n",
      " 38  SM6_B     4209 non-null   float64\n",
      " 39  nArCOOR   4209 non-null   float64\n",
      " 40  nX        3575 non-null   float64\n",
      "dtypes: float64(41)\n",
      "memory usage: 1.3 MB\n"
     ]
    }
   ],
   "source": [
    "X_Train.info()"
   ]
  },
  {
   "cell_type": "code",
   "execution_count": 6,
   "id": "7aeb1461-9d33-49c2-88c3-1b2ba5fa5db5",
   "metadata": {},
   "outputs": [
    {
     "name": "stdout",
     "output_type": "stream",
     "text": [
      "Maximum missing attributes on the rows: 6\n"
     ]
    }
   ],
   "source": [
    "print(\n",
    "    f\"Maximum missing attributes on the rows: {X_Train.isna().sum(axis=1).max()}\"\n",
    ")"
   ]
  },
  {
   "cell_type": "code",
   "execution_count": 7,
   "id": "a47cefb1-780a-45ed-9aec-3842d60d06aa",
   "metadata": {},
   "outputs": [
    {
     "data": {
      "text/plain": [
       "F01         470\n",
       "C           706\n",
       "nCp         614\n",
       "HyWi_B      440\n",
       "F03_CO       38\n",
       "Me          413\n",
       "nCIR        460\n",
       "SpMax_A     618\n",
       "SdO         199\n",
       "nCrt        227\n",
       "SpMax_B    1265\n",
       "Psi_i_A     414\n",
       "nX          634\n",
       "dtype: int64"
      ]
     },
     "execution_count": 7,
     "metadata": {},
     "output_type": "execute_result"
    }
   ],
   "source": [
    "missing_cols = X_Train.isna().sum()\n",
    "missing_cols[missing_cols>0]"
   ]
  },
  {
   "cell_type": "markdown",
   "id": "a15a0be9-b2cc-4554-a3e0-758fd5694728",
   "metadata": {},
   "source": [
    "Number of null values is significant on many columns ( > 25% ) <br>\n",
    "Droping features is not an option for dealing with missing data, because we do not have the knowledge yet if they have relation with the class we want to predict<br>\n",
    "\n",
    "However, per sample, 6 out of 40 attributes doesn't seem very significant.\n",
    "This before the feature selection.\n",
    "\n",
    "## Classification Models\n",
    "\n",
    "- [ ] Logit\n",
    "- [ ] LDA\n",
    "- [ ] SVM\n",
    "- [ ] Naive Bayes\n",
    "- [ ] DecisionTree\n",
    "- [ ] KNN\n",
    "- [ ] Bagging\n",
    "- [ ] Boosting "
   ]
  },
  {
   "cell_type": "markdown",
   "id": "fea5fdbd-76e3-4dd4-a075-7eda07e67790",
   "metadata": {},
   "source": [
    "## Testing Imputation Models"
   ]
  },
  {
   "cell_type": "code",
   "execution_count": 8,
   "id": "b8932b9a-f1e6-4905-befd-ccb3b83f18de",
   "metadata": {},
   "outputs": [],
   "source": [
    "X_train_not_nan = X_Train.dropna()"
   ]
  },
  {
   "cell_type": "code",
   "execution_count": 9,
   "id": "171f3bca-4d0f-47a2-a5b8-cf52bb993db6",
   "metadata": {},
   "outputs": [
    {
     "data": {
      "text/plain": [
       "(834, 41)"
      ]
     },
     "execution_count": 9,
     "metadata": {},
     "output_type": "execute_result"
    }
   ],
   "source": [
    "X_train_not_nan.shape"
   ]
  },
  {
   "cell_type": "code",
   "execution_count": 10,
   "id": "440dea97-0847-4c08-aeca-362f2e11f065",
   "metadata": {},
   "outputs": [
    {
     "data": {
      "text/plain": [
       "(4209, 41)"
      ]
     },
     "execution_count": 10,
     "metadata": {},
     "output_type": "execute_result"
    }
   ],
   "source": [
    "X_Train.shape"
   ]
  },
  {
   "cell_type": "markdown",
   "id": "231cf321-8523-45fa-a709-318f95a20fa6",
   "metadata": {},
   "source": [
    "The difference in the number of rows, from the variable *X_train_not_nan* and the variable *X_train* indicates that a huge number of instances are missing at least one of the features, hence droping rows is not a viable option"
   ]
  },
  {
   "cell_type": "code",
   "execution_count": 11,
   "id": "7c3d2755-2869-4913-8a3a-08fc54d56f59",
   "metadata": {},
   "outputs": [],
   "source": [
    "priors = X_Train.isna().sum()/X_Train.shape[0]"
   ]
  },
  {
   "cell_type": "code",
   "execution_count": 12,
   "id": "6545b7cc-4221-4b32-bceb-61cd1a76edb4",
   "metadata": {},
   "outputs": [
    {
     "data": {
      "text/plain": [
       "(41,)"
      ]
     },
     "execution_count": 12,
     "metadata": {},
     "output_type": "execute_result"
    }
   ],
   "source": [
    "priors.shape"
   ]
  },
  {
   "cell_type": "code",
   "execution_count": 13,
   "id": "24d83836-3648-4511-926a-d1e604329c09",
   "metadata": {},
   "outputs": [],
   "source": [
    "def get_mask(X,priors):\n",
    "    masks = np.empty(shape = X.shape, dtype=np.bool_)\n",
    "    for i, p in enumerate(priors):\n",
    "        masks[:, i] = np.random.choice((True,False), size=masks.shape[0], p=(p,1-p))\n",
    "    return masks"
   ]
  },
  {
   "cell_type": "code",
   "execution_count": 20,
   "id": "55ba0c04-d1e6-4339-bec2-228d0e2f116a",
   "metadata": {},
   "outputs": [],
   "source": [
    "scaler = MinMaxScaler().fit(X_train_not_nan)\n",
    "X_train_not_nan_scaled = pd.DataFrame(data = scaler.transform(X_train_not_nan),\n",
    "                                      columns=X_train_not_nan.columns)"
   ]
  },
  {
   "cell_type": "code",
   "execution_count": 21,
   "id": "53bee55a-904e-4c58-aeca-e86d6f7248fc",
   "metadata": {},
   "outputs": [],
   "source": [
    "masks = [get_mask(X_train_not_nan, priors) for _ in range(N)]"
   ]
  },
  {
   "cell_type": "code",
   "execution_count": 32,
   "id": "ec827b6d-91f6-46ad-818b-8e7fa090e50f",
   "metadata": {},
   "outputs": [],
   "source": [
    "N = 500\n",
    "\n",
    "imputers = (\n",
    "        SimpleImputer(),\n",
    "        SimpleImputer(strategy=\"median\"),\n",
    "        KNNImputer()\n",
    ")\n",
    "labels = [\"SimpleImpute_mean\", \"SimpleImpute_median\", \"KNN\"]\n",
    "\n",
    "results = pd.DataFrame(index=X_train_not_nan.columns)\n",
    "for label, model in zip(labels,imputers):\n",
    "    errors=pd.DataFrame(columns = X_train_not_nan.columns)\n",
    "    for _ in range(N):\n",
    "        X_masked = X_train_not_nan_scaled.mask(masks[_])\n",
    "        \n",
    "        model = model.fit(X_masked)\n",
    "        X_imputed = model.transform(X_masked)\n",
    "\n",
    "        errors.loc[_] = dict(zip(X_train_not_nan_scaled.columns, \n",
    "                                 mean_squared_error(X_train_not_nan_scaled, \n",
    "                                                    X_imputed, \n",
    "                                                    squared=False, \n",
    "                                                    multioutput=\"raw_values\")\n",
    "                                ))\n",
    "    results[label] = errors.mean()"
   ]
  },
  {
   "cell_type": "code",
   "execution_count": 39,
   "id": "fb488604-7393-4228-b126-7a68899d016b",
   "metadata": {},
   "outputs": [
    {
     "data": {
      "text/html": [
       "<div>\n",
       "<style scoped>\n",
       "    .dataframe tbody tr th:only-of-type {\n",
       "        vertical-align: middle;\n",
       "    }\n",
       "\n",
       "    .dataframe tbody tr th {\n",
       "        vertical-align: top;\n",
       "    }\n",
       "\n",
       "    .dataframe thead th {\n",
       "        text-align: right;\n",
       "    }\n",
       "</style>\n",
       "<table border=\"1\" class=\"dataframe\">\n",
       "  <thead>\n",
       "    <tr style=\"text-align: right;\">\n",
       "      <th></th>\n",
       "      <th>SimpleImpute_mean</th>\n",
       "      <th>SimpleImpute_median</th>\n",
       "      <th>KNN</th>\n",
       "    </tr>\n",
       "  </thead>\n",
       "  <tbody>\n",
       "    <tr>\n",
       "      <th>F01</th>\n",
       "      <td>0.012316</td>\n",
       "      <td>0.011602</td>\n",
       "      <td>0.011468</td>\n",
       "    </tr>\n",
       "    <tr>\n",
       "      <th>C</th>\n",
       "      <td>0.071010</td>\n",
       "      <td>0.072017</td>\n",
       "      <td>0.027970</td>\n",
       "    </tr>\n",
       "    <tr>\n",
       "      <th>nCp</th>\n",
       "      <td>0.022410</td>\n",
       "      <td>0.022667</td>\n",
       "      <td>0.016881</td>\n",
       "    </tr>\n",
       "    <tr>\n",
       "      <th>HyWi_B</th>\n",
       "      <td>0.042372</td>\n",
       "      <td>0.042425</td>\n",
       "      <td>0.015238</td>\n",
       "    </tr>\n",
       "    <tr>\n",
       "      <th>F03_CO</th>\n",
       "      <td>0.007959</td>\n",
       "      <td>0.008428</td>\n",
       "      <td>0.004201</td>\n",
       "    </tr>\n",
       "    <tr>\n",
       "      <th>Me</th>\n",
       "      <td>0.031815</td>\n",
       "      <td>0.032132</td>\n",
       "      <td>0.017047</td>\n",
       "    </tr>\n",
       "    <tr>\n",
       "      <th>nCIR</th>\n",
       "      <td>0.025187</td>\n",
       "      <td>0.029297</td>\n",
       "      <td>0.015826</td>\n",
       "    </tr>\n",
       "    <tr>\n",
       "      <th>SpMax_A</th>\n",
       "      <td>0.044149</td>\n",
       "      <td>0.044203</td>\n",
       "      <td>0.017110</td>\n",
       "    </tr>\n",
       "    <tr>\n",
       "      <th>SdO</th>\n",
       "      <td>0.036718</td>\n",
       "      <td>0.036876</td>\n",
       "      <td>0.016682</td>\n",
       "    </tr>\n",
       "    <tr>\n",
       "      <th>nCrt</th>\n",
       "      <td>0.007991</td>\n",
       "      <td>0.007299</td>\n",
       "      <td>0.006863</td>\n",
       "    </tr>\n",
       "    <tr>\n",
       "      <th>SpMax_B</th>\n",
       "      <td>0.041746</td>\n",
       "      <td>0.041934</td>\n",
       "      <td>0.023282</td>\n",
       "    </tr>\n",
       "    <tr>\n",
       "      <th>Psi_i_A</th>\n",
       "      <td>0.046278</td>\n",
       "      <td>0.046565</td>\n",
       "      <td>0.019713</td>\n",
       "    </tr>\n",
       "    <tr>\n",
       "      <th>nX</th>\n",
       "      <td>0.018231</td>\n",
       "      <td>0.018295</td>\n",
       "      <td>0.011929</td>\n",
       "    </tr>\n",
       "  </tbody>\n",
       "</table>\n",
       "</div>"
      ],
      "text/plain": [
       "         SimpleImpute_mean  SimpleImpute_median       KNN\n",
       "F01               0.012316             0.011602  0.011468\n",
       "C                 0.071010             0.072017  0.027970\n",
       "nCp               0.022410             0.022667  0.016881\n",
       "HyWi_B            0.042372             0.042425  0.015238\n",
       "F03_CO            0.007959             0.008428  0.004201\n",
       "Me                0.031815             0.032132  0.017047\n",
       "nCIR              0.025187             0.029297  0.015826\n",
       "SpMax_A           0.044149             0.044203  0.017110\n",
       "SdO               0.036718             0.036876  0.016682\n",
       "nCrt              0.007991             0.007299  0.006863\n",
       "SpMax_B           0.041746             0.041934  0.023282\n",
       "Psi_i_A           0.046278             0.046565  0.019713\n",
       "nX                0.018231             0.018295  0.011929"
      ]
     },
     "execution_count": 39,
     "metadata": {},
     "output_type": "execute_result"
    }
   ],
   "source": [
    "results[results>0].dropna()"
   ]
  },
  {
   "cell_type": "code",
   "execution_count": 38,
   "id": "04318569-2cdc-458e-b004-c475aff608cb",
   "metadata": {},
   "outputs": [
    {
     "data": {
      "text/plain": [
       "SimpleImpute_mean      0.408182\n",
       "SimpleImpute_median    0.413740\n",
       "KNN                    0.204209\n",
       "dtype: float64"
      ]
     },
     "execution_count": 38,
     "metadata": {},
     "output_type": "execute_result"
    }
   ],
   "source": [
    "results[results>0].dropna().sum()"
   ]
  },
  {
   "cell_type": "markdown",
   "id": "523e316d-2342-4aa1-be14-23e83020f1c8",
   "metadata": {},
   "source": [
    "The *KNNImputer* is the one that better predicts the missing values, according to this test, since it is the one that gets closer results for every feature with missing values, which results having the least summed error. <br>\n",
    "Not many different parameters were used for it, so it can probably achieve even better results."
   ]
  },
  {
   "cell_type": "code",
   "execution_count": null,
   "id": "c157e6d0-a9e1-4ce6-833b-904ff178b5be",
   "metadata": {},
   "outputs": [],
   "source": []
  }
 ],
 "metadata": {
  "kernelspec": {
   "display_name": "Python 3 (ipykernel)",
   "language": "python",
   "name": "python3"
  },
  "language_info": {
   "codemirror_mode": {
    "name": "ipython",
    "version": 3
   },
   "file_extension": ".py",
   "mimetype": "text/x-python",
   "name": "python",
   "nbconvert_exporter": "python",
   "pygments_lexer": "ipython3",
   "version": "3.9.7"
  }
 },
 "nbformat": 4,
 "nbformat_minor": 5
}
