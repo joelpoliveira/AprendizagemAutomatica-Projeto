{
 "cells": [
  {
   "cell_type": "code",
   "execution_count": 1,
   "id": "8ea841de",
   "metadata": {},
   "outputs": [],
   "source": [
    "import pandas as pd\n",
    "import numpy as np\n",
    "import seaborn as sns\n",
    "import matplotlib.pyplot as plt"
   ]
  },
  {
   "cell_type": "code",
   "execution_count": 2,
   "id": "3232268d-f3e0-47a6-89d2-5c14a2337928",
   "metadata": {},
   "outputs": [],
   "source": [
    "df = pd.read_csv(\"biodegradable_a.csv\")"
   ]
  },
  {
   "cell_type": "code",
   "execution_count": 3,
   "id": "fe7aabd6-d63e-403c-9bf8-d0fcc468f21e",
   "metadata": {},
   "outputs": [
    {
     "data": {
      "text/plain": [
       "(4564, 42)"
      ]
     },
     "execution_count": 3,
     "metadata": {},
     "output_type": "execute_result"
    }
   ],
   "source": [
    "df.shape"
   ]
  },
  {
   "cell_type": "code",
   "execution_count": 4,
   "id": "fe0f7f0e-fa37-4a5e-9679-bbbfa03c0ec6",
   "metadata": {},
   "outputs": [
    {
     "name": "stdout",
     "output_type": "stream",
     "text": [
      "<class 'pandas.core.frame.DataFrame'>\n",
      "RangeIndex: 4564 entries, 0 to 4563\n",
      "Data columns (total 42 columns):\n",
      " #   Column         Non-Null Count  Dtype  \n",
      "---  ------         --------------  -----  \n",
      " 0   SpMax_L        4564 non-null   float64\n",
      " 1   J_Dz(e)        4564 non-null   float64\n",
      " 2   nHM            4564 non-null   float64\n",
      " 3   F01            4049 non-null   float64\n",
      " 4   F04            4564 non-null   float64\n",
      " 5   NssssC         4564 non-null   float64\n",
      " 6   nCb            4564 non-null   float64\n",
      " 7   C              3797 non-null   float64\n",
      " 8   nCp            3893 non-null   float64\n",
      " 9   nO             4564 non-null   float64\n",
      " 10  F03            4564 non-null   float64\n",
      " 11  SdssC          4564 non-null   float64\n",
      " 12  HyWi_B         4085 non-null   float64\n",
      " 13  LOC            4564 non-null   float64\n",
      " 14  SM6_L          4564 non-null   float64\n",
      " 15  F03_CO         4521 non-null   float64\n",
      " 16  Me             4116 non-null   float64\n",
      " 17  Mi             4564 non-null   float64\n",
      " 18  nN_N           4564 non-null   float64\n",
      " 19  nArNO2         4564 non-null   float64\n",
      " 20  nCRX3          4564 non-null   float64\n",
      " 21  SpPosA_B       4564 non-null   float64\n",
      " 22  nCIR           4074 non-null   float64\n",
      " 23  B01            4564 non-null   float64\n",
      " 24  B03            4564 non-null   float64\n",
      " 25  N_073          4564 non-null   float64\n",
      " 26  SpMax_A        3890 non-null   float64\n",
      " 27  Psi_i_1d       4564 non-null   float64\n",
      " 28  B04            4564 non-null   float64\n",
      " 29  SdO            4353 non-null   float64\n",
      " 30  TI2_L          4564 non-null   float64\n",
      " 31  nCrt           4306 non-null   float64\n",
      " 32  C_026          4564 non-null   float64\n",
      " 33  F02_CN         4564 non-null   float64\n",
      " 34  nHDon          4564 non-null   float64\n",
      " 35  SpMax_B        3206 non-null   float64\n",
      " 36  Psi_i_A        4104 non-null   float64\n",
      " 37  nN             4564 non-null   float64\n",
      " 38  SM6_B          4564 non-null   float64\n",
      " 39  nArCOOR        4564 non-null   float64\n",
      " 40  nX             3882 non-null   float64\n",
      " 41  Biodegradable  4564 non-null   object \n",
      "dtypes: float64(41), object(1)\n",
      "memory usage: 1.5+ MB\n"
     ]
    }
   ],
   "source": [
    "df.info()"
   ]
  },
  {
   "cell_type": "markdown",
   "id": "4eedb695-402b-4ef7-a6df-bb45192fe246",
   "metadata": {},
   "source": [
    "Number of null values is significant. \n",
    "\n",
    "## Classification Models\n",
    "\n",
    "- [ ] Logit\n",
    "- [ ] LDA\n",
    "- [ ] SVM\n",
    "- [ ] Naive Bayes\n",
    "- [ ] DecisionTree\n",
    "- [ ] KNN\n",
    "- [ ] Bagging\n",
    "- [ ] Boosting "
   ]
  },
  {
   "cell_type": "code",
   "execution_count": null,
   "id": "fc79d245-63df-4df0-8ff0-52769dd1c0c2",
   "metadata": {},
   "outputs": [],
   "source": [
    "sns.pairplot( data = df, hue = \"Biodegradable\" );\n",
    "plt.show()"
   ]
  },
  {
   "cell_type": "code",
   "execution_count": null,
   "id": "48d33f95-d2cb-4ed6-a4c1-f81d6b4b6b1d",
   "metadata": {},
   "outputs": [],
   "source": [
    "#independent 95% - 355"
   ]
  }
 ],
 "metadata": {
  "kernelspec": {
   "display_name": "Python 3 (ipykernel)",
   "language": "python",
   "name": "python3"
  },
  "language_info": {
   "codemirror_mode": {
    "name": "ipython",
    "version": 3
   },
   "file_extension": ".py",
   "mimetype": "text/x-python",
   "name": "python",
   "nbconvert_exporter": "python",
   "pygments_lexer": "ipython3",
   "version": "3.9.7"
  }
 },
 "nbformat": 4,
 "nbformat_minor": 5
}
