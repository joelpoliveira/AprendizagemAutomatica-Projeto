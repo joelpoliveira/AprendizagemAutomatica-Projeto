{
 "cells": [
  {
   "cell_type": "code",
   "execution_count": 128,
   "id": "8ea841de",
   "metadata": {},
   "outputs": [],
   "source": [
    "import pandas as pd\n",
    "import numpy as np\n",
    "import seaborn as sns\n",
    "import matplotlib.pyplot as plt\n",
    "import os\n",
    "\n",
    "from sklearn.pipeline import Pipeline\n",
    "from sklearn.impute import KNNImputer, SimpleImputer\n",
    "from sklearn.model_selection import train_test_split, GridSearchCV, KFold\n",
    "from sklearn.preprocessing import StandardScaler, PowerTransformer, MinMaxScaler\n",
    "from sklearn.metrics import (mean_squared_error, max_error, \n",
    "                             confusion_matrix, ConfusionMatrixDisplay, \n",
    "                             classification_report, make_scorer, matthews_corrcoef,\n",
    "                            f1_score, recall_score, precision_score, accuracy_score)\n",
    "from sklearn.feature_selection import SelectFromModel\n",
    "from sklearn.ensemble import RandomForestClassifier\n",
    "from sklearn.svm import SVC\n",
    "from sklearn.tree import DecisionTreeClassifier\n",
    "\n",
    "import joblib\n",
    "import warnings\n",
    "\n",
    "warnings.filterwarnings('ignore')"
   ]
  },
  {
   "cell_type": "code",
   "execution_count": 2,
   "id": "3232268d-f3e0-47a6-89d2-5c14a2337928",
   "metadata": {},
   "outputs": [
    {
     "data": {
      "text/plain": [
       "(4564, 42)"
      ]
     },
     "execution_count": 2,
     "metadata": {},
     "output_type": "execute_result"
    }
   ],
   "source": [
    "df = pd.read_csv(\"biodegradable_a.csv\")\n",
    "df.shape"
   ]
  },
  {
   "cell_type": "code",
   "execution_count": 3,
   "id": "129e7f99-5a34-4e39-89e7-2810f207dc27",
   "metadata": {},
   "outputs": [],
   "source": [
    "X = df.drop(columns=\"Biodegradable\")\n",
    "y = df.Biodegradable"
   ]
  },
  {
   "cell_type": "code",
   "execution_count": 4,
   "id": "a6fb2da6-1fe4-459e-b983-74091961c5ff",
   "metadata": {},
   "outputs": [],
   "source": [
    "#new biodegradable (new_x):  1 if RB else -1\n",
    "y = y.map(lambda x: 1 if x=='RB' else -1)"
   ]
  },
  {
   "cell_type": "code",
   "execution_count": 5,
   "id": "95953047-56d4-49c0-9389-368b06367624",
   "metadata": {},
   "outputs": [],
   "source": [
    "#Criação do train + test e validation set\n",
    "X_Train, X_Test, y_Train, y_Test = train_test_split(X, y, test_size=0.25, random_state=22)"
   ]
  },
  {
   "cell_type": "code",
   "execution_count": 6,
   "id": "beda958e-9d88-4946-b8c8-1428a02214f4",
   "metadata": {},
   "outputs": [
    {
     "data": {
      "text/plain": [
       " 1    2858\n",
       "-1     565\n",
       "Name: Biodegradable, dtype: int64"
      ]
     },
     "execution_count": 6,
     "metadata": {},
     "output_type": "execute_result"
    }
   ],
   "source": [
    "y_Train.value_counts()"
   ]
  },
  {
   "cell_type": "code",
   "execution_count": null,
   "id": "fe0f7f0e-fa37-4a5e-9679-bbbfa03c0ec6",
   "metadata": {},
   "outputs": [],
   "source": [
    "X_Train.info()"
   ]
  },
  {
   "cell_type": "code",
   "execution_count": 8,
   "id": "dece845d-bca0-46d5-a758-98a6317ac1b1",
   "metadata": {},
   "outputs": [
    {
     "name": "stdout",
     "output_type": "stream",
     "text": [
      "Maximum missing attributes on the rows: 6\n"
     ]
    }
   ],
   "source": [
    "print(\n",
    "    f\"Maximum missing attributes on the rows: {X_Train.isna().sum(axis=1).max()}\"\n",
    ")"
   ]
  },
  {
   "cell_type": "code",
   "execution_count": 9,
   "id": "7033c5d1-4302-421f-a0d0-acf35d114eea",
   "metadata": {},
   "outputs": [
    {
     "data": {
      "text/plain": [
       "F01         389\n",
       "C           573\n",
       "nCp         497\n",
       "HyWi_B      347\n",
       "F03_CO       27\n",
       "Me          332\n",
       "nCIR        373\n",
       "SpMax_A     494\n",
       "SdO         166\n",
       "nCrt        177\n",
       "SpMax_B    1003\n",
       "Psi_i_A     317\n",
       "nX          513\n",
       "dtype: int64"
      ]
     },
     "execution_count": 9,
     "metadata": {},
     "output_type": "execute_result"
    }
   ],
   "source": [
    "missing_cols = X_Train.isna().sum()\n",
    "missing_cols[missing_cols>0]"
   ]
  },
  {
   "cell_type": "markdown",
   "id": "005ab5e9-30fa-4fdf-93ed-c35fd21ab2ca",
   "metadata": {},
   "source": [
    "Number of null values is significant on many columns ( > 25% ) <br>\n",
    "Droping features is not an option for dealing with missing data, because we do not have the knowledge yet if they have relation with the class we want to predict<br>\n",
    "\n",
    "However, per sample, 6 out of 40 attributes doesn't seem very significant.\n",
    "This before the feature selection."
   ]
  },
  {
   "cell_type": "markdown",
   "id": "4eedb695-402b-4ef7-a6df-bb45192fe246",
   "metadata": {
    "tags": []
   },
   "source": [
    "## Classification Models\n",
    "\n",
    "- [x] SVM\n",
    "- [x] DecisionTree\n",
    "- [x] Bagging:\n",
    "    - RandomForest\n",
    "    - KNN"
   ]
  },
  {
   "cell_type": "markdown",
   "id": "1400eb92-925f-4665-9e7a-39ffb4b69dd7",
   "metadata": {
    "tags": []
   },
   "source": [
    "# Testing Imputation Models"
   ]
  },
  {
   "cell_type": "code",
   "execution_count": 10,
   "id": "e2bd24b5-9e87-4e80-9294-0f9fe13071e0",
   "metadata": {},
   "outputs": [],
   "source": [
    "X_train_no_nans = X_Train.dropna()"
   ]
  },
  {
   "cell_type": "code",
   "execution_count": 11,
   "id": "75c49ff8-be8d-4ded-8bce-130095fbee5d",
   "metadata": {},
   "outputs": [
    {
     "data": {
      "text/plain": [
       "(698, 41)"
      ]
     },
     "execution_count": 11,
     "metadata": {},
     "output_type": "execute_result"
    }
   ],
   "source": [
    "X_train_no_nans.shape"
   ]
  },
  {
   "cell_type": "code",
   "execution_count": 12,
   "id": "d0959cd7-0543-43af-87e8-0e6e3da41ba7",
   "metadata": {},
   "outputs": [
    {
     "data": {
      "text/plain": [
       "(3423, 41)"
      ]
     },
     "execution_count": 12,
     "metadata": {},
     "output_type": "execute_result"
    }
   ],
   "source": [
    "X_Train.shape"
   ]
  },
  {
   "cell_type": "markdown",
   "id": "3b3fa52d-c034-4f15-99c9-42ec6c127636",
   "metadata": {},
   "source": [
    "The difference in the number of rows, from the variable *X_train_not_nan* and the variable *X_train* indicates that a huge number of instances are missing at least one of the features, hence droping rows is not a viable option"
   ]
  },
  {
   "cell_type": "code",
   "execution_count": 13,
   "id": "51957cd9-b808-41ee-8759-fc245fc0fb3c",
   "metadata": {},
   "outputs": [
    {
     "data": {
      "text/plain": [
       "(41,)"
      ]
     },
     "execution_count": 13,
     "metadata": {},
     "output_type": "execute_result"
    }
   ],
   "source": [
    "#probability of having a none on a certain\n",
    "# feature, based in the training set\n",
    "priors = X_Train.isna().sum()/X_Train.shape[0]\n",
    "priors.shape"
   ]
  },
  {
   "cell_type": "code",
   "execution_count": 34,
   "id": "e0de6a24-dcb5-46bc-84f3-4968cd1bdfd6",
   "metadata": {},
   "outputs": [],
   "source": [
    "#returns an array with true/false values\n",
    "# with shape of X\n",
    "np.random.seed(12)\n",
    "def get_mask(X,priors):\n",
    "    masks = np.empty(shape = X.shape, dtype=np.bool_)\n",
    "    for i, p in enumerate(priors):\n",
    "        masks[:, i] = np.random.choice((True,False), size=masks.shape[0], p=(p,1-p))\n",
    "    return masks\n",
    "\n",
    "N = 500\n",
    "masks = [get_mask(X_train_no_nans, priors) for _ in range(N)]"
   ]
  },
  {
   "cell_type": "code",
   "execution_count": 87,
   "id": "9743cae7-995a-42ba-9aa4-0d368758acb5",
   "metadata": {},
   "outputs": [],
   "source": [
    "#change scaler here\n",
    "# MinMaxScaler(), StandardScaler(), PowerTransformer()\n",
    "scaler = PowerTransformer()\n",
    "\n",
    "scaler.fit(X_train_no_nans)\n",
    "X_train_no_nans_scaled = pd.DataFrame(data = scaler.transform(X_train_no_nans),\n",
    "                                      columns=X_train_no_nans.columns)"
   ]
  },
  {
   "cell_type": "code",
   "execution_count": 88,
   "id": "3206bb6d-d13e-440c-9138-14b30bb30af0",
   "metadata": {},
   "outputs": [],
   "source": [
    "imputers = (\n",
    "        SimpleImputer(),\n",
    "        SimpleImputer(strategy=\"median\"),\n",
    "        KNNImputer()\n",
    ")\n",
    "labels = [\"SimpleImpute_mean\", \"SimpleImpute_median\", \"KNN\"]\n",
    "\n",
    "results = pd.DataFrame(index=X_train_no_nans.columns)\n",
    "#simulate nans over columns N times, for each imputer\n",
    "#and compare with real values\n",
    "for label, model in zip(labels,imputers):\n",
    "    errors=pd.DataFrame(columns = X_train_no_nans.columns)\n",
    "    for _ in range(N):\n",
    "        X_masked = X_train_no_nans_scaled.mask(masks[_])\n",
    "        \n",
    "        model = model.fit(X_masked)\n",
    "        X_imputed = model.transform(X_masked)\n",
    "\n",
    "        errors.loc[_] = dict(zip(X_train_no_nans_scaled.columns, \n",
    "                                 mean_squared_error(X_train_no_nans_scaled, \n",
    "                                                    X_imputed, \n",
    "                                                    squared=False, \n",
    "                                                    multioutput=\"raw_values\")\n",
    "                                ))\n",
    "    results[label] = errors.mean()"
   ]
  },
  {
   "cell_type": "code",
   "execution_count": null,
   "id": "95896c1c-8457-4562-aa71-dba67806ba46",
   "metadata": {},
   "outputs": [],
   "source": [
    "results[results>0].dropna()"
   ]
  },
  {
   "cell_type": "code",
   "execution_count": 90,
   "id": "78a7f464-4567-4c63-bb44-d9fe6aa47350",
   "metadata": {},
   "outputs": [
    {
     "data": {
      "text/plain": [
       "SimpleImpute_mean      4.039438\n",
       "SimpleImpute_median    4.155561\n",
       "KNN                    1.915459\n",
       "dtype: float64"
      ]
     },
     "execution_count": 90,
     "metadata": {},
     "output_type": "execute_result"
    }
   ],
   "source": [
    "results[results>0].dropna().sum()"
   ]
  },
  {
   "cell_type": "markdown",
   "id": "5a8ec36b-db6f-4612-8b90-41729d797d0f",
   "metadata": {},
   "source": [
    "The *KNNImputer* is the one that better predicts the missing values, according to this test, since it is the one that gets closer results for every feature with missing values, which results having the least summed error. <br>\n",
    "Not many different parameters were used for it, so it can probably achieve even better results."
   ]
  },
  {
   "cell_type": "code",
   "execution_count": 91,
   "id": "73c796b3-50ae-4d73-a68c-ace6c190eb14",
   "metadata": {},
   "outputs": [],
   "source": [
    "imputers = (\n",
    "        KNNImputer(n_neighbors=i) for i in range(3,11)\n",
    ")\n",
    "\n",
    "labels = [f\"KNN_{i}_neighbors\" for i in range(3,11)]\n",
    "\n",
    "results = pd.DataFrame(index=X_train_no_nans.columns)\n",
    "for label, model in zip(labels,imputers):\n",
    "    errors=pd.DataFrame(columns = X_train_no_nans.columns)\n",
    "    for _ in range(N):\n",
    "        X_masked = X_train_no_nans_scaled.mask(masks[_])\n",
    "        \n",
    "        model = model.fit(X_masked)\n",
    "        X_imputed = model.transform(X_masked)\n",
    "\n",
    "        errors.loc[_] = dict(zip(X_train_no_nans_scaled.columns, \n",
    "                                 mean_squared_error(X_train_no_nans_scaled, \n",
    "                                                    X_imputed, \n",
    "                                                    squared=False, \n",
    "                                                    multioutput=\"raw_values\")\n",
    "                                ))\n",
    "    results[label] = errors.mean()"
   ]
  },
  {
   "cell_type": "code",
   "execution_count": null,
   "id": "c943e36b-026d-44ce-8164-4d85fe487ac2",
   "metadata": {},
   "outputs": [],
   "source": [
    "results[results>0].dropna()"
   ]
  },
  {
   "cell_type": "code",
   "execution_count": 93,
   "id": "caa281a8-454b-4cb2-98c4-e91bdf072670",
   "metadata": {},
   "outputs": [
    {
     "data": {
      "text/plain": [
       "KNN_3_neighbors     1.791669\n",
       "KNN_4_neighbors     1.860618\n",
       "KNN_5_neighbors     1.915459\n",
       "KNN_6_neighbors     1.969359\n",
       "KNN_7_neighbors     2.016680\n",
       "KNN_8_neighbors     2.058735\n",
       "KNN_9_neighbors     2.094052\n",
       "KNN_10_neighbors    2.124517\n",
       "dtype: float64"
      ]
     },
     "execution_count": 93,
     "metadata": {},
     "output_type": "execute_result"
    }
   ],
   "source": [
    "results[results>0].dropna().sum()"
   ]
  },
  {
   "cell_type": "code",
   "execution_count": 94,
   "id": "0fa6b28b-0dc6-4759-8905-9f2635449f0e",
   "metadata": {},
   "outputs": [
    {
     "data": {
      "text/plain": [
       "'KNN_3_neighbors'"
      ]
     },
     "execution_count": 94,
     "metadata": {},
     "output_type": "execute_result"
    }
   ],
   "source": [
    "results[results>0].dropna().sum().idxmin()"
   ]
  },
  {
   "cell_type": "markdown",
   "id": "8fc36a36-7655-4cf8-b132-c587ea885a65",
   "metadata": {
    "tags": []
   },
   "source": [
    "## Imputer Results\n",
    "\n",
    "We can see that KNN has the minimum error in every scalling method, so this method will be used for all the normalizers. <br>\n",
    "For all the cases tested, the 3-NN imputer was the one that obtained better results"
   ]
  },
  {
   "cell_type": "markdown",
   "id": "ac6b989d",
   "metadata": {
    "tags": []
   },
   "source": [
    "# Scale and impute the rest of the data"
   ]
  },
  {
   "cell_type": "markdown",
   "id": "822c90a3",
   "metadata": {},
   "source": [
    "Perform imputation of missing values before scaling, as scaling could lead to distorted data if the missing values are not first replaced. This is because some calculations may include the missing values and their presence could lead to skewed results."
   ]
  },
  {
   "cell_type": "markdown",
   "id": "34d5525b",
   "metadata": {
    "tags": []
   },
   "source": [
    "# Feature Selection with Random Forest Selector\n",
    "\n",
    "Fitting a tree find the best features."
   ]
  },
  {
   "cell_type": "code",
   "execution_count": 97,
   "id": "64208557-c7e2-45fb-948d-b2021988601f",
   "metadata": {},
   "outputs": [
    {
     "data": {
      "text/plain": [
       "False"
      ]
     },
     "execution_count": 97,
     "metadata": {},
     "output_type": "execute_result"
    }
   ],
   "source": [
    "(X_Train.std()==0).any()"
   ]
  },
  {
   "cell_type": "markdown",
   "id": "eaf9ce44-69ab-47ab-9d28-b6fb68a1a0b9",
   "metadata": {},
   "source": [
    "There are no features with constant values, so there is no need to drop any column"
   ]
  },
  {
   "cell_type": "code",
   "execution_count": 84,
   "id": "857daeb6-7906-4f59-81ea-c5d6a9d09a92",
   "metadata": {},
   "outputs": [
    {
     "data": {
      "text/plain": [
       "nHM       0.466193\n",
       "C_026     0.422011\n",
       "F02_CN    0.417339\n",
       "B03       0.399126\n",
       "nCb       0.388747\n",
       "Name: Biodegradable, dtype: float64"
      ]
     },
     "execution_count": 84,
     "metadata": {},
     "output_type": "execute_result"
    }
   ],
   "source": [
    "#correlation with output\n",
    "np.abs(pd.concat((X_Train, y_Train), axis=1).corr()[\"Biodegradable\"]).sort_values(ascending=False)[1:6]"
   ]
  },
  {
   "cell_type": "code",
   "execution_count": 85,
   "id": "4f50a2b2-6f67-4272-a1eb-0389c318f2ce",
   "metadata": {},
   "outputs": [
    {
     "data": {
      "text/plain": [
       "SdO       9.815021\n",
       "C         8.319025\n",
       "F03_CO    3.597125\n",
       "nCIR      2.863329\n",
       "TI2_L     2.502184\n",
       "dtype: float64"
      ]
     },
     "execution_count": 85,
     "metadata": {},
     "output_type": "execute_result"
    }
   ],
   "source": [
    "(X_Train.std()).sort_values(ascending=False)[:5]"
   ]
  },
  {
   "cell_type": "code",
   "execution_count": 86,
   "id": "98b732e2-7996-4005-a31a-1a6bff98b9b1",
   "metadata": {},
   "outputs": [],
   "source": [
    "def get_sorted_labels(col_names : list[str], pipeline: Pipeline) -> list[str]:\n",
    "    #join names and scores in tuples (column, score)\n",
    "    label_scores = zip(col_names, pipeline[\"selector\"].estimator_.feature_importances_)\n",
    "    \n",
    "    #sort tuples accoding to value in index 1 (column, -> score <-)\n",
    "    sorted_labels = sorted(label_scores, key = lambda x: x[1], reverse=True)\n",
    "    \n",
    "    return sorted_labels"
   ]
  },
  {
   "cell_type": "code",
   "execution_count": 96,
   "id": "97d19c9c-77ee-4946-a5ab-ad3dbf1a5b92",
   "metadata": {},
   "outputs": [
    {
     "data": {
      "text/plain": [
       "[('nHM', 0.09019284019639669),\n",
       " ('nX', 0.07206351164853046),\n",
       " ('F04', 0.05212956069593135),\n",
       " ('nCb', 0.051330007369609264),\n",
       " ('SpMax_B', 0.04912126993703623)]"
      ]
     },
     "execution_count": 96,
     "metadata": {},
     "output_type": "execute_result"
    }
   ],
   "source": [
    "model = Pipeline([(\"scaler\", MinMaxScaler()),\n",
    "                  (\"imputer\", KNNImputer(n_neighbors=3)),\n",
    "                  (\"selector\", SelectFromModel(\n",
    "                      estimator = RandomForestClassifier(\n",
    "                          random_state=0\n",
    "                      ),\n",
    "                      threshold = -np.inf\n",
    "                  ))\n",
    "                 ])\n",
    "\n",
    "model.fit(X_Train, y_Train)\n",
    "get_sorted_labels(X_Train.columns, model)[:5]"
   ]
  },
  {
   "cell_type": "markdown",
   "id": "e6070a73-282f-4d01-93c4-e99fb2a9f111",
   "metadata": {
    "tags": []
   },
   "source": [
    "# Classification Models"
   ]
  },
  {
   "cell_type": "code",
   "execution_count": 126,
   "id": "4b079e20-12ac-4bbe-8909-6039fd16117f",
   "metadata": {},
   "outputs": [],
   "source": [
    "def conf_mat(y_test, pred):\n",
    "    ConfusionMatrixDisplay(\n",
    "        confusion_matrix(y_test, pred)\n",
    "    ).plot()"
   ]
  },
  {
   "cell_type": "code",
   "execution_count": 99,
   "id": "39486cdc-8d72-4c07-af8f-a293f4d09816",
   "metadata": {},
   "outputs": [],
   "source": [
    "def scatter_3d(x, y, z, score, xlabel=\"\", ylabel=\"\", zlabel=\"\", ):\n",
    "    f, ax = plt.subplots(figsize=(8,8), subplot_kw={\"projection\":\"3d\"})\n",
    "    im = ax.scatter(x, \n",
    "                    y, \n",
    "                    z, \n",
    "                   c = score,\n",
    "                    #s=50\n",
    "              )\n",
    "    ax.set_xlabel(xlabel)\n",
    "    ax.set_ylabel(ylabel)\n",
    "    ax.set_zlabel(zlabel)\n",
    "\n",
    "    cbar = plt.colorbar(im)\n",
    "    cbar.ax.set_ylabel('MCC Score', rotation=0)\n",
    "    f.tight_layout()"
   ]
  },
  {
   "cell_type": "code",
   "execution_count": 100,
   "id": "2cb3013d-80a2-4f22-b7de-00664e703f3f",
   "metadata": {},
   "outputs": [],
   "source": [
    "def scatter_2d(x, y, score, xlabel=\"\", ylabel=\"\", ax = None, cb=False):\n",
    "    if ax==None:\n",
    "        f, ax = plt.subplots()\n",
    "    im = ax.scatter(x,y, c=score)\n",
    "    ax.set_xlabel(xlabel)\n",
    "    ax.set_ylabel(ylabel)\n",
    "    if cb:\n",
    "        cbar = plt.colorbar(im)\n",
    "        cbar.ax.set_ylabel(\"MCC Scores\", rotation=0)"
   ]
  },
  {
   "cell_type": "code",
   "execution_count": 102,
   "id": "138d73ea-8ad9-415f-980e-8c88a29f15d0",
   "metadata": {},
   "outputs": [],
   "source": [
    "filter_ = lambda key,value, arr: list(filter(lambda x: x[key]==value, arr))\n",
    "map_ = lambda key, arr: list(map(lambda x: x[key], arr))\n",
    "best_score = lambda grid_search : max(grid_search.cv_results_[\"mean_test_score\"])\n",
    "\n",
    "def index_from(label, arr):\n",
    "    for i in range(len(arr)):\n",
    "        if arr[i][\"classifier__criterion\"] == label:\n",
    "            yield i"
   ]
  },
  {
   "cell_type": "markdown",
   "id": "ca90239f-4cf2-4dbe-b47f-1a7450200bbc",
   "metadata": {
    "tags": []
   },
   "source": [
    "## Random Forest Classifier"
   ]
  },
  {
   "cell_type": "code",
   "execution_count": 98,
   "id": "33145204-6f5c-4298-a127-5d9c85c2607f",
   "metadata": {},
   "outputs": [],
   "source": [
    "#select filename to save the grid_search object\n",
    "FILENAME = \"MinMax-RF_v3\"\n",
    "if os.path.exists(FILENAME):\n",
    "    #if file exists, load it\n",
    "    search_results = joblib.load(FILENAME)\n",
    "else:\n",
    "    #change scaler here\n",
    "    # MinMaxScaler(), StandardScaler(), PowerTransformer()\n",
    "    scaler = MinMaxScaler()\n",
    "    pipeline = [\n",
    "                (\"scaler\", scaler),\n",
    "                (\"imputer\", KNNImputer(n_neighbors=3)),\n",
    "                (\"selector\", SelectFromModel(\n",
    "                    estimator = RandomForestClassifier(\n",
    "                        random_state=0\n",
    "                    ),\n",
    "                    threshold=-np.inf,\n",
    "                )),\n",
    "                (\"classifier\", RandomForestClassifier(\n",
    "                        min_samples_leaf= 1,\n",
    "                ))\n",
    "               ]\n",
    "\n",
    "    model = Pipeline(pipeline)\n",
    "\n",
    "    grid = {\n",
    "        #{pipeline_name}__{feature_name} : [ ... ]\n",
    "        \"selector__max_features\": range(22, 37+1, 1),\n",
    "        \"classifier__criterion\": [\"gini\", \"entropy\"],\n",
    "        \"classifier__max_depth\" : range(25, 35+1, 1),\n",
    "        #classifier__min_samples_leaf : range(1,10)\n",
    "    } \n",
    "\n",
    "    search_results = GridSearchCV(estimator = model,\n",
    "                                  param_grid=grid,\n",
    "                                  cv = 9,\n",
    "                                  scoring=make_scorer(matthews_corrcoef),\n",
    "                                  n_jobs=-1, #number of processes; -1 --> use all\n",
    "                                  verbose=10, #text information\n",
    "                                  return_train_score=True\n",
    "                                 )\n",
    "    search_results.fit(X_Train, y_Train)\n",
    "    #save file\n",
    "    joblib.dump(search_results, FILENAME)"
   ]
  },
  {
   "cell_type": "code",
   "execution_count": 103,
   "id": "c1b2697d-f8ff-4a68-84d2-20f1a8771c86",
   "metadata": {},
   "outputs": [
    {
     "data": {
      "text/plain": [
       "{'classifier__criterion': 'gini',\n",
       " 'classifier__max_depth': 31,\n",
       " 'selector__max_features': 36}"
      ]
     },
     "execution_count": 103,
     "metadata": {},
     "output_type": "execute_result"
    }
   ],
   "source": [
    "search_results.best_params_"
   ]
  },
  {
   "cell_type": "code",
   "execution_count": 107,
   "id": "f8749a89-fe55-415a-a75f-7d831cb0ea8b",
   "metadata": {},
   "outputs": [
    {
     "name": "stdout",
     "output_type": "stream",
     "text": [
      "Best Parameters Test Score: 0.888\n"
     ]
    }
   ],
   "source": [
    "print(f\"Best Parameters Test Score: {best_score(search_results):.03}\")"
   ]
  },
  {
   "cell_type": "code",
   "execution_count": null,
   "id": "e076a5f3",
   "metadata": {},
   "outputs": [],
   "source": [
    "#only data with certain criteria \n",
    "data = filter_(\"classifier__criterion\", \"gini\", search_results.cv_results_[\"params\"])\n",
    "\n",
    "x_depth = map_(\"classifier__max_depth\", data)\n",
    "y_split = map_(\"classifier__min_samples_split\", data)\n",
    "z_feat = map_(\"selector__max_features\", data)\n",
    "\n",
    "idx = list(index_from(\"gini\", search_results.cv_results_[\"params\"]))\n",
    "score = search_results.cv_results_[\"mean_test_score\"][idx]"
   ]
  },
  {
   "cell_type": "code",
   "execution_count": null,
   "id": "c47def61-f36e-4919-b30b-4c25d230aa2e",
   "metadata": {},
   "outputs": [],
   "source": [
    "%matplotlib inline\n",
    "\n",
    "scatter_3d(x_depth,\n",
    "           y_split,\n",
    "           z_feat,\n",
    "           score,\n",
    "           xlabel=\"Tree Max. Depth\",\n",
    "           ylabel=\"Min. Samples Split\",\n",
    "           zlabel=\"Max nº of Features\",\n",
    ")"
   ]
  },
  {
   "cell_type": "markdown",
   "id": "6024eee0-18b3-4b87-91b9-d6c3e239541e",
   "metadata": {
    "tags": []
   },
   "source": [
    "## K-Nearest Neighbours with Bagging"
   ]
  },
  {
   "cell_type": "code",
   "execution_count": 111,
   "id": "fb1d2a80",
   "metadata": {},
   "outputs": [],
   "source": [
    "FILENAME = \"Std-KNN_v3\"\n",
    "if os.path.exists(FILENAME):\n",
    "    #if file exists, load it\n",
    "    search_results = joblib.load(FILENAME, )\n",
    "else:\n",
    "    #change scaler here\n",
    "    # MinMaxScaler(), StandardScaler(), PowerTransformer()\n",
    "    scaler = StandardScaler()\n",
    "    pipeline = [\n",
    "                (\"scaler\", scaler),\n",
    "                (\"imputer\", KNNImputer(n_neighbors=3)),\n",
    "                (\"selector\", SelectFromModel(\n",
    "                    estimator = RandomForestClassifier(\n",
    "                        random_state=0\n",
    "                    ),\n",
    "                    threshold=-np.inf,\n",
    "                )),\n",
    "                (\"classifier\", BaggingClassifier(base_estimator=KNeighborsClassifier()))\n",
    "               ]\n",
    "\n",
    "    model = Pipeline(pipeline)\n",
    "\n",
    "    grid = {\n",
    "        #{pipeline_name}__{feature_name} : [ ... ]\n",
    "        \"selector__max_features\": range(25,30), #testado de 1 a 32\n",
    "        \"classifier__n_estimators\": range(15,19), #testado de 1 a 32\n",
    "        \"classifier__base_estimator__n_neighbors\": range(2,4), #testado de 1 a 25\n",
    "        \"classifier__base_estimator__weights\": [\"distance\"], #testado distance e uniforme\n",
    "        \"classifier__base_estimator__p\":range(1,2) #testado de 1 a 5\n",
    "    } \n",
    "\n",
    "    search_results = GridSearchCV(estimator = model,\n",
    "                                  param_grid=grid,\n",
    "                                  cv = 9,\n",
    "                                  scoring=make_scorer(matthews_corrcoef),\n",
    "                                  n_jobs=-1, #number of processes; -1 --> use all\n",
    "                                  verbose=10, #text information\n",
    "                                  return_train_score=True\n",
    "                                 )\n",
    "    search_results.fit(X_Train, y_Train)\n",
    "    #save file\n",
    "    joblib.dump(search_results, FILENAME)"
   ]
  },
  {
   "cell_type": "code",
   "execution_count": 113,
   "id": "1c592c95-94d2-4485-bf8d-156139da2903",
   "metadata": {},
   "outputs": [
    {
     "data": {
      "text/plain": [
       "{'classifier__base_estimator__n_neighbors': 2,\n",
       " 'classifier__base_estimator__p': 1,\n",
       " 'classifier__base_estimator__weights': 'distance',\n",
       " 'classifier__n_estimators': 15,\n",
       " 'selector__max_features': 27}"
      ]
     },
     "execution_count": 113,
     "metadata": {},
     "output_type": "execute_result"
    }
   ],
   "source": [
    "search_results.best_params_"
   ]
  },
  {
   "cell_type": "code",
   "execution_count": 112,
   "id": "9c61fd2a-eea0-48b7-b3bf-888c17443a40",
   "metadata": {},
   "outputs": [
    {
     "data": {
      "text/plain": [
       "0.8562796465074833"
      ]
     },
     "execution_count": 112,
     "metadata": {},
     "output_type": "execute_result"
    }
   ],
   "source": [
    "best_score(search_results)"
   ]
  },
  {
   "cell_type": "markdown",
   "id": "aa6c3216-702c-4bd5-b9b6-19c4ed599805",
   "metadata": {
    "tags": []
   },
   "source": [
    "## Support Vector Machine"
   ]
  },
  {
   "cell_type": "code",
   "execution_count": 115,
   "id": "6292182c-6cb1-433d-a011-3f6b575d2908",
   "metadata": {},
   "outputs": [],
   "source": [
    "FILENAME = \"MinMax_SVM_v7\"\n",
    "if os.path.exists(FILENAME):\n",
    "    #if file exists, load it\n",
    "    search_results = joblib.load(FILENAME)\n",
    "else:\n",
    "    #change scaler here\n",
    "    # MinMaxScaler(), StandardScaler(), PowerTransformer()\n",
    "    scaler = MinMaxScaler()\n",
    "    pipeline = [\n",
    "                (\"scaler\", scaler),\n",
    "                (\"imputer\", KNNImputer(n_neighbors=3)),\n",
    "                (\"selector\", SelectFromModel(\n",
    "                    estimator = RandomForestClassifier(\n",
    "                        random_state=0\n",
    "                    ),\n",
    "                    threshold=-np.inf,\n",
    "                )),\n",
    "                (\"classifier\",SVC())\n",
    "               ]\n",
    "\n",
    "    model = Pipeline(pipeline)\n",
    "\n",
    "    grid = {\n",
    "        \"selector__max_features\": [27],\n",
    "        \"classifier__C\":  range(8,12,1),  #from 1e-2 to 1e10, 5 steps\n",
    "        \"classifier__gamma\": range(8,12,1),\n",
    "        \"classifier__kernel\": [\"rbf\"]\n",
    "    } \n",
    "\n",
    "    search_results = GridSearchCV(estimator = model,\n",
    "                                  param_grid=grid,\n",
    "                                  cv = 9,\n",
    "                                  scoring=make_scorer(matthews_corrcoef),\n",
    "                                  n_jobs=3, #number of processes; -1 --> use all\n",
    "                                  verbose=10, #text information\n",
    "                                  return_train_score=True\n",
    "                                 )\n",
    "    search_results.fit(X_Train, y_Train)\n",
    "    #save file\n",
    "    joblib.dump(search_results, FILENAME)"
   ]
  },
  {
   "cell_type": "code",
   "execution_count": 116,
   "id": "f37a690e-9b66-4af3-83d0-503d13237d7d",
   "metadata": {},
   "outputs": [
    {
     "data": {
      "text/plain": [
       "{'classifier__C': 8,\n",
       " 'classifier__gamma': 11,\n",
       " 'classifier__kernel': 'rbf',\n",
       " 'selector__max_features': 27}"
      ]
     },
     "execution_count": 116,
     "metadata": {},
     "output_type": "execute_result"
    }
   ],
   "source": [
    "search_results.best_params_"
   ]
  },
  {
   "cell_type": "code",
   "execution_count": 118,
   "id": "7f8c07ec-5abf-456e-a99f-c3144c836dc8",
   "metadata": {},
   "outputs": [
    {
     "name": "stdout",
     "output_type": "stream",
     "text": [
      "Best Parameters Test Score: 0.889\n"
     ]
    }
   ],
   "source": [
    "print(f\"Best Parameters Test Score: {best_score(search_results):.03}\")"
   ]
  },
  {
   "cell_type": "markdown",
   "id": "f5b6e408-1dd9-41a3-ae1d-d1e715e00178",
   "metadata": {
    "tags": []
   },
   "source": [
    "## Decision Tree Classifier"
   ]
  },
  {
   "cell_type": "code",
   "execution_count": 119,
   "id": "fe6e6935-9e3f-4213-9393-5e51457a115e",
   "metadata": {},
   "outputs": [],
   "source": [
    "FILENAME = \"PowerTransformer-DT\"\n",
    "if os.path.exists(FILENAME):\n",
    "    #if file exists, load it\n",
    "    search_results = joblib.load(FILENAME)\n",
    "else:\n",
    "    pipeline = [\n",
    "                (\"scaler\", PowerTransformer()),\n",
    "                (\"imputer\", KNNImputer(n_neighbors=3)),\n",
    "                (\"selector\", SelectFromModel(\n",
    "                    estimator = RandomForestClassifier(\n",
    "                        random_state=0\n",
    "                    ),\n",
    "                    threshold=-np.inf,\n",
    "                )),\n",
    "                (\"classifier\", DecisionTreeClassifier(\n",
    "                        min_samples_leaf= 1,\n",
    "                    min_samples_split=3\n",
    "                ))\n",
    "               ]\n",
    "\n",
    "    model = Pipeline(pipeline)\n",
    "\n",
    "    grid = {\n",
    "        #{pipeline_name}__{feature_name} : [ ... ]\n",
    "         'selector__max_features': range(20, 41, 10),\n",
    "         'classifier__criterion': ['gini', 'entropy'],\n",
    "         'classifier__max_depth': range(10, 61, 10),\n",
    "         'classifier__min_samples_split': range(2, 10)\n",
    "    } \n",
    "\n",
    "    search_results = GridSearchCV(estimator = model,\n",
    "                                  param_grid=grid,\n",
    "                                  cv = 9,\n",
    "                                  scoring=make_scorer(matthews_corrcoef),\n",
    "                                  n_jobs=-1, #number of processes; -1 --> use all\n",
    "                                  verbose=10, #text information\n",
    "                                  return_train_score=True,\n",
    "                                  pre_dispatch=2,\n",
    "                                  error_score=0\n",
    "                                 )\n",
    "    search_results.fit(X_Train, y_Train)\n",
    "    #save file\n",
    "    joblib.dump(search_results, FILENAME)"
   ]
  },
  {
   "cell_type": "code",
   "execution_count": 120,
   "id": "9f065e33-b688-4648-8295-d1e086f00837",
   "metadata": {},
   "outputs": [
    {
     "data": {
      "text/plain": [
       "{'classifier__criterion': 'gini',\n",
       " 'classifier__max_depth': 20,\n",
       " 'classifier__min_samples_split': 2,\n",
       " 'selector__max_features': 40}"
      ]
     },
     "execution_count": 120,
     "metadata": {},
     "output_type": "execute_result"
    }
   ],
   "source": [
    "search_results.best_params_"
   ]
  },
  {
   "cell_type": "code",
   "execution_count": 121,
   "id": "4113e08d-a09a-491e-b0a7-ac31c0e1b96e",
   "metadata": {},
   "outputs": [
    {
     "name": "stdout",
     "output_type": "stream",
     "text": [
      "Best Parameters Test Score: 0.822\n"
     ]
    }
   ],
   "source": [
    "print(f\"Best Parameters Test Score: {best_score(search_results):.03}\")"
   ]
  },
  {
   "cell_type": "markdown",
   "id": "4238bc72-deb0-492f-9762-5fe4a23e3be7",
   "metadata": {},
   "source": [
    "# Validating Best Model"
   ]
  },
  {
   "cell_type": "code",
   "execution_count": 124,
   "id": "c3dd3985-f0c7-4faa-99ee-e281760ecfc3",
   "metadata": {},
   "outputs": [],
   "source": [
    "best_model = Pipeline([(\"scaler\", MinMaxScaler()),\n",
    "                       (\"imputer\", KNNImputer(n_neighbors=3)),\n",
    "                       (\"selector\", SelectFromModel(\n",
    "                           estimator=RandomForestClassifier(\n",
    "                               random_state=0\n",
    "                           ),\n",
    "                           threshold = -np.inf,\n",
    "                           max_features=27\n",
    "                       )),\n",
    "                       (\"classifier\", SVC(\n",
    "                           C=8,\n",
    "                           gamma=11)\n",
    "                       )])\n",
    "best_model.fit(X_Train, y_Train);"
   ]
  },
  {
   "cell_type": "code",
   "execution_count": 125,
   "id": "dda9548b-66eb-4840-864c-6f08a31ba889",
   "metadata": {},
   "outputs": [],
   "source": [
    "preds = best_model.predict(X_Test)"
   ]
  },
  {
   "cell_type": "code",
   "execution_count": 127,
   "id": "83db4ea5-b73e-4aa1-8327-dcde16890e27",
   "metadata": {},
   "outputs": [
    {
     "data": {
      "image/png": "[encoded data removed]",
      "text/plain": [
       "<Figure size 640x480 with 2 Axes>"
      ]
     },
     "metadata": {},
     "output_type": "display_data"
    }
   ],
   "source": [
    "conf_mat(y_Test, preds)"
   ]
  },
  {
   "cell_type": "code",
   "execution_count": 131,
   "id": "55ac397c-3cd4-4513-969c-5e8dc1788bb9",
   "metadata": {},
   "outputs": [
    {
     "name": "stdout",
     "output_type": "stream",
     "text": [
      "MCC = 0.907\n",
      "Precision = 0.983\n",
      "Recall = 0.990\n",
      "F1 = 0.986\n",
      "Accuracy = 0.976\n",
      "\n"
     ]
    }
   ],
   "source": [
    "print(f\"\"\"MCC = {matthews_corrcoef(y_Test,preds):.3f}\n",
    "Precision = {precision_score(y_Test, preds):.3f}\n",
    "Recall = {recall_score(y_Test, preds):.3f}\n",
    "F1 = {f1_score(y_Test, preds):.3f}\n",
    "Accuracy = {accuracy_score(y_Test, preds):.3f}\n",
    "\"\"\")"
   ]
  }
 ],
 "metadata": {
  "kernelspec": {
   "display_name": "Python 3 (ipykernel)",
   "language": "python",
   "name": "python3"
  },
  "language_info": {
   "codemirror_mode": {
    "name": "ipython",
    "version": 3
   },
   "file_extension": ".py",
   "mimetype": "text/x-python",
   "name": "python",
   "nbconvert_exporter": "python",
   "pygments_lexer": "ipython3",
   "version": "3.9.7"
  }
 },
 "nbformat": 4,
 "nbformat_minor": 5
}
