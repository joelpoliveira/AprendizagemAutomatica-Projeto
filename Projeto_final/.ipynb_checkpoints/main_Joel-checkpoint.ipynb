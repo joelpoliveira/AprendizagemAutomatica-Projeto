{
 "cells": [
  {
   "cell_type": "code",
   "execution_count": 110,
   "id": "8e3ece54-119d-40d4-9c41-965cdd22ea6d",
   "metadata": {},
   "outputs": [],
   "source": [
    "import pandas as pd\n",
    "import numpy as np\n",
    "import matplotlib.pyplot as plt\n",
    "\n",
    "from sklearn.preprocessing import LabelBinarizer, OneHotEncoder, MultiLabelBinarizer, PolynomialFeatures\n",
    "from sklearn.metrics import mean_squared_error, max_error\n",
    "from sklearn.linear_model import LinearRegression, Lasso, Ridge\n",
    "from sklearn.tree import DecisionTreeRegressor\n",
    "from sklearn.neighbors import KNeighborsRegressor\n",
    "from sklearn.multioutput import MultiOutputRegressor\n",
    "from sklearn.svm import SVR, LinearSVR\n",
    "from sklearn.preprocessing import StandardScaler\n",
    "\n",
    "from typing import Sequence"
   ]
  },
  {
   "cell_type": "code",
   "execution_count": 2,
   "id": "ecfe84ec-e6fc-49b4-8cdc-39ad376937bd",
   "metadata": {},
   "outputs": [],
   "source": [
    "def reshape(df: pd.DataFrame, scale:bool =False) -> pd.DataFrame:\n",
    "    columns = df[\"Country Name\"]\n",
    "    data = df[[f\"{i}\" for i in range(1960, 2016+1)]].to_numpy().T\n",
    "    index = range(1960, 2016+1)\n",
    "    \n",
    "    df = pd.DataFrame(data = data,\n",
    "                        columns=columns,\n",
    "                        index=index)\n",
    "    if scale:\n",
    "        df = ( df-df.mean() ) / df.std() \n",
    "    return df\n",
    "    "
   ]
  },
  {
   "cell_type": "code",
   "execution_count": 3,
   "id": "ceebecf2-ad1e-4ffc-a58e-010a484cce17",
   "metadata": {},
   "outputs": [],
   "source": [
    "filter_ = lambda df, country: df[df[\"Country Name\"].isin(country)]"
   ]
  },
  {
   "cell_type": "code",
   "execution_count": 4,
   "id": "2e1f59d5-8817-422a-8d90-6280cf531d38",
   "metadata": {},
   "outputs": [
    {
     "data": {
      "text/html": [
       "<div>\n",
       "<style scoped>\n",
       "    .dataframe tbody tr th:only-of-type {\n",
       "        vertical-align: middle;\n",
       "    }\n",
       "\n",
       "    .dataframe tbody tr th {\n",
       "        vertical-align: top;\n",
       "    }\n",
       "\n",
       "    .dataframe thead th {\n",
       "        text-align: right;\n",
       "    }\n",
       "</style>\n",
       "<table border=\"1\" class=\"dataframe\">\n",
       "  <thead>\n",
       "    <tr style=\"text-align: right;\">\n",
       "      <th></th>\n",
       "      <th>Country Name</th>\n",
       "      <th>Country Code</th>\n",
       "      <th>Indicator Name</th>\n",
       "      <th>Indicator Code</th>\n",
       "      <th>1960</th>\n",
       "      <th>1961</th>\n",
       "      <th>1962</th>\n",
       "      <th>1963</th>\n",
       "      <th>1964</th>\n",
       "      <th>1965</th>\n",
       "      <th>...</th>\n",
       "      <th>2007</th>\n",
       "      <th>2008</th>\n",
       "      <th>2009</th>\n",
       "      <th>2010</th>\n",
       "      <th>2011</th>\n",
       "      <th>2012</th>\n",
       "      <th>2013</th>\n",
       "      <th>2014</th>\n",
       "      <th>2015</th>\n",
       "      <th>2016</th>\n",
       "    </tr>\n",
       "  </thead>\n",
       "  <tbody>\n",
       "    <tr>\n",
       "      <th>0</th>\n",
       "      <td>Aruba</td>\n",
       "      <td>ABW</td>\n",
       "      <td>Population, total</td>\n",
       "      <td>SP.POP.TOTL</td>\n",
       "      <td>54211.0</td>\n",
       "      <td>55438.0</td>\n",
       "      <td>56225.0</td>\n",
       "      <td>56695.0</td>\n",
       "      <td>57032.0</td>\n",
       "      <td>57360.0</td>\n",
       "      <td>...</td>\n",
       "      <td>101220.0</td>\n",
       "      <td>101353.0</td>\n",
       "      <td>101453.0</td>\n",
       "      <td>101669.0</td>\n",
       "      <td>102053.0</td>\n",
       "      <td>102577.0</td>\n",
       "      <td>103187.0</td>\n",
       "      <td>103795.0</td>\n",
       "      <td>104341.0</td>\n",
       "      <td>104822.0</td>\n",
       "    </tr>\n",
       "    <tr>\n",
       "      <th>1</th>\n",
       "      <td>Afghanistan</td>\n",
       "      <td>AFG</td>\n",
       "      <td>Population, total</td>\n",
       "      <td>SP.POP.TOTL</td>\n",
       "      <td>8996351.0</td>\n",
       "      <td>9166764.0</td>\n",
       "      <td>9345868.0</td>\n",
       "      <td>9533954.0</td>\n",
       "      <td>9731361.0</td>\n",
       "      <td>9938414.0</td>\n",
       "      <td>...</td>\n",
       "      <td>26616792.0</td>\n",
       "      <td>27294031.0</td>\n",
       "      <td>28004331.0</td>\n",
       "      <td>28803167.0</td>\n",
       "      <td>29708599.0</td>\n",
       "      <td>30696958.0</td>\n",
       "      <td>31731688.0</td>\n",
       "      <td>32758020.0</td>\n",
       "      <td>33736494.0</td>\n",
       "      <td>34656032.0</td>\n",
       "    </tr>\n",
       "    <tr>\n",
       "      <th>2</th>\n",
       "      <td>Angola</td>\n",
       "      <td>AGO</td>\n",
       "      <td>Population, total</td>\n",
       "      <td>SP.POP.TOTL</td>\n",
       "      <td>5643182.0</td>\n",
       "      <td>5753024.0</td>\n",
       "      <td>5866061.0</td>\n",
       "      <td>5980417.0</td>\n",
       "      <td>6093321.0</td>\n",
       "      <td>6203299.0</td>\n",
       "      <td>...</td>\n",
       "      <td>20997687.0</td>\n",
       "      <td>21759420.0</td>\n",
       "      <td>22549547.0</td>\n",
       "      <td>23369131.0</td>\n",
       "      <td>24218565.0</td>\n",
       "      <td>25096150.0</td>\n",
       "      <td>25998340.0</td>\n",
       "      <td>26920466.0</td>\n",
       "      <td>27859305.0</td>\n",
       "      <td>28813463.0</td>\n",
       "    </tr>\n",
       "    <tr>\n",
       "      <th>3</th>\n",
       "      <td>Albania</td>\n",
       "      <td>ALB</td>\n",
       "      <td>Population, total</td>\n",
       "      <td>SP.POP.TOTL</td>\n",
       "      <td>1608800.0</td>\n",
       "      <td>1659800.0</td>\n",
       "      <td>1711319.0</td>\n",
       "      <td>1762621.0</td>\n",
       "      <td>1814135.0</td>\n",
       "      <td>1864791.0</td>\n",
       "      <td>...</td>\n",
       "      <td>2970017.0</td>\n",
       "      <td>2947314.0</td>\n",
       "      <td>2927519.0</td>\n",
       "      <td>2913021.0</td>\n",
       "      <td>2905195.0</td>\n",
       "      <td>2900401.0</td>\n",
       "      <td>2895092.0</td>\n",
       "      <td>2889104.0</td>\n",
       "      <td>2880703.0</td>\n",
       "      <td>2876101.0</td>\n",
       "    </tr>\n",
       "    <tr>\n",
       "      <th>4</th>\n",
       "      <td>Andorra</td>\n",
       "      <td>AND</td>\n",
       "      <td>Population, total</td>\n",
       "      <td>SP.POP.TOTL</td>\n",
       "      <td>13411.0</td>\n",
       "      <td>14375.0</td>\n",
       "      <td>15370.0</td>\n",
       "      <td>16412.0</td>\n",
       "      <td>17469.0</td>\n",
       "      <td>18549.0</td>\n",
       "      <td>...</td>\n",
       "      <td>82683.0</td>\n",
       "      <td>83861.0</td>\n",
       "      <td>84462.0</td>\n",
       "      <td>84449.0</td>\n",
       "      <td>83751.0</td>\n",
       "      <td>82431.0</td>\n",
       "      <td>80788.0</td>\n",
       "      <td>79223.0</td>\n",
       "      <td>78014.0</td>\n",
       "      <td>77281.0</td>\n",
       "    </tr>\n",
       "  </tbody>\n",
       "</table>\n",
       "<p>5 rows × 61 columns</p>\n",
       "</div>"
      ],
      "text/plain": [
       "  Country Name Country Code     Indicator Name Indicator Code       1960  \\\n",
       "0        Aruba          ABW  Population, total    SP.POP.TOTL    54211.0   \n",
       "1  Afghanistan          AFG  Population, total    SP.POP.TOTL  8996351.0   \n",
       "2       Angola          AGO  Population, total    SP.POP.TOTL  5643182.0   \n",
       "3      Albania          ALB  Population, total    SP.POP.TOTL  1608800.0   \n",
       "4      Andorra          AND  Population, total    SP.POP.TOTL    13411.0   \n",
       "\n",
       "        1961       1962       1963       1964       1965  ...        2007  \\\n",
       "0    55438.0    56225.0    56695.0    57032.0    57360.0  ...    101220.0   \n",
       "1  9166764.0  9345868.0  9533954.0  9731361.0  9938414.0  ...  26616792.0   \n",
       "2  5753024.0  5866061.0  5980417.0  6093321.0  6203299.0  ...  20997687.0   \n",
       "3  1659800.0  1711319.0  1762621.0  1814135.0  1864791.0  ...   2970017.0   \n",
       "4    14375.0    15370.0    16412.0    17469.0    18549.0  ...     82683.0   \n",
       "\n",
       "         2008        2009        2010        2011        2012        2013  \\\n",
       "0    101353.0    101453.0    101669.0    102053.0    102577.0    103187.0   \n",
       "1  27294031.0  28004331.0  28803167.0  29708599.0  30696958.0  31731688.0   \n",
       "2  21759420.0  22549547.0  23369131.0  24218565.0  25096150.0  25998340.0   \n",
       "3   2947314.0   2927519.0   2913021.0   2905195.0   2900401.0   2895092.0   \n",
       "4     83861.0     84462.0     84449.0     83751.0     82431.0     80788.0   \n",
       "\n",
       "         2014        2015        2016  \n",
       "0    103795.0    104341.0    104822.0  \n",
       "1  32758020.0  33736494.0  34656032.0  \n",
       "2  26920466.0  27859305.0  28813463.0  \n",
       "3   2889104.0   2880703.0   2876101.0  \n",
       "4     79223.0     78014.0     77281.0  \n",
       "\n",
       "[5 rows x 61 columns]"
      ]
     },
     "execution_count": 4,
     "metadata": {},
     "output_type": "execute_result"
    }
   ],
   "source": [
    "pop = pd.read_csv(\"data/country_population.csv\")\n",
    "pop.head()"
   ]
  },
  {
   "cell_type": "code",
   "execution_count": 5,
   "id": "e880aa64-18f3-4c60-b390-6dfb071d43cc",
   "metadata": {},
   "outputs": [
    {
     "data": {
      "text/html": [
       "<div>\n",
       "<style scoped>\n",
       "    .dataframe tbody tr th:only-of-type {\n",
       "        vertical-align: middle;\n",
       "    }\n",
       "\n",
       "    .dataframe tbody tr th {\n",
       "        vertical-align: top;\n",
       "    }\n",
       "\n",
       "    .dataframe thead th {\n",
       "        text-align: right;\n",
       "    }\n",
       "</style>\n",
       "<table border=\"1\" class=\"dataframe\">\n",
       "  <thead>\n",
       "    <tr style=\"text-align: right;\">\n",
       "      <th></th>\n",
       "      <th>Country Name</th>\n",
       "      <th>Country Code</th>\n",
       "      <th>Indicator Name</th>\n",
       "      <th>Indicator Code</th>\n",
       "      <th>1960</th>\n",
       "      <th>1961</th>\n",
       "      <th>1962</th>\n",
       "      <th>1963</th>\n",
       "      <th>1964</th>\n",
       "      <th>1965</th>\n",
       "      <th>...</th>\n",
       "      <th>2007</th>\n",
       "      <th>2008</th>\n",
       "      <th>2009</th>\n",
       "      <th>2010</th>\n",
       "      <th>2011</th>\n",
       "      <th>2012</th>\n",
       "      <th>2013</th>\n",
       "      <th>2014</th>\n",
       "      <th>2015</th>\n",
       "      <th>2016</th>\n",
       "    </tr>\n",
       "  </thead>\n",
       "  <tbody>\n",
       "    <tr>\n",
       "      <th>0</th>\n",
       "      <td>Aruba</td>\n",
       "      <td>ABW</td>\n",
       "      <td>Fertility rate, total (births per woman)</td>\n",
       "      <td>SP.DYN.TFRT.IN</td>\n",
       "      <td>4.820</td>\n",
       "      <td>4.655</td>\n",
       "      <td>4.471</td>\n",
       "      <td>4.271</td>\n",
       "      <td>4.059</td>\n",
       "      <td>3.842</td>\n",
       "      <td>...</td>\n",
       "      <td>1.763</td>\n",
       "      <td>1.764</td>\n",
       "      <td>1.769</td>\n",
       "      <td>1.776</td>\n",
       "      <td>1.783</td>\n",
       "      <td>1.791</td>\n",
       "      <td>1.796</td>\n",
       "      <td>1.800</td>\n",
       "      <td>1.801</td>\n",
       "      <td>1.800</td>\n",
       "    </tr>\n",
       "    <tr>\n",
       "      <th>1</th>\n",
       "      <td>Afghanistan</td>\n",
       "      <td>AFG</td>\n",
       "      <td>Fertility rate, total (births per woman)</td>\n",
       "      <td>SP.DYN.TFRT.IN</td>\n",
       "      <td>7.450</td>\n",
       "      <td>7.450</td>\n",
       "      <td>7.450</td>\n",
       "      <td>7.450</td>\n",
       "      <td>7.450</td>\n",
       "      <td>7.450</td>\n",
       "      <td>...</td>\n",
       "      <td>6.460</td>\n",
       "      <td>6.254</td>\n",
       "      <td>6.038</td>\n",
       "      <td>5.816</td>\n",
       "      <td>5.595</td>\n",
       "      <td>5.380</td>\n",
       "      <td>5.174</td>\n",
       "      <td>4.981</td>\n",
       "      <td>4.802</td>\n",
       "      <td>4.635</td>\n",
       "    </tr>\n",
       "    <tr>\n",
       "      <th>2</th>\n",
       "      <td>Angola</td>\n",
       "      <td>AGO</td>\n",
       "      <td>Fertility rate, total (births per woman)</td>\n",
       "      <td>SP.DYN.TFRT.IN</td>\n",
       "      <td>7.478</td>\n",
       "      <td>7.524</td>\n",
       "      <td>7.563</td>\n",
       "      <td>7.592</td>\n",
       "      <td>7.611</td>\n",
       "      <td>7.619</td>\n",
       "      <td>...</td>\n",
       "      <td>6.368</td>\n",
       "      <td>6.307</td>\n",
       "      <td>6.238</td>\n",
       "      <td>6.162</td>\n",
       "      <td>6.082</td>\n",
       "      <td>6.000</td>\n",
       "      <td>5.920</td>\n",
       "      <td>5.841</td>\n",
       "      <td>5.766</td>\n",
       "      <td>5.694</td>\n",
       "    </tr>\n",
       "    <tr>\n",
       "      <th>3</th>\n",
       "      <td>Albania</td>\n",
       "      <td>ALB</td>\n",
       "      <td>Fertility rate, total (births per woman)</td>\n",
       "      <td>SP.DYN.TFRT.IN</td>\n",
       "      <td>6.489</td>\n",
       "      <td>6.401</td>\n",
       "      <td>6.282</td>\n",
       "      <td>6.133</td>\n",
       "      <td>5.960</td>\n",
       "      <td>5.773</td>\n",
       "      <td>...</td>\n",
       "      <td>1.668</td>\n",
       "      <td>1.650</td>\n",
       "      <td>1.646</td>\n",
       "      <td>1.653</td>\n",
       "      <td>1.668</td>\n",
       "      <td>1.685</td>\n",
       "      <td>1.700</td>\n",
       "      <td>1.710</td>\n",
       "      <td>1.714</td>\n",
       "      <td>1.713</td>\n",
       "    </tr>\n",
       "    <tr>\n",
       "      <th>4</th>\n",
       "      <td>Andorra</td>\n",
       "      <td>AND</td>\n",
       "      <td>Fertility rate, total (births per woman)</td>\n",
       "      <td>SP.DYN.TFRT.IN</td>\n",
       "      <td>NaN</td>\n",
       "      <td>NaN</td>\n",
       "      <td>NaN</td>\n",
       "      <td>NaN</td>\n",
       "      <td>NaN</td>\n",
       "      <td>NaN</td>\n",
       "      <td>...</td>\n",
       "      <td>1.180</td>\n",
       "      <td>1.250</td>\n",
       "      <td>1.190</td>\n",
       "      <td>1.270</td>\n",
       "      <td>NaN</td>\n",
       "      <td>NaN</td>\n",
       "      <td>NaN</td>\n",
       "      <td>NaN</td>\n",
       "      <td>NaN</td>\n",
       "      <td>NaN</td>\n",
       "    </tr>\n",
       "  </tbody>\n",
       "</table>\n",
       "<p>5 rows × 61 columns</p>\n",
       "</div>"
      ],
      "text/plain": [
       "  Country Name Country Code                            Indicator Name  \\\n",
       "0        Aruba          ABW  Fertility rate, total (births per woman)   \n",
       "1  Afghanistan          AFG  Fertility rate, total (births per woman)   \n",
       "2       Angola          AGO  Fertility rate, total (births per woman)   \n",
       "3      Albania          ALB  Fertility rate, total (births per woman)   \n",
       "4      Andorra          AND  Fertility rate, total (births per woman)   \n",
       "\n",
       "   Indicator Code   1960   1961   1962   1963   1964   1965  ...   2007  \\\n",
       "0  SP.DYN.TFRT.IN  4.820  4.655  4.471  4.271  4.059  3.842  ...  1.763   \n",
       "1  SP.DYN.TFRT.IN  7.450  7.450  7.450  7.450  7.450  7.450  ...  6.460   \n",
       "2  SP.DYN.TFRT.IN  7.478  7.524  7.563  7.592  7.611  7.619  ...  6.368   \n",
       "3  SP.DYN.TFRT.IN  6.489  6.401  6.282  6.133  5.960  5.773  ...  1.668   \n",
       "4  SP.DYN.TFRT.IN    NaN    NaN    NaN    NaN    NaN    NaN  ...  1.180   \n",
       "\n",
       "    2008   2009   2010   2011   2012   2013   2014   2015   2016  \n",
       "0  1.764  1.769  1.776  1.783  1.791  1.796  1.800  1.801  1.800  \n",
       "1  6.254  6.038  5.816  5.595  5.380  5.174  4.981  4.802  4.635  \n",
       "2  6.307  6.238  6.162  6.082  6.000  5.920  5.841  5.766  5.694  \n",
       "3  1.650  1.646  1.653  1.668  1.685  1.700  1.710  1.714  1.713  \n",
       "4  1.250  1.190  1.270    NaN    NaN    NaN    NaN    NaN    NaN  \n",
       "\n",
       "[5 rows x 61 columns]"
      ]
     },
     "execution_count": 5,
     "metadata": {},
     "output_type": "execute_result"
    }
   ],
   "source": [
    "fert_rate = pd.read_csv(\"data/fertility_rate.csv\")\n",
    "fert_rate.head()"
   ]
  },
  {
   "cell_type": "code",
   "execution_count": 6,
   "id": "9e7b73f2-f550-4bcd-89e6-5bfd3d57d523",
   "metadata": {},
   "outputs": [
    {
     "data": {
      "text/html": [
       "<div>\n",
       "<style scoped>\n",
       "    .dataframe tbody tr th:only-of-type {\n",
       "        vertical-align: middle;\n",
       "    }\n",
       "\n",
       "    .dataframe tbody tr th {\n",
       "        vertical-align: top;\n",
       "    }\n",
       "\n",
       "    .dataframe thead th {\n",
       "        text-align: right;\n",
       "    }\n",
       "</style>\n",
       "<table border=\"1\" class=\"dataframe\">\n",
       "  <thead>\n",
       "    <tr style=\"text-align: right;\">\n",
       "      <th></th>\n",
       "      <th>Country Name</th>\n",
       "      <th>Country Code</th>\n",
       "      <th>Indicator Name</th>\n",
       "      <th>Indicator Code</th>\n",
       "      <th>1960</th>\n",
       "      <th>1961</th>\n",
       "      <th>1962</th>\n",
       "      <th>1963</th>\n",
       "      <th>1964</th>\n",
       "      <th>1965</th>\n",
       "      <th>...</th>\n",
       "      <th>2007</th>\n",
       "      <th>2008</th>\n",
       "      <th>2009</th>\n",
       "      <th>2010</th>\n",
       "      <th>2011</th>\n",
       "      <th>2012</th>\n",
       "      <th>2013</th>\n",
       "      <th>2014</th>\n",
       "      <th>2015</th>\n",
       "      <th>2016</th>\n",
       "    </tr>\n",
       "  </thead>\n",
       "  <tbody>\n",
       "    <tr>\n",
       "      <th>0</th>\n",
       "      <td>Aruba</td>\n",
       "      <td>ABW</td>\n",
       "      <td>Life expectancy at birth, total (years)</td>\n",
       "      <td>SP.DYN.LE00.IN</td>\n",
       "      <td>65.662</td>\n",
       "      <td>66.074</td>\n",
       "      <td>66.444</td>\n",
       "      <td>66.787</td>\n",
       "      <td>67.113</td>\n",
       "      <td>67.435</td>\n",
       "      <td>...</td>\n",
       "      <td>74.576</td>\n",
       "      <td>74.725</td>\n",
       "      <td>74.872</td>\n",
       "      <td>75.016</td>\n",
       "      <td>75.158</td>\n",
       "      <td>75.299</td>\n",
       "      <td>75.440</td>\n",
       "      <td>75.582</td>\n",
       "      <td>75.725</td>\n",
       "      <td>75.867</td>\n",
       "    </tr>\n",
       "    <tr>\n",
       "      <th>1</th>\n",
       "      <td>Afghanistan</td>\n",
       "      <td>AFG</td>\n",
       "      <td>Life expectancy at birth, total (years)</td>\n",
       "      <td>SP.DYN.LE00.IN</td>\n",
       "      <td>32.292</td>\n",
       "      <td>32.742</td>\n",
       "      <td>33.185</td>\n",
       "      <td>33.624</td>\n",
       "      <td>34.060</td>\n",
       "      <td>34.495</td>\n",
       "      <td>...</td>\n",
       "      <td>59.694</td>\n",
       "      <td>60.243</td>\n",
       "      <td>60.754</td>\n",
       "      <td>61.226</td>\n",
       "      <td>61.666</td>\n",
       "      <td>62.086</td>\n",
       "      <td>62.494</td>\n",
       "      <td>62.895</td>\n",
       "      <td>63.288</td>\n",
       "      <td>63.673</td>\n",
       "    </tr>\n",
       "    <tr>\n",
       "      <th>2</th>\n",
       "      <td>Angola</td>\n",
       "      <td>AGO</td>\n",
       "      <td>Life expectancy at birth, total (years)</td>\n",
       "      <td>SP.DYN.LE00.IN</td>\n",
       "      <td>33.251</td>\n",
       "      <td>33.573</td>\n",
       "      <td>33.914</td>\n",
       "      <td>34.272</td>\n",
       "      <td>34.645</td>\n",
       "      <td>35.031</td>\n",
       "      <td>...</td>\n",
       "      <td>55.096</td>\n",
       "      <td>56.189</td>\n",
       "      <td>57.231</td>\n",
       "      <td>58.192</td>\n",
       "      <td>59.042</td>\n",
       "      <td>59.770</td>\n",
       "      <td>60.373</td>\n",
       "      <td>60.858</td>\n",
       "      <td>61.241</td>\n",
       "      <td>61.547</td>\n",
       "    </tr>\n",
       "    <tr>\n",
       "      <th>3</th>\n",
       "      <td>Albania</td>\n",
       "      <td>ALB</td>\n",
       "      <td>Life expectancy at birth, total (years)</td>\n",
       "      <td>SP.DYN.LE00.IN</td>\n",
       "      <td>62.279</td>\n",
       "      <td>63.298</td>\n",
       "      <td>64.187</td>\n",
       "      <td>64.911</td>\n",
       "      <td>65.461</td>\n",
       "      <td>65.848</td>\n",
       "      <td>...</td>\n",
       "      <td>75.656</td>\n",
       "      <td>75.943</td>\n",
       "      <td>76.281</td>\n",
       "      <td>76.652</td>\n",
       "      <td>77.031</td>\n",
       "      <td>77.389</td>\n",
       "      <td>77.702</td>\n",
       "      <td>77.963</td>\n",
       "      <td>78.174</td>\n",
       "      <td>78.345</td>\n",
       "    </tr>\n",
       "    <tr>\n",
       "      <th>4</th>\n",
       "      <td>Andorra</td>\n",
       "      <td>AND</td>\n",
       "      <td>Life expectancy at birth, total (years)</td>\n",
       "      <td>SP.DYN.LE00.IN</td>\n",
       "      <td>NaN</td>\n",
       "      <td>NaN</td>\n",
       "      <td>NaN</td>\n",
       "      <td>NaN</td>\n",
       "      <td>NaN</td>\n",
       "      <td>NaN</td>\n",
       "      <td>...</td>\n",
       "      <td>NaN</td>\n",
       "      <td>NaN</td>\n",
       "      <td>NaN</td>\n",
       "      <td>NaN</td>\n",
       "      <td>NaN</td>\n",
       "      <td>NaN</td>\n",
       "      <td>NaN</td>\n",
       "      <td>NaN</td>\n",
       "      <td>NaN</td>\n",
       "      <td>NaN</td>\n",
       "    </tr>\n",
       "  </tbody>\n",
       "</table>\n",
       "<p>5 rows × 61 columns</p>\n",
       "</div>"
      ],
      "text/plain": [
       "  Country Name Country Code                           Indicator Name  \\\n",
       "0        Aruba          ABW  Life expectancy at birth, total (years)   \n",
       "1  Afghanistan          AFG  Life expectancy at birth, total (years)   \n",
       "2       Angola          AGO  Life expectancy at birth, total (years)   \n",
       "3      Albania          ALB  Life expectancy at birth, total (years)   \n",
       "4      Andorra          AND  Life expectancy at birth, total (years)   \n",
       "\n",
       "   Indicator Code    1960    1961    1962    1963    1964    1965  ...  \\\n",
       "0  SP.DYN.LE00.IN  65.662  66.074  66.444  66.787  67.113  67.435  ...   \n",
       "1  SP.DYN.LE00.IN  32.292  32.742  33.185  33.624  34.060  34.495  ...   \n",
       "2  SP.DYN.LE00.IN  33.251  33.573  33.914  34.272  34.645  35.031  ...   \n",
       "3  SP.DYN.LE00.IN  62.279  63.298  64.187  64.911  65.461  65.848  ...   \n",
       "4  SP.DYN.LE00.IN     NaN     NaN     NaN     NaN     NaN     NaN  ...   \n",
       "\n",
       "     2007    2008    2009    2010    2011    2012    2013    2014    2015  \\\n",
       "0  74.576  74.725  74.872  75.016  75.158  75.299  75.440  75.582  75.725   \n",
       "1  59.694  60.243  60.754  61.226  61.666  62.086  62.494  62.895  63.288   \n",
       "2  55.096  56.189  57.231  58.192  59.042  59.770  60.373  60.858  61.241   \n",
       "3  75.656  75.943  76.281  76.652  77.031  77.389  77.702  77.963  78.174   \n",
       "4     NaN     NaN     NaN     NaN     NaN     NaN     NaN     NaN     NaN   \n",
       "\n",
       "     2016  \n",
       "0  75.867  \n",
       "1  63.673  \n",
       "2  61.547  \n",
       "3  78.345  \n",
       "4     NaN  \n",
       "\n",
       "[5 rows x 61 columns]"
      ]
     },
     "execution_count": 6,
     "metadata": {},
     "output_type": "execute_result"
    }
   ],
   "source": [
    "life_expect = pd.read_csv(\"data/life_expectancy.csv\")\n",
    "life_expect.head()"
   ]
  },
  {
   "cell_type": "code",
   "execution_count": 7,
   "id": "28a08391-c09b-45b3-9ddc-018f6bf0d7c6",
   "metadata": {},
   "outputs": [
    {
     "data": {
      "text/plain": [
       "['Solomon Islands',\n",
       " 'Finland',\n",
       " 'Burkina Faso',\n",
       " 'Switzerland',\n",
       " 'Timor-Leste',\n",
       " 'Portugal',\n",
       " 'Chile',\n",
       " 'Bosnia and Herzegovina',\n",
       " 'Uruguay',\n",
       " 'Russian Federation']"
      ]
     },
     "execution_count": 7,
     "metadata": {},
     "output_type": "execute_result"
    }
   ],
   "source": [
    "countries = list(pop[\"Country Name\"].sample(n=10, random_state=66))\n",
    "countries"
   ]
  },
  {
   "cell_type": "code",
   "execution_count": 8,
   "id": "ee1b44b3-ef0a-4686-94b9-73b4e2f81d8c",
   "metadata": {},
   "outputs": [
    {
     "data": {
      "text/plain": [
       "<AxesSubplot: xlabel='Year', ylabel='Population'>"
      ]
     },
     "execution_count": 8,
     "metadata": {},
     "output_type": "execute_result"
    },
    {
     "data": {
      "image/png": "[encoded data removed]",
      "text/plain": [
       "<Figure size 640x480 with 1 Axes>"
      ]
     },
     "metadata": {},
     "output_type": "display_data"
    }
   ],
   "source": [
    "reshape(filter_(pop, countries)).plot(xlabel=\"Year\", ylabel=\"Population\")"
   ]
  },
  {
   "cell_type": "code",
   "execution_count": 9,
   "id": "015eeda7-2954-4616-b41e-2721cde3505b",
   "metadata": {},
   "outputs": [],
   "source": [
    "def structure_data(data: pd.Series, lag = 5):\n",
    "    labels = [-1*i for i in range(1,lag+1)]\n",
    "    df = pd.DataFrame(columns = labels + [\"y\"])\n",
    "    \n",
    "    for i in data.index:\n",
    "        try:\n",
    "            df.loc[i] = dict(zip(labels, data.loc[[i - k for k in range(1, lag+1)]])) | {\"y\" : data.loc[i]}\n",
    "        except:\n",
    "            continue\n",
    "    return df"
   ]
  },
  {
   "cell_type": "code",
   "execution_count": 10,
   "id": "3c426358-6805-49e9-a928-9b3af92be0ec",
   "metadata": {},
   "outputs": [
    {
     "data": {
      "text/plain": [
       "1960    8857716.0\n",
       "1961    8929316.0\n",
       "1962    8993985.0\n",
       "1963    9030355.0\n",
       "1964    9035365.0\n",
       "Name: Portugal, dtype: float64"
      ]
     },
     "execution_count": 10,
     "metadata": {},
     "output_type": "execute_result"
    }
   ],
   "source": [
    "reshape(pop)[\"Portugal\"].iloc[:5]"
   ]
  },
  {
   "cell_type": "code",
   "execution_count": 25,
   "id": "4e05e98a-b585-44c6-afd8-e2c892fb88bc",
   "metadata": {},
   "outputs": [],
   "source": [
    "structure_data(reshape(pop)[\"Portugal\"]);"
   ]
  },
  {
   "cell_type": "code",
   "execution_count": 94,
   "id": "c89b0a5c-bee0-4329-967e-655077257d20",
   "metadata": {},
   "outputs": [],
   "source": [
    "class ForecastModel:\n",
    "    def __init__(self, \n",
    "                 estimator = LinearRegression(), \n",
    "                 lag : int = 5):\n",
    "        self._estimator = estimator\n",
    "        self.lag = lag\n",
    "    \n",
    "    def fit(self, X: Sequence, min_train=None, max_train=None) -> ForecastModel:\n",
    "        self.X, self.y, self.raw = self.to_matrix(X)\n",
    "        self.max_year = self.X.index.max()\n",
    "        self.min_year = self.X.index.min()\n",
    "        if min_train == None: min_train = self.min_year\n",
    "        if max_train == None: max_train = self.max_year\n",
    "        self._estimator.fit(self.X.loc[min_train:max_train], self.y.loc[min_train:max_train])\n",
    "        return self\n",
    "    \n",
    "    def predict(self, years: Sequence) -> Sequence:\n",
    "        ## caso é posterior ao nosso máximo\n",
    "        # -> necessário forecast case faltem dados ( e.g. 2018 precisa de 2017 .. )\n",
    "        #    recursividade\n",
    "        X = []\n",
    "        for year in years:\n",
    "            assert(year>=self.min_year)\n",
    "            X += [self.get_lags(year)]\n",
    "        ## caso está nos nossos dados\n",
    "        # -> acesso direto\n",
    "        return self._estimator.predict( X )\n",
    "    \n",
    "    def get_lags(self, year: int) -> Sequence:\n",
    "        return [self.get_year(year - i) for i in range(1,self.lag+1)]\n",
    "    \n",
    "    def get_year(self, year: int) -> float:\n",
    "        try: \n",
    "            return self.raw.loc[year]\n",
    "        except:\n",
    "            #print(f\"Predicting non-existing: {year}\")\n",
    "            pred = self.predict([year])[0]\n",
    "            self.raw.loc[year] = pred\n",
    "            return self.raw.loc[year]\n",
    "        \n",
    "    def to_matrix(self, X: pd.Series):\n",
    "        new_X = pd.DataFrame( \n",
    "            data={ -i: X.shift(i) for i in range(1, self.lag + 1) }\n",
    "        ).dropna()\n",
    "        y = X.loc[new_X.index]\n",
    "        \n",
    "        return new_X, y, X"
   ]
  },
  {
   "cell_type": "code",
   "execution_count": 75,
   "id": "eb327000-7010-4818-b1ca-75198d047919",
   "metadata": {},
   "outputs": [],
   "source": [
    "label=\"Portugal\"#countries[3]"
   ]
  },
  {
   "cell_type": "code",
   "execution_count": 166,
   "id": "029d9d6f-aba0-4151-bdfd-2d08f2bd8c4e",
   "metadata": {},
   "outputs": [],
   "source": [
    "model = ForecastModel(lag=3).fit(reshape(pop)[label])"
   ]
  },
  {
   "cell_type": "code",
   "execution_count": 167,
   "id": "2b1904bf-af7d-4f50-a3d5-c90c3def328f",
   "metadata": {},
   "outputs": [
    {
     "data": {
      "text/plain": [
       "array([10332542.63979318])"
      ]
     },
     "execution_count": 167,
     "metadata": {},
     "output_type": "execute_result"
    }
   ],
   "source": [
    "model.predict([2016])"
   ]
  },
  {
   "cell_type": "code",
   "execution_count": 168,
   "id": "066b06e4-f941-4fa2-921c-d1d953271c70",
   "metadata": {},
   "outputs": [
    {
     "data": {
      "text/plain": [
       "10325452.0"
      ]
     },
     "execution_count": 168,
     "metadata": {},
     "output_type": "execute_result"
    }
   ],
   "source": [
    "reshape(pop)[label].loc[2016]"
   ]
  },
  {
   "cell_type": "code",
   "execution_count": 169,
   "id": "ecd56f1c-1239-43a8-b822-61dd886276d9",
   "metadata": {},
   "outputs": [
    {
     "data": {
      "text/plain": [
       "7090.639793176204"
      ]
     },
     "execution_count": 169,
     "metadata": {},
     "output_type": "execute_result"
    }
   ],
   "source": [
    "err = mean_squared_error( [reshape(pop)[label].loc[2016]], model.predict([2016]), squared=False)\n",
    "err"
   ]
  },
  {
   "cell_type": "code",
   "execution_count": 170,
   "id": "c34cf094-7091-4c8a-adcc-758b6b7a3742",
   "metadata": {},
   "outputs": [
    {
     "data": {
      "text/plain": [
       "9783032.912280701"
      ]
     },
     "execution_count": 170,
     "metadata": {},
     "output_type": "execute_result"
    }
   ],
   "source": [
    "mean = reshape(pop)[label].mean()\n",
    "mean"
   ]
  },
  {
   "cell_type": "code",
   "execution_count": 171,
   "id": "4eeccb48-ee52-4534-85f6-37b7d9fb5dcb",
   "metadata": {},
   "outputs": [
    {
     "data": {
      "text/plain": [
       "0.0007247895265971436"
      ]
     },
     "execution_count": 171,
     "metadata": {},
     "output_type": "execute_result"
    }
   ],
   "source": [
    "err/mean"
   ]
  },
  {
   "cell_type": "code",
   "execution_count": 172,
   "id": "d8f46e63-6d96-444c-a0f8-1901ea5fed1a",
   "metadata": {},
   "outputs": [],
   "source": [
    "preds = model.predict( list(range(2000, 2017)))"
   ]
  },
  {
   "cell_type": "code",
   "execution_count": 173,
   "id": "fa15f6a2-41a4-4ddf-b245-367a0806e675",
   "metadata": {},
   "outputs": [
    {
     "data": {
      "text/plain": [
       "Text(0.5, 1.0, 'Portugal')"
      ]
     },
     "execution_count": 173,
     "metadata": {},
     "output_type": "execute_result"
    },
    {
     "data": {
      "image/png": "[encoded data removed]",
      "text/plain": [
       "<Figure size 640x480 with 1 Axes>"
      ]
     },
     "metadata": {},
     "output_type": "display_data"
    }
   ],
   "source": [
    "plt.plot(reshape(pop)[label].loc[2000:2016], label=\"True Values\")\n",
    "plt.plot(range(2000, 2017), preds, label =\"Predicted Values\")\n",
    "#plt.plot(mean_squared_error( reshape(pop)[\"Portugal\"].loc[1965: 2015], preds, squared=False), color=\"green\")\n",
    "plt.legend()\n",
    "plt.xlabel(\"Year\")\n",
    "plt.ylabel(\"Population\")\n",
    "plt.title(label)"
   ]
  },
  {
   "cell_type": "code",
   "execution_count": 174,
   "id": "88029e4f-cdf1-4032-a9c1-4fc9ec0dbccc",
   "metadata": {},
   "outputs": [],
   "source": [
    "#real data from 2017 to 2021 in portugal\n",
    "y_test = [10300300, 10283822, 10286263, 10297081, 10299423]"
   ]
  },
  {
   "cell_type": "code",
   "execution_count": 175,
   "id": "d781f497-7619-4c0f-9402-743fa8b5416e",
   "metadata": {},
   "outputs": [],
   "source": [
    "preds = model.predict(range(2017,2022))"
   ]
  },
  {
   "cell_type": "code",
   "execution_count": 176,
   "id": "e076bb65-e2d2-40f0-9861-e181220c2f9e",
   "metadata": {},
   "outputs": [
    {
     "data": {
      "text/plain": [
       "array([10306685.69616341, 10299698.06424989, 10300595.37294878,\n",
       "       10305706.49241289, 10312382.320184  ])"
      ]
     },
     "execution_count": 176,
     "metadata": {},
     "output_type": "execute_result"
    }
   ],
   "source": [
    "preds"
   ]
  },
  {
   "cell_type": "code",
   "execution_count": 177,
   "id": "5e7bd89e-7c94-4a12-a9d6-f614460822eb",
   "metadata": {},
   "outputs": [
    {
     "data": {
      "text/plain": [
       "12170.34547494238"
      ]
     },
     "execution_count": 177,
     "metadata": {},
     "output_type": "execute_result"
    }
   ],
   "source": [
    "mean_squared_error( y_test, preds, squared=False)"
   ]
  },
  {
   "cell_type": "code",
   "execution_count": 178,
   "id": "f1e9253f-6333-4fe8-ac5a-87c34b65e82f",
   "metadata": {},
   "outputs": [
    {
     "data": {
      "text/plain": [
       "Text(0.5, 1.0, 'Portugal')"
      ]
     },
     "execution_count": 178,
     "metadata": {},
     "output_type": "execute_result"
    },
    {
     "data": {
      "image/png": "[encoded data removed]",
      "text/plain": [
       "<Figure size 640x480 with 1 Axes>"
      ]
     },
     "metadata": {},
     "output_type": "display_data"
    }
   ],
   "source": [
    "plt.plot(range(2017, 2022), y_test, label=\"True Values\")\n",
    "plt.plot(range(2017, 2022), preds, label =\"Predicted Values\")\n",
    "#plt.plot(mean_squared_error( reshape(pop)[\"Portugal\"].loc[1965: 2015], preds, squared=False), color=\"green\")\n",
    "plt.legend()\n",
    "plt.xlabel(\"Year\")\n",
    "plt.ylabel(\"Population\")\n",
    "plt.title(label)"
   ]
  },
  {
   "cell_type": "code",
   "execution_count": null,
   "id": "9c3a1e3a-417b-4e9e-8781-3d0b84c2a60c",
   "metadata": {},
   "outputs": [],
   "source": []
  }
 ],
 "metadata": {
  "kernelspec": {
   "display_name": "Python 3 (ipykernel)",
   "language": "python",
   "name": "python3"
  },
  "language_info": {
   "codemirror_mode": {
    "name": "ipython",
    "version": 3
   },
   "file_extension": ".py",
   "mimetype": "text/x-python",
   "name": "python",
   "nbconvert_exporter": "python",
   "pygments_lexer": "ipython3",
   "version": "3.9.7"
  }
 },
 "nbformat": 4,
 "nbformat_minor": 5
}
