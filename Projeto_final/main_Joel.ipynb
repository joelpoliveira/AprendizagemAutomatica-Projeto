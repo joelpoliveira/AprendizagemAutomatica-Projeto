{
 "cells": [
  {
   "cell_type": "code",
   "execution_count": null,
   "id": "8e3ece54-119d-40d4-9c41-965cdd22ea6d",
   "metadata": {},
   "outputs": [],
   "source": [
    "import pandas as pd\n",
    "import numpy as np\n",
    "import matplotlib.pyplot as plt\n",
    "from pprint import pprint\n",
    "\n",
    "from sklearn.preprocessing import LabelBinarizer, OneHotEncoder, MultiLabelBinarizer, PolynomialFeatures, StandardScaler\n",
    "from sklearn.metrics import mean_squared_error, max_error, mutual_info_score, \n",
    "from sklearn.linear_model import LinearRegression, Lasso, Ridge\n",
    "from sklearn.tree import DecisionTreeRegressor\n",
    "from sklearn.neighbors import KNeighborsRegressor\n",
    "from sklearn.multioutput import MultiOutputRegressor\n",
    "from sklearn.svm import SVR, LinearSVR\n",
    "\n",
    "from typing import Sequence"
   ]
  },
  {
   "cell_type": "code",
   "execution_count": null,
   "id": "ecfe84ec-e6fc-49b4-8cdc-39ad376937bd",
   "metadata": {},
   "outputs": [],
   "source": [
    "def reshape(df: pd.DataFrame, scale:bool =False, start=1960, stop=2016) -> pd.DataFrame:\n",
    "    columns = df[\"Country Name\"]\n",
    "    index = range(start, stop+1)\n",
    "    data = df[[f\"{i}\" for i in index]].to_numpy().T\n",
    "    \n",
    "    df = pd.DataFrame(data = data,\n",
    "                        columns=columns,\n",
    "                        index=index)\n",
    "    if scale:\n",
    "        df = ( df-df.mean() ) / df.std() \n",
    "    return df "
   ]
  },
  {
   "cell_type": "code",
   "execution_count": null,
   "id": "ceebecf2-ad1e-4ffc-a58e-010a484cce17",
   "metadata": {},
   "outputs": [],
   "source": [
    "filter_ = lambda df, country: df[df[\"Country Name\"].isin(country)]"
   ]
  },
  {
   "cell_type": "code",
   "execution_count": null,
   "id": "2e1f59d5-8817-422a-8d90-6280cf531d38",
   "metadata": {},
   "outputs": [],
   "source": [
    "pop = pd.read_csv(\"data/country_population.csv\")\n",
    "pop.head()"
   ]
  },
  {
   "cell_type": "code",
   "execution_count": null,
   "id": "e880aa64-18f3-4c60-b390-6dfb071d43cc",
   "metadata": {},
   "outputs": [],
   "source": [
    "fert_rate = pd.read_csv(\"data/fertility_rate.csv\")\n",
    "fert_rate.head()"
   ]
  },
  {
   "cell_type": "code",
   "execution_count": null,
   "id": "9e7b73f2-f550-4bcd-89e6-5bfd3d57d523",
   "metadata": {},
   "outputs": [],
   "source": [
    "life_expect = pd.read_csv(\"data/life_expectancy.csv\")\n",
    "life_expect.head()"
   ]
  },
  {
   "cell_type": "code",
   "execution_count": null,
   "id": "28a08391-c09b-45b3-9ddc-018f6bf0d7c6",
   "metadata": {},
   "outputs": [],
   "source": [
    "countries = list(pop[\"Country Name\"].sample(n=10, random_state=66))\n",
    "pprint(list(enumerate(countries)))"
   ]
  },
  {
   "cell_type": "code",
   "execution_count": null,
   "id": "bbb7bb5c-9ece-4c1c-bbe7-d3aadd3b98e5",
   "metadata": {},
   "outputs": [],
   "source": [
    "label = countries[5]\n",
    "#pop, life_expect, fert_rate\n",
    "data = pop"
   ]
  },
  {
   "cell_type": "code",
   "execution_count": null,
   "id": "ee1b44b3-ef0a-4686-94b9-73b4e2f81d8c",
   "metadata": {},
   "outputs": [],
   "source": [
    "reshape(filter_(data, countries)).plot(xlabel=\"Year\", ylabel=\"___\")"
   ]
  },
  {
   "cell_type": "code",
   "execution_count": null,
   "id": "3c426358-6805-49e9-a928-9b3af92be0ec",
   "metadata": {},
   "outputs": [],
   "source": [
    "reshape(data)[label].iloc[:5]"
   ]
  },
  {
   "cell_type": "code",
   "execution_count": null,
   "id": "9424d7dc-6684-4d5a-96c3-7a7cf9361cec",
   "metadata": {},
   "outputs": [],
   "source": [
    "def to_matrix(X: pd.Series, lags=5):\n",
    "        new_X = pd.DataFrame( \n",
    "            data={ -i: X.shift(i) for i in range(1, lags + 1) }\n",
    "        ).dropna()\n",
    "        y = X.loc[new_X.index]\n",
    "        return pd.concat((new_X, y), axis=1)"
   ]
  },
  {
   "cell_type": "code",
   "execution_count": null,
   "id": "4e05e98a-b585-44c6-afd8-e2c892fb88bc",
   "metadata": {},
   "outputs": [],
   "source": [
    "to_matrix(reshape(data)[label], lags=10).corr()[label]"
   ]
  },
  {
   "cell_type": "code",
   "execution_count": null,
   "id": "c89b0a5c-bee0-4329-967e-655077257d20",
   "metadata": {},
   "outputs": [],
   "source": [
    "class ForecastModel:\n",
    "    def __init__(self, \n",
    "                 estimator = LinearRegression(), \n",
    "                 lag : int = 5):\n",
    "        self._estimator = estimator\n",
    "        self.lag = lag\n",
    "    \n",
    "    def fit(self, X: Sequence, min_train=None, max_train=None):\n",
    "        self.X, self.y, self.raw = self.to_matrix(X)\n",
    "        self.max_year = self.X.index.max()\n",
    "        self.min_year = self.X.index.min()\n",
    "        if min_train == None: min_train = self.min_year\n",
    "        if max_train == None: max_train = self.max_year\n",
    "        self._estimator.fit(self.X.loc[min_train:max_train], self.y.loc[min_train:max_train])\n",
    "        return self\n",
    "    \n",
    "    def predict(self, years: Sequence) -> Sequence:\n",
    "        X = []\n",
    "        for year in years:\n",
    "            assert(year>=self.min_year)\n",
    "            X += [self.get_lags(year)]\n",
    "\n",
    "        return self._estimator.predict( X )\n",
    "    \n",
    "    def get_lags(self, year: int) -> Sequence:\n",
    "        return [self.get_year(year - i) for i in range(1,self.lag+1)]\n",
    "    \n",
    "    def get_year(self, year: int) -> float:\n",
    "        try: \n",
    "            return self.raw.loc[year]\n",
    "        except:\n",
    "            #print(f\"Predicting non-existing: {year}\")\n",
    "            pred = self.predict([year])[0]\n",
    "            self.raw.loc[year] = pred\n",
    "            return self.raw.loc[year]\n",
    "        \n",
    "    def to_matrix(self, X: pd.Series):\n",
    "        new_X = pd.DataFrame( \n",
    "            data={ -i: X.shift(i) for i in range(1, self.lag + 1) }\n",
    "        ).dropna()\n",
    "        y = X.loc[new_X.index]\n",
    "        \n",
    "        return new_X, y, X"
   ]
  },
  {
   "cell_type": "code",
   "execution_count": null,
   "id": "029d9d6f-aba0-4151-bdfd-2d08f2bd8c4e",
   "metadata": {},
   "outputs": [],
   "source": [
    "model = ForecastModel(lag=5).fit(reshape(data)[label])"
   ]
  },
  {
   "cell_type": "markdown",
   "id": "cde7cb06-da06-4eca-9915-7277ab0415d8",
   "metadata": {},
   "source": [
    "# Predicting on the **Training** Set for a Series of Years"
   ]
  },
  {
   "cell_type": "code",
   "execution_count": null,
   "id": "2b1904bf-af7d-4f50-a3d5-c90c3def328f",
   "metadata": {},
   "outputs": [],
   "source": [
    "train_pred = model.predict([2016])\n",
    "real = model.raw.loc[2016]\n",
    "err = mean_squared_error([real], train_pred, squared=False)\n",
    "print(f\"\"\"Predicted value is: {train_pred[0]:.3f};\n",
    "True value is: {real:.3f};\n",
    "\n",
    "Root Mean Squared Error is: {err:.3f}\n",
    "Error in relation to mean is: {err/model.raw.mean():.3f}\"\"\")"
   ]
  },
  {
   "cell_type": "code",
   "execution_count": null,
   "id": "663bb5ff-5f76-4364-9607-daa7bb41a6f8",
   "metadata": {},
   "outputs": [],
   "source": [
    "min_year = 2000;\n",
    "max_year = 2016;"
   ]
  },
  {
   "cell_type": "code",
   "execution_count": null,
   "id": "d8f46e63-6d96-444c-a0f8-1901ea5fed1a",
   "metadata": {},
   "outputs": [],
   "source": [
    "preds = model.predict( list(range(min_year, max_year+1)))"
   ]
  },
  {
   "cell_type": "code",
   "execution_count": null,
   "id": "fa15f6a2-41a4-4ddf-b245-367a0806e675",
   "metadata": {},
   "outputs": [],
   "source": [
    "def plot_sub(ax, x, y, label=\"\", xlabel=\"\", ylabel=\"\", title=\"\"):\n",
    "    ax.plot(x, y, label=label)\n",
    "    ax.set_xlabel(xlabel)\n",
    "    ax.set_ylabel(ylabel)\n",
    "    ax.set_title(title)\n",
    "    if label!=\"\":\n",
    "        ax.legend()\n",
    "\n",
    "def scat_sub(ax, x, y, label=\"\", xlabel=\"\", ylabel=\"\", title=\"\"):\n",
    "    ax.scatter(x, y, label=label)\n",
    "    ax.set_xlabel(xlabel)\n",
    "    ax.set_ylabel(ylabel)\n",
    "    ax.set_title(title)\n",
    "    if label!=\"\":\n",
    "        ax.legend()\n",
    "    \n",
    "f, ax = plt.subplots(1,2, figsize=(16,6))\n",
    "plot_sub(ax[0], range(min_year,max_year+1), reshape(data)[label].loc[min_year:max_year], label=\"True Values\")\n",
    "plot_sub(ax[0], range(min_year,max_year+1), preds, label=\"Predicted Values\", xlabel=\"Year\")\n",
    "\n",
    "scat_sub(ax[1], preds, reshape(data)[label].loc[min_year:max_year], xlabel=\"Predicted\", ylabel=\"True\")\n",
    "xy=np.linspace(preds.min(), preds.max())\n",
    "ax[1].plot(xy,xy, \"r\")"
   ]
  },
  {
   "cell_type": "markdown",
   "id": "0a8ec83a-7aa8-4ff1-8fa1-04cd5a1af55c",
   "metadata": {},
   "source": [
    "# Predicting on the **Test** Set for a Series of Years"
   ]
  },
  {
   "cell_type": "code",
   "execution_count": null,
   "id": "88029e4f-cdf1-4032-a9c1-4fc9ec0dbccc",
   "metadata": {},
   "outputs": [],
   "source": [
    "#real data from 2017 to 2021 in portugal\n",
    "y_test = pd.read_csv(\"data/country_population_test.csv\", index_col=0)[label]\n",
    "y_test"
   ]
  },
  {
   "cell_type": "code",
   "execution_count": null,
   "id": "d781f497-7619-4c0f-9402-743fa8b5416e",
   "metadata": {},
   "outputs": [],
   "source": [
    "preds = model.predict(y_test.index)\n",
    "preds"
   ]
  },
  {
   "cell_type": "code",
   "execution_count": null,
   "id": "5e7bd89e-7c94-4a12-a9d6-f614460822eb",
   "metadata": {},
   "outputs": [],
   "source": [
    "print(f\"rmse = {mean_squared_error( y_test, preds, squared=False)}\")"
   ]
  },
  {
   "cell_type": "code",
   "execution_count": null,
   "id": "06f7c816-96fe-49c1-b953-74a677b02410",
   "metadata": {},
   "outputs": [],
   "source": [
    "print(f\"Pearson Corr. Coef. = {np.corrcoef(y_test, preds)[0,1]}\")"
   ]
  },
  {
   "cell_type": "code",
   "execution_count": null,
   "id": "f1e9253f-6333-4fe8-ac5a-87c34b65e82f",
   "metadata": {},
   "outputs": [],
   "source": [
    "f, ax = plt.subplots(1,2, figsize=(16,6))\n",
    "plot_sub(ax[0], y_test.index, y_test, label=\"True Values\")\n",
    "plot_sub(ax[0], y_test.index, preds, label=\"Predicted Values\", xlabel=\"Year\")\n",
    "\n",
    "scat_sub(ax[1], preds, y_test, xlabel=\"Predicted\", ylabel=\"True\")\n",
    "xy=np.linspace(min(preds), max(preds))\n",
    "ax[1].plot(xy,xy, \"r\")"
   ]
  },
  {
   "cell_type": "markdown",
   "id": "047b76cd-8fc4-4140-b6b9-ef80c91d7926",
   "metadata": {},
   "source": [
    "# Predicting 2017 on the **Test** Set for several countries"
   ]
  },
  {
   "cell_type": "code",
   "execution_count": null,
   "id": "661aea0e-b8d1-4dde-b746-7aa0a83af0d8",
   "metadata": {},
   "outputs": [],
   "source": [
    "y_test=pd.read_csv(\"data/country_population_test.csv\", index_col=0).loc[2017]\n",
    "y_test"
   ]
  },
  {
   "cell_type": "code",
   "execution_count": null,
   "id": "dcc2f33f-c76e-4b88-944f-63156fe4f5e1",
   "metadata": {},
   "outputs": [],
   "source": [
    "mvts = reshape(data)\n",
    "preds = [ ForecastModel().fit( mvts[label] ).predict( [2017] )[0] for label in countries]\n",
    "preds"
   ]
  },
  {
   "cell_type": "code",
   "execution_count": null,
   "id": "4b6fb6af-bc0a-4c5c-baee-960aaa14e88a",
   "metadata": {},
   "outputs": [],
   "source": [
    "print(f\"rmse = {mean_squared_error( y_test, preds, squared=False)}\")"
   ]
  },
  {
   "cell_type": "code",
   "execution_count": null,
   "id": "280adf88-7ccf-47b7-9949-4192877160c7",
   "metadata": {},
   "outputs": [],
   "source": [
    "print(f\"Pearson Corr. Coef. = {np.corrcoef(y_test, preds)[0,1]}\")"
   ]
  },
  {
   "cell_type": "code",
   "execution_count": null,
   "id": "2224c669-9157-4a7d-9629-ca68b00ff3db",
   "metadata": {},
   "outputs": [],
   "source": [
    "x_ = range(len(countries))\n",
    "f, ax = plt.subplots(1,2, figsize=(16,6))\n",
    "plot_sub(ax[0], x_, y_test, label=\"True Values\")\n",
    "plot_sub(ax[0], x_, preds, label=\"Predicted Values\", xlabel=\"Country\")\n",
    "ax[0].set_xticks(x_, countries, rotation=45)\n",
    "\n",
    "scat_sub(ax[1], preds, y_test, xlabel=\"Predicted\", ylabel=\"True\")\n",
    "xy=np.linspace(min(preds), max(preds))\n",
    "ax[1].plot(xy,xy, \"r\")"
   ]
  },
  {
   "cell_type": "code",
   "execution_count": null,
   "id": "50b2ac50-6d05-4d10-9833-62d31d1a984c",
   "metadata": {},
   "outputs": [],
   "source": []
  }
 ],
 "metadata": {
  "kernelspec": {
   "display_name": "Python 3 (ipykernel)",
   "language": "python",
   "name": "python3"
  },
  "language_info": {
   "codemirror_mode": {
    "name": "ipython",
    "version": 3
   },
   "file_extension": ".py",
   "mimetype": "text/x-python",
   "name": "python",
   "nbconvert_exporter": "python",
   "pygments_lexer": "ipython3",
   "version": "3.9.7"
  }
 },
 "nbformat": 4,
 "nbformat_minor": 5
}
