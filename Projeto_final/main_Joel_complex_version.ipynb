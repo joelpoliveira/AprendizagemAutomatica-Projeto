{
 "cells": [
  {
   "cell_type": "code",
   "execution_count": 1,
   "id": "36ee828e-f19a-46be-8d05-9b24c901dcdf",
   "metadata": {},
   "outputs": [],
   "source": [
    "import pandas as pd\n",
    "import numpy as np\n",
    "import matplotlib.pyplot as plt\n",
    "from pprint import pprint\n",
    "\n",
    "from sklearn.preprocessing import LabelBinarizer, OneHotEncoder, MultiLabelBinarizer\n",
    "from sklearn.metrics import mean_squared_error, max_error\n",
    "from sklearn.linear_model import LinearRegression, Lasso, Ridge\n",
    "from sklearn.tree import DecisionTreeRegressor\n",
    "from sklearn.neighbors import KNeighborsRegressor\n",
    "from sklearn.multioutput import MultiOutputRegressor\n",
    "from sklearn.svm import SVR, LinearSVR\n",
    "from sklearn.preprocessing import StandardScaler\n",
    "import pickle\n",
    "from typing import Sequence"
   ]
  },
  {
   "cell_type": "code",
   "execution_count": 2,
   "id": "b1862098-1146-4724-8605-d13d765d2904",
   "metadata": {},
   "outputs": [],
   "source": [
    "\"\"\"\n",
    "Parameters:\n",
    "    df: 'dataframe' structured like in csv files\n",
    "    scale: 'bool', request to standardize data, default=False\n",
    "    start: 'int', representing the year where to start the timeseries\n",
    "    stop: 'int', representing the year where to stop the timeseries\n",
    "\n",
    "Output:\n",
    "    DataFrame with the follwing structure:\n",
    "        -> data   = values\n",
    "        -> columns= country_name\n",
    "        -> index  = year\n",
    "\n",
    "Description:\n",
    "    Basicly creates a multivariate time-series\n",
    "\"\"\"\n",
    "def reshape(df: pd.DataFrame, scale:bool =False, start=1960, stop=2016) -> pd.DataFrame:\n",
    "    columns = df[\"Country Name\"]\n",
    "    index = range(start, stop+1)\n",
    "    data = df[[f\"{i}\" for i in index]].to_numpy().T\n",
    "    \n",
    "    df = pd.DataFrame(data = data,\n",
    "                        columns=columns,\n",
    "                        index=index)\n",
    "    if scale:\n",
    "        df = ( df-df.mean() ) / df.std() \n",
    "    return df"
   ]
  },
  {
   "cell_type": "code",
   "execution_count": 3,
   "id": "d731b241-77dc-451a-a445-c6c7195c24cf",
   "metadata": {},
   "outputs": [],
   "source": [
    "filter_ = lambda df, country: df[df[\"Country Name\"].isin(country)]"
   ]
  },
  {
   "cell_type": "code",
   "execution_count": 4,
   "id": "d52185a4-67f3-4047-a897-a33f9e2e0ece",
   "metadata": {},
   "outputs": [
    {
     "data": {
      "text/html": [
       "<div>\n",
       "<style scoped>\n",
       "    .dataframe tbody tr th:only-of-type {\n",
       "        vertical-align: middle;\n",
       "    }\n",
       "\n",
       "    .dataframe tbody tr th {\n",
       "        vertical-align: top;\n",
       "    }\n",
       "\n",
       "    .dataframe thead th {\n",
       "        text-align: right;\n",
       "    }\n",
       "</style>\n",
       "<table border=\"1\" class=\"dataframe\">\n",
       "  <thead>\n",
       "    <tr style=\"text-align: right;\">\n",
       "      <th></th>\n",
       "      <th>Country Name</th>\n",
       "      <th>Country Code</th>\n",
       "      <th>Indicator Name</th>\n",
       "      <th>Indicator Code</th>\n",
       "      <th>1960</th>\n",
       "      <th>1961</th>\n",
       "      <th>1962</th>\n",
       "      <th>1963</th>\n",
       "      <th>1964</th>\n",
       "      <th>1965</th>\n",
       "      <th>...</th>\n",
       "      <th>2007</th>\n",
       "      <th>2008</th>\n",
       "      <th>2009</th>\n",
       "      <th>2010</th>\n",
       "      <th>2011</th>\n",
       "      <th>2012</th>\n",
       "      <th>2013</th>\n",
       "      <th>2014</th>\n",
       "      <th>2015</th>\n",
       "      <th>2016</th>\n",
       "    </tr>\n",
       "  </thead>\n",
       "  <tbody>\n",
       "    <tr>\n",
       "      <th>0</th>\n",
       "      <td>Aruba</td>\n",
       "      <td>ABW</td>\n",
       "      <td>Population, total</td>\n",
       "      <td>SP.POP.TOTL</td>\n",
       "      <td>54211.0</td>\n",
       "      <td>55438.0</td>\n",
       "      <td>56225.0</td>\n",
       "      <td>56695.0</td>\n",
       "      <td>57032.0</td>\n",
       "      <td>57360.0</td>\n",
       "      <td>...</td>\n",
       "      <td>101220.0</td>\n",
       "      <td>101353.0</td>\n",
       "      <td>101453.0</td>\n",
       "      <td>101669.0</td>\n",
       "      <td>102053.0</td>\n",
       "      <td>102577.0</td>\n",
       "      <td>103187.0</td>\n",
       "      <td>103795.0</td>\n",
       "      <td>104341.0</td>\n",
       "      <td>104822.0</td>\n",
       "    </tr>\n",
       "    <tr>\n",
       "      <th>1</th>\n",
       "      <td>Afghanistan</td>\n",
       "      <td>AFG</td>\n",
       "      <td>Population, total</td>\n",
       "      <td>SP.POP.TOTL</td>\n",
       "      <td>8996351.0</td>\n",
       "      <td>9166764.0</td>\n",
       "      <td>9345868.0</td>\n",
       "      <td>9533954.0</td>\n",
       "      <td>9731361.0</td>\n",
       "      <td>9938414.0</td>\n",
       "      <td>...</td>\n",
       "      <td>26616792.0</td>\n",
       "      <td>27294031.0</td>\n",
       "      <td>28004331.0</td>\n",
       "      <td>28803167.0</td>\n",
       "      <td>29708599.0</td>\n",
       "      <td>30696958.0</td>\n",
       "      <td>31731688.0</td>\n",
       "      <td>32758020.0</td>\n",
       "      <td>33736494.0</td>\n",
       "      <td>34656032.0</td>\n",
       "    </tr>\n",
       "    <tr>\n",
       "      <th>2</th>\n",
       "      <td>Angola</td>\n",
       "      <td>AGO</td>\n",
       "      <td>Population, total</td>\n",
       "      <td>SP.POP.TOTL</td>\n",
       "      <td>5643182.0</td>\n",
       "      <td>5753024.0</td>\n",
       "      <td>5866061.0</td>\n",
       "      <td>5980417.0</td>\n",
       "      <td>6093321.0</td>\n",
       "      <td>6203299.0</td>\n",
       "      <td>...</td>\n",
       "      <td>20997687.0</td>\n",
       "      <td>21759420.0</td>\n",
       "      <td>22549547.0</td>\n",
       "      <td>23369131.0</td>\n",
       "      <td>24218565.0</td>\n",
       "      <td>25096150.0</td>\n",
       "      <td>25998340.0</td>\n",
       "      <td>26920466.0</td>\n",
       "      <td>27859305.0</td>\n",
       "      <td>28813463.0</td>\n",
       "    </tr>\n",
       "    <tr>\n",
       "      <th>3</th>\n",
       "      <td>Albania</td>\n",
       "      <td>ALB</td>\n",
       "      <td>Population, total</td>\n",
       "      <td>SP.POP.TOTL</td>\n",
       "      <td>1608800.0</td>\n",
       "      <td>1659800.0</td>\n",
       "      <td>1711319.0</td>\n",
       "      <td>1762621.0</td>\n",
       "      <td>1814135.0</td>\n",
       "      <td>1864791.0</td>\n",
       "      <td>...</td>\n",
       "      <td>2970017.0</td>\n",
       "      <td>2947314.0</td>\n",
       "      <td>2927519.0</td>\n",
       "      <td>2913021.0</td>\n",
       "      <td>2905195.0</td>\n",
       "      <td>2900401.0</td>\n",
       "      <td>2895092.0</td>\n",
       "      <td>2889104.0</td>\n",
       "      <td>2880703.0</td>\n",
       "      <td>2876101.0</td>\n",
       "    </tr>\n",
       "    <tr>\n",
       "      <th>4</th>\n",
       "      <td>Andorra</td>\n",
       "      <td>AND</td>\n",
       "      <td>Population, total</td>\n",
       "      <td>SP.POP.TOTL</td>\n",
       "      <td>13411.0</td>\n",
       "      <td>14375.0</td>\n",
       "      <td>15370.0</td>\n",
       "      <td>16412.0</td>\n",
       "      <td>17469.0</td>\n",
       "      <td>18549.0</td>\n",
       "      <td>...</td>\n",
       "      <td>82683.0</td>\n",
       "      <td>83861.0</td>\n",
       "      <td>84462.0</td>\n",
       "      <td>84449.0</td>\n",
       "      <td>83751.0</td>\n",
       "      <td>82431.0</td>\n",
       "      <td>80788.0</td>\n",
       "      <td>79223.0</td>\n",
       "      <td>78014.0</td>\n",
       "      <td>77281.0</td>\n",
       "    </tr>\n",
       "  </tbody>\n",
       "</table>\n",
       "<p>5 rows × 61 columns</p>\n",
       "</div>"
      ],
      "text/plain": [
       "  Country Name Country Code     Indicator Name Indicator Code       1960  \\\n",
       "0        Aruba          ABW  Population, total    SP.POP.TOTL    54211.0   \n",
       "1  Afghanistan          AFG  Population, total    SP.POP.TOTL  8996351.0   \n",
       "2       Angola          AGO  Population, total    SP.POP.TOTL  5643182.0   \n",
       "3      Albania          ALB  Population, total    SP.POP.TOTL  1608800.0   \n",
       "4      Andorra          AND  Population, total    SP.POP.TOTL    13411.0   \n",
       "\n",
       "        1961       1962       1963       1964       1965  ...        2007  \\\n",
       "0    55438.0    56225.0    56695.0    57032.0    57360.0  ...    101220.0   \n",
       "1  9166764.0  9345868.0  9533954.0  9731361.0  9938414.0  ...  26616792.0   \n",
       "2  5753024.0  5866061.0  5980417.0  6093321.0  6203299.0  ...  20997687.0   \n",
       "3  1659800.0  1711319.0  1762621.0  1814135.0  1864791.0  ...   2970017.0   \n",
       "4    14375.0    15370.0    16412.0    17469.0    18549.0  ...     82683.0   \n",
       "\n",
       "         2008        2009        2010        2011        2012        2013  \\\n",
       "0    101353.0    101453.0    101669.0    102053.0    102577.0    103187.0   \n",
       "1  27294031.0  28004331.0  28803167.0  29708599.0  30696958.0  31731688.0   \n",
       "2  21759420.0  22549547.0  23369131.0  24218565.0  25096150.0  25998340.0   \n",
       "3   2947314.0   2927519.0   2913021.0   2905195.0   2900401.0   2895092.0   \n",
       "4     83861.0     84462.0     84449.0     83751.0     82431.0     80788.0   \n",
       "\n",
       "         2014        2015        2016  \n",
       "0    103795.0    104341.0    104822.0  \n",
       "1  32758020.0  33736494.0  34656032.0  \n",
       "2  26920466.0  27859305.0  28813463.0  \n",
       "3   2889104.0   2880703.0   2876101.0  \n",
       "4     79223.0     78014.0     77281.0  \n",
       "\n",
       "[5 rows x 61 columns]"
      ]
     },
     "execution_count": 4,
     "metadata": {},
     "output_type": "execute_result"
    }
   ],
   "source": [
    "pop = pd.read_csv(\"data/country_population.csv\")\n",
    "pop.head()"
   ]
  },
  {
   "cell_type": "code",
   "execution_count": 5,
   "id": "9aefe5a3-108f-43ff-a5ee-8dc46240cda8",
   "metadata": {},
   "outputs": [
    {
     "data": {
      "text/html": [
       "<div>\n",
       "<style scoped>\n",
       "    .dataframe tbody tr th:only-of-type {\n",
       "        vertical-align: middle;\n",
       "    }\n",
       "\n",
       "    .dataframe tbody tr th {\n",
       "        vertical-align: top;\n",
       "    }\n",
       "\n",
       "    .dataframe thead th {\n",
       "        text-align: right;\n",
       "    }\n",
       "</style>\n",
       "<table border=\"1\" class=\"dataframe\">\n",
       "  <thead>\n",
       "    <tr style=\"text-align: right;\">\n",
       "      <th>Country Name</th>\n",
       "      <th>Aruba</th>\n",
       "      <th>Afghanistan</th>\n",
       "      <th>Angola</th>\n",
       "      <th>Albania</th>\n",
       "      <th>Andorra</th>\n",
       "      <th>Arab World</th>\n",
       "      <th>United Arab Emirates</th>\n",
       "      <th>Argentina</th>\n",
       "      <th>Armenia</th>\n",
       "      <th>American Samoa</th>\n",
       "      <th>...</th>\n",
       "      <th>Virgin Islands (U.S.)</th>\n",
       "      <th>Vietnam</th>\n",
       "      <th>Vanuatu</th>\n",
       "      <th>World</th>\n",
       "      <th>Samoa</th>\n",
       "      <th>Kosovo</th>\n",
       "      <th>Yemen, Rep.</th>\n",
       "      <th>South Africa</th>\n",
       "      <th>Zambia</th>\n",
       "      <th>Zimbabwe</th>\n",
       "    </tr>\n",
       "  </thead>\n",
       "  <tbody>\n",
       "    <tr>\n",
       "      <th>1960</th>\n",
       "      <td>54211.0</td>\n",
       "      <td>8996351.0</td>\n",
       "      <td>5643182.0</td>\n",
       "      <td>1608800.0</td>\n",
       "      <td>13411.0</td>\n",
       "      <td>92490932.0</td>\n",
       "      <td>92634.0</td>\n",
       "      <td>20619075.0</td>\n",
       "      <td>1874120.0</td>\n",
       "      <td>20013.0</td>\n",
       "      <td>...</td>\n",
       "      <td>32500.0</td>\n",
       "      <td>32670629.0</td>\n",
       "      <td>63699.0</td>\n",
       "      <td>3.032160e+09</td>\n",
       "      <td>108646.0</td>\n",
       "      <td>947000.0</td>\n",
       "      <td>5172135.0</td>\n",
       "      <td>17456855.0</td>\n",
       "      <td>3044846.0</td>\n",
       "      <td>3747369.0</td>\n",
       "    </tr>\n",
       "    <tr>\n",
       "      <th>1961</th>\n",
       "      <td>55438.0</td>\n",
       "      <td>9166764.0</td>\n",
       "      <td>5753024.0</td>\n",
       "      <td>1659800.0</td>\n",
       "      <td>14375.0</td>\n",
       "      <td>95044497.0</td>\n",
       "      <td>101078.0</td>\n",
       "      <td>20953077.0</td>\n",
       "      <td>1941491.0</td>\n",
       "      <td>20486.0</td>\n",
       "      <td>...</td>\n",
       "      <td>34300.0</td>\n",
       "      <td>33666772.0</td>\n",
       "      <td>65713.0</td>\n",
       "      <td>3.073369e+09</td>\n",
       "      <td>112119.0</td>\n",
       "      <td>966000.0</td>\n",
       "      <td>5260501.0</td>\n",
       "      <td>17920673.0</td>\n",
       "      <td>3140264.0</td>\n",
       "      <td>3870756.0</td>\n",
       "    </tr>\n",
       "    <tr>\n",
       "      <th>1962</th>\n",
       "      <td>56225.0</td>\n",
       "      <td>9345868.0</td>\n",
       "      <td>5866061.0</td>\n",
       "      <td>1711319.0</td>\n",
       "      <td>15370.0</td>\n",
       "      <td>97682294.0</td>\n",
       "      <td>112472.0</td>\n",
       "      <td>21287682.0</td>\n",
       "      <td>2009526.0</td>\n",
       "      <td>21117.0</td>\n",
       "      <td>...</td>\n",
       "      <td>35000.0</td>\n",
       "      <td>34684165.0</td>\n",
       "      <td>67808.0</td>\n",
       "      <td>3.126510e+09</td>\n",
       "      <td>115788.0</td>\n",
       "      <td>994000.0</td>\n",
       "      <td>5351799.0</td>\n",
       "      <td>18401608.0</td>\n",
       "      <td>3240587.0</td>\n",
       "      <td>3999419.0</td>\n",
       "    </tr>\n",
       "    <tr>\n",
       "      <th>1963</th>\n",
       "      <td>56695.0</td>\n",
       "      <td>9533954.0</td>\n",
       "      <td>5980417.0</td>\n",
       "      <td>1762621.0</td>\n",
       "      <td>16412.0</td>\n",
       "      <td>100411076.0</td>\n",
       "      <td>125566.0</td>\n",
       "      <td>21621840.0</td>\n",
       "      <td>2077575.0</td>\n",
       "      <td>21882.0</td>\n",
       "      <td>...</td>\n",
       "      <td>39800.0</td>\n",
       "      <td>35722091.0</td>\n",
       "      <td>69964.0</td>\n",
       "      <td>3.191786e+09</td>\n",
       "      <td>119561.0</td>\n",
       "      <td>1022000.0</td>\n",
       "      <td>5446063.0</td>\n",
       "      <td>18899275.0</td>\n",
       "      <td>3345145.0</td>\n",
       "      <td>4132756.0</td>\n",
       "    </tr>\n",
       "    <tr>\n",
       "      <th>1964</th>\n",
       "      <td>57032.0</td>\n",
       "      <td>9731361.0</td>\n",
       "      <td>6093321.0</td>\n",
       "      <td>1814135.0</td>\n",
       "      <td>17469.0</td>\n",
       "      <td>103239902.0</td>\n",
       "      <td>138529.0</td>\n",
       "      <td>21953929.0</td>\n",
       "      <td>2144998.0</td>\n",
       "      <td>22698.0</td>\n",
       "      <td>...</td>\n",
       "      <td>40800.0</td>\n",
       "      <td>36780985.0</td>\n",
       "      <td>72131.0</td>\n",
       "      <td>3.257460e+09</td>\n",
       "      <td>123354.0</td>\n",
       "      <td>1050000.0</td>\n",
       "      <td>5543339.0</td>\n",
       "      <td>19412975.0</td>\n",
       "      <td>3452942.0</td>\n",
       "      <td>4269863.0</td>\n",
       "    </tr>\n",
       "  </tbody>\n",
       "</table>\n",
       "<p>5 rows × 264 columns</p>\n",
       "</div>"
      ],
      "text/plain": [
       "Country Name    Aruba  Afghanistan     Angola    Albania  Andorra  \\\n",
       "1960          54211.0    8996351.0  5643182.0  1608800.0  13411.0   \n",
       "1961          55438.0    9166764.0  5753024.0  1659800.0  14375.0   \n",
       "1962          56225.0    9345868.0  5866061.0  1711319.0  15370.0   \n",
       "1963          56695.0    9533954.0  5980417.0  1762621.0  16412.0   \n",
       "1964          57032.0    9731361.0  6093321.0  1814135.0  17469.0   \n",
       "\n",
       "Country Name   Arab World  United Arab Emirates   Argentina    Armenia  \\\n",
       "1960           92490932.0               92634.0  20619075.0  1874120.0   \n",
       "1961           95044497.0              101078.0  20953077.0  1941491.0   \n",
       "1962           97682294.0              112472.0  21287682.0  2009526.0   \n",
       "1963          100411076.0              125566.0  21621840.0  2077575.0   \n",
       "1964          103239902.0              138529.0  21953929.0  2144998.0   \n",
       "\n",
       "Country Name  American Samoa  ...  Virgin Islands (U.S.)     Vietnam  Vanuatu  \\\n",
       "1960                 20013.0  ...                32500.0  32670629.0  63699.0   \n",
       "1961                 20486.0  ...                34300.0  33666772.0  65713.0   \n",
       "1962                 21117.0  ...                35000.0  34684165.0  67808.0   \n",
       "1963                 21882.0  ...                39800.0  35722091.0  69964.0   \n",
       "1964                 22698.0  ...                40800.0  36780985.0  72131.0   \n",
       "\n",
       "Country Name         World     Samoa     Kosovo  Yemen, Rep.  South Africa  \\\n",
       "1960          3.032160e+09  108646.0   947000.0    5172135.0    17456855.0   \n",
       "1961          3.073369e+09  112119.0   966000.0    5260501.0    17920673.0   \n",
       "1962          3.126510e+09  115788.0   994000.0    5351799.0    18401608.0   \n",
       "1963          3.191786e+09  119561.0  1022000.0    5446063.0    18899275.0   \n",
       "1964          3.257460e+09  123354.0  1050000.0    5543339.0    19412975.0   \n",
       "\n",
       "Country Name     Zambia   Zimbabwe  \n",
       "1960          3044846.0  3747369.0  \n",
       "1961          3140264.0  3870756.0  \n",
       "1962          3240587.0  3999419.0  \n",
       "1963          3345145.0  4132756.0  \n",
       "1964          3452942.0  4269863.0  \n",
       "\n",
       "[5 rows x 264 columns]"
      ]
     },
     "execution_count": 5,
     "metadata": {},
     "output_type": "execute_result"
    }
   ],
   "source": [
    "reshape(pop).head()"
   ]
  },
  {
   "cell_type": "code",
   "execution_count": 6,
   "id": "0732a476-377e-493c-a4eb-b7f3547b1e98",
   "metadata": {},
   "outputs": [],
   "source": [
    "\"\"\"\n",
    "Parameters:\n",
    "    df: 'dataframe' structured like \"reshape\" function output, multivariate timeseries\n",
    "    label: 'str', name for the column of the data\n",
    "\n",
    "Description:\n",
    "    Agglomerates all the different timeseries for each country in a single column.\n",
    "    Each row as the country it refers to, one hot encoded.\n",
    "    The data for each country is still ordered by year.\n",
    "\"\"\"\n",
    "def to_mvts(df: pd.DataFrame, label:str):\n",
    "    encoder = LabelBinarizer().fit(df.columns)\n",
    "    new_df = pd.DataFrame(columns = [label] + list(df.columns))\n",
    "    \n",
    "    for i, col in enumerate(df.columns):\n",
    "        tseries = df[col]\n",
    "        tseries.name = label\n",
    "        #one hot encodes country\n",
    "        encoded_country = pd.DataFrame(data=list(encoder.transform([col]))*len(tseries), \n",
    "                                       columns=encoder.classes_,\n",
    "                                       index=tseries.index)\n",
    "        #merges country timeseries with respective one hot encoding\n",
    "        tseries = pd.concat((tseries, encoded_country), axis=1)\n",
    "        new_df = pd.concat((new_df, tseries), sort=True)\n",
    "    return new_df"
   ]
  },
  {
   "cell_type": "code",
   "execution_count": 7,
   "id": "399d2b9a-18fe-446f-abf2-eeae28a3bb99",
   "metadata": {},
   "outputs": [],
   "source": [
    "def get_lags( X: pd.Series, lags):\n",
    "        return pd.DataFrame(\n",
    "            data={ f\"-{i}\": X.shift(i) for i in range(1,lags+1) }\n",
    "        )"
   ]
  },
  {
   "cell_type": "code",
   "execution_count": 132,
   "id": "03d9ca28-9a9e-4f6e-8b63-95f88a99ded1",
   "metadata": {},
   "outputs": [],
   "source": [
    "def to_lagged_mtvs_with_country(df: pd.DataFrame, lags=50):\n",
    "    encoder = LabelBinarizer().fit(df.columns)\n",
    "    new_df = pd.DataFrame(columns = [\"y\"] + list(df.columns))\n",
    "\n",
    "    for col in df.columns:\n",
    "        tseries = df[col]\n",
    "        tseries.name = \"y\"\n",
    "        encoded_country = pd.DataFrame(data=list(encoder.transform([col])) * len(tseries), \n",
    "                                       columns=encoder.classes_,\n",
    "                                       index=tseries.index)\n",
    "        tseries = pd.concat((tseries, \n",
    "                             get_lags(tseries, lags), \n",
    "                             encoded_country), \n",
    "                             axis=1)\n",
    "        new_df = pd.concat((new_df, tseries), sort=True)\n",
    "    return new_df, encoder"
   ]
  },
  {
   "cell_type": "code",
   "execution_count": 9,
   "id": "3fbba334-23fe-4f21-9bf7-e6462c45f89e",
   "metadata": {},
   "outputs": [
    {
     "data": {
      "text/html": [
       "<div>\n",
       "<style scoped>\n",
       "    .dataframe tbody tr th:only-of-type {\n",
       "        vertical-align: middle;\n",
       "    }\n",
       "\n",
       "    .dataframe tbody tr th {\n",
       "        vertical-align: top;\n",
       "    }\n",
       "\n",
       "    .dataframe thead th {\n",
       "        text-align: right;\n",
       "    }\n",
       "</style>\n",
       "<table border=\"1\" class=\"dataframe\">\n",
       "  <thead>\n",
       "    <tr style=\"text-align: right;\">\n",
       "      <th></th>\n",
       "      <th>Afghanistan</th>\n",
       "      <th>Albania</th>\n",
       "      <th>Algeria</th>\n",
       "      <th>American Samoa</th>\n",
       "      <th>Andorra</th>\n",
       "      <th>Angola</th>\n",
       "      <th>Antigua and Barbuda</th>\n",
       "      <th>Arab World</th>\n",
       "      <th>Argentina</th>\n",
       "      <th>Armenia</th>\n",
       "      <th>...</th>\n",
       "      <th>Uzbekistan</th>\n",
       "      <th>Vanuatu</th>\n",
       "      <th>Venezuela, RB</th>\n",
       "      <th>Vietnam</th>\n",
       "      <th>Virgin Islands (U.S.)</th>\n",
       "      <th>West Bank and Gaza</th>\n",
       "      <th>World</th>\n",
       "      <th>Yemen, Rep.</th>\n",
       "      <th>Zambia</th>\n",
       "      <th>Zimbabwe</th>\n",
       "    </tr>\n",
       "  </thead>\n",
       "  <tbody>\n",
       "    <tr>\n",
       "      <th>1960</th>\n",
       "      <td>0</td>\n",
       "      <td>0</td>\n",
       "      <td>0</td>\n",
       "      <td>0</td>\n",
       "      <td>0</td>\n",
       "      <td>0</td>\n",
       "      <td>0</td>\n",
       "      <td>0</td>\n",
       "      <td>0</td>\n",
       "      <td>0</td>\n",
       "      <td>...</td>\n",
       "      <td>0</td>\n",
       "      <td>0</td>\n",
       "      <td>0</td>\n",
       "      <td>0</td>\n",
       "      <td>0</td>\n",
       "      <td>0</td>\n",
       "      <td>0</td>\n",
       "      <td>0</td>\n",
       "      <td>0</td>\n",
       "      <td>0</td>\n",
       "    </tr>\n",
       "    <tr>\n",
       "      <th>1961</th>\n",
       "      <td>0</td>\n",
       "      <td>0</td>\n",
       "      <td>0</td>\n",
       "      <td>0</td>\n",
       "      <td>0</td>\n",
       "      <td>0</td>\n",
       "      <td>0</td>\n",
       "      <td>0</td>\n",
       "      <td>0</td>\n",
       "      <td>0</td>\n",
       "      <td>...</td>\n",
       "      <td>0</td>\n",
       "      <td>0</td>\n",
       "      <td>0</td>\n",
       "      <td>0</td>\n",
       "      <td>0</td>\n",
       "      <td>0</td>\n",
       "      <td>0</td>\n",
       "      <td>0</td>\n",
       "      <td>0</td>\n",
       "      <td>0</td>\n",
       "    </tr>\n",
       "    <tr>\n",
       "      <th>1962</th>\n",
       "      <td>0</td>\n",
       "      <td>0</td>\n",
       "      <td>0</td>\n",
       "      <td>0</td>\n",
       "      <td>0</td>\n",
       "      <td>0</td>\n",
       "      <td>0</td>\n",
       "      <td>0</td>\n",
       "      <td>0</td>\n",
       "      <td>0</td>\n",
       "      <td>...</td>\n",
       "      <td>0</td>\n",
       "      <td>0</td>\n",
       "      <td>0</td>\n",
       "      <td>0</td>\n",
       "      <td>0</td>\n",
       "      <td>0</td>\n",
       "      <td>0</td>\n",
       "      <td>0</td>\n",
       "      <td>0</td>\n",
       "      <td>0</td>\n",
       "    </tr>\n",
       "    <tr>\n",
       "      <th>1963</th>\n",
       "      <td>0</td>\n",
       "      <td>0</td>\n",
       "      <td>0</td>\n",
       "      <td>0</td>\n",
       "      <td>0</td>\n",
       "      <td>0</td>\n",
       "      <td>0</td>\n",
       "      <td>0</td>\n",
       "      <td>0</td>\n",
       "      <td>0</td>\n",
       "      <td>...</td>\n",
       "      <td>0</td>\n",
       "      <td>0</td>\n",
       "      <td>0</td>\n",
       "      <td>0</td>\n",
       "      <td>0</td>\n",
       "      <td>0</td>\n",
       "      <td>0</td>\n",
       "      <td>0</td>\n",
       "      <td>0</td>\n",
       "      <td>0</td>\n",
       "    </tr>\n",
       "    <tr>\n",
       "      <th>1964</th>\n",
       "      <td>0</td>\n",
       "      <td>0</td>\n",
       "      <td>0</td>\n",
       "      <td>0</td>\n",
       "      <td>0</td>\n",
       "      <td>0</td>\n",
       "      <td>0</td>\n",
       "      <td>0</td>\n",
       "      <td>0</td>\n",
       "      <td>0</td>\n",
       "      <td>...</td>\n",
       "      <td>0</td>\n",
       "      <td>0</td>\n",
       "      <td>0</td>\n",
       "      <td>0</td>\n",
       "      <td>0</td>\n",
       "      <td>0</td>\n",
       "      <td>0</td>\n",
       "      <td>0</td>\n",
       "      <td>0</td>\n",
       "      <td>0</td>\n",
       "    </tr>\n",
       "  </tbody>\n",
       "</table>\n",
       "<p>5 rows × 265 columns</p>\n",
       "</div>"
      ],
      "text/plain": [
       "      Afghanistan  Albania  Algeria  American Samoa  Andorra  Angola  \\\n",
       "1960            0        0        0               0        0       0   \n",
       "1961            0        0        0               0        0       0   \n",
       "1962            0        0        0               0        0       0   \n",
       "1963            0        0        0               0        0       0   \n",
       "1964            0        0        0               0        0       0   \n",
       "\n",
       "      Antigua and Barbuda  Arab World  Argentina  Armenia  ...  Uzbekistan  \\\n",
       "1960                    0           0          0        0  ...           0   \n",
       "1961                    0           0          0        0  ...           0   \n",
       "1962                    0           0          0        0  ...           0   \n",
       "1963                    0           0          0        0  ...           0   \n",
       "1964                    0           0          0        0  ...           0   \n",
       "\n",
       "      Vanuatu  Venezuela, RB  Vietnam  Virgin Islands (U.S.)  \\\n",
       "1960        0              0        0                      0   \n",
       "1961        0              0        0                      0   \n",
       "1962        0              0        0                      0   \n",
       "1963        0              0        0                      0   \n",
       "1964        0              0        0                      0   \n",
       "\n",
       "      West Bank and Gaza  World  Yemen, Rep.  Zambia  Zimbabwe  \n",
       "1960                   0      0            0       0         0  \n",
       "1961                   0      0            0       0         0  \n",
       "1962                   0      0            0       0         0  \n",
       "1963                   0      0            0       0         0  \n",
       "1964                   0      0            0       0         0  \n",
       "\n",
       "[5 rows x 265 columns]"
      ]
     },
     "execution_count": 9,
     "metadata": {},
     "output_type": "execute_result"
    }
   ],
   "source": [
    "#multivariate_timeseries = to_mvts(reshape(pop), \"Population\")\n",
    "multivariate_timeseries = pd.read_csv(\"data/mvts.csv\", index_col=0)\n",
    "\n",
    "multivariate_timeseries.head()"
   ]
  },
  {
   "cell_type": "code",
   "execution_count": 10,
   "id": "31dffedc-64b0-44e4-a03e-8d8d864f96f4",
   "metadata": {},
   "outputs": [],
   "source": [
    "multivariate_timeseries.to_csv(\"data/mvts.csv\")"
   ]
  },
  {
   "cell_type": "code",
   "execution_count": 270,
   "id": "b483646a-5f32-43de-9254-dcdd35ebf748",
   "metadata": {},
   "outputs": [],
   "source": [
    "\"\"\"\n",
    "Class for the prediction of future values of a time-series;\n",
    "Initalization Parameters:\n",
    "    -> estimator: ML model to use in the forecast regression. !Must be a model from 'Sklearn' package!\n",
    "    -> lags: 'int', how many previous years to take in consideration to make the prediction.\n",
    "\n",
    "Non-initial Instances:\n",
    "    -> raw: Default data that entered the model (output of 'reshape()' format)\n",
    "    -> X: Independent variables used to train the model. Matrix that for each row/year as the *lags*\n",
    "            previous years, as well as the one hot encoded country it belongs to.\n",
    "    -> y: Dependent variable used to train the model. Time-series with the expected output\n",
    "            for each element in X.\n",
    "    -> min_year: The minimum year for which the model can make a prediction. Corresponds to \n",
    "                {year of the first entrance} + {lags}\n",
    "    -> encoder: Model to one hot encode the country labels. Corresponds to sklearn 'LabelBinarizer' model\n",
    "\n",
    "\"\"\"\n",
    "class ForecastModel:\n",
    "    def __init__(self, \n",
    "                 estimator = LinearRegression(), \n",
    "                 lags=5,\n",
    "                 encode_country=True):\n",
    "        self.estimator=estimator\n",
    "        self.lags = lags\n",
    "        self.encode_country = encode_country\n",
    "    \n",
    "    \"\"\"\n",
    "    Parameters:\n",
    "        -> X: MVTS to train the model. Should be in format of \"reshape\" function output\n",
    "        \n",
    "    Description:\n",
    "        Using input X mvts creates an instance 'y', and an instance 'X' (mentioned in \"Non-initial Instances\").\n",
    "        Then saves the first year for which the model can make predictions ('min_year').\n",
    "        Finally trains the estimator with the matrix data 'X' as the independent variables and\n",
    "        'y' series as the dependent variable.\n",
    "    \"\"\"\n",
    "    def fit(self, X, start=1960, stop=2016):\n",
    "        self.raw = X\n",
    "        \n",
    "        mvts = self.__to_lagged_mvts(X.loc[start:stop])\n",
    "        self.X = mvts.drop(columns=\"y\")\n",
    "        self.y = mvts[\"y\"]\n",
    "        \n",
    "        self.min_year = self.X.index.min()\n",
    "        self.estimator = self.estimator.fit(self.X, self.y)\n",
    "        return self\n",
    "    \n",
    "    #similar function but skips by receiving parameters already runned\n",
    "    #to speed up the search for the best parameters\n",
    "    def faster_fit_country(self, X, lagged_data, encoder, start=1960, stop=2016):\n",
    "        self.raw = X\n",
    "        \n",
    "        cols = [f\"{-i}\" for i in range(1, self.lags+1)] + list(encoder.classes_) + [\"y\"]\n",
    "        lagged_data = lagged_data.loc[range(start+self.lags, stop+1), cols].dropna()\n",
    "        \n",
    "        self.X = lagged_data.drop(columns=\"y\")\n",
    "        self.y = lagged_data[\"y\"]\n",
    "        self.encoder=encoder\n",
    "        \n",
    "        self.min_year=self.X.index.min()\n",
    "        self.estimator = self.estimator.fit(self.X, self.y)\n",
    "        return self\n",
    "    \n",
    "    def faster_fit_no_country(self, X, lagged_data, start=1960, stop=2016):\n",
    "        self.raw = X\n",
    "        \n",
    "        cols = [f\"{-i}\" for i in range(1, self.lags+1)] + [\"y\"]\n",
    "        lagged_data = lagged_data.loc[range(start+self.lags, stop+1), cols].dropna()\n",
    "        \n",
    "        self.X = lagged_data.drop(columns=\"y\")\n",
    "        self.y = lagged_data[\"y\"]\n",
    "        \n",
    "        self.min_year = self.X.index.min()\n",
    "        self.estimator = self.estimator.fit(self.X, self.y)\n",
    "        return self\n",
    "    \"\"\"\n",
    "    Parameters:\n",
    "        -> years: List of years for which to make the prediction. Must be an iterable\n",
    "        -> country: 'str', Country for which to make the prediction\n",
    "    \n",
    "    Description:\n",
    "        Iterates over the years and makes the predicted value using \n",
    "        data from {lags} last years from that country.\n",
    "    \"\"\"\n",
    "    def predict(self, years: Sequence, country: str):\n",
    "        X = []\n",
    "        lags = range(1, self.lags+1)\n",
    "        if self.encode_country:\n",
    "            encoded_country = list(self.encoder.transform([country])[0])\n",
    "            for year in years:\n",
    "                assert(year>=self.min_year)\n",
    "                X += [ \n",
    "                    [self.get_year(year - i, country) for i in lags] + encoded_country\n",
    "                ]\n",
    "        else:\n",
    "            for year in years:\n",
    "                assert(year>=self.min_year)\n",
    "                X += [ \n",
    "                    [self.get_year(year - i, country) for i in lags]\n",
    "                ]\n",
    "            \n",
    "        #model needed to have the labels that used in training\n",
    "        X = pd.DataFrame(data = X,\n",
    "                        columns = self.estimator.feature_names_in_)   \n",
    "            \n",
    "        return self.estimator.predict( X )\n",
    "    \n",
    "    \"\"\"\n",
    "    Parameters:\n",
    "        -> year: 'int', year from which to get the data\n",
    "        -> country: 'str', country from which to get the data\n",
    "        \n",
    "    Description:\n",
    "        Returns data from {raw} located in ['year', 'country']. \n",
    "        If this data does not exist ( e.g. was not present in the training set) it\n",
    "        is first predicted recursively. After this it is memoized in raw table, to\n",
    "        avoid repeating the recursion.\n",
    "    \"\"\"\n",
    "    def get_year(self, year: int, country : str) -> float:\n",
    "        try: \n",
    "            data = self.raw.loc[year, country]\n",
    "            if data == np.nan:\n",
    "                raise Exception()\n",
    "            return data\n",
    "        except:\n",
    "            pred = self.predict([year], country)[0]\n",
    "            self.raw.loc[year, country] = pred\n",
    "            return pred\n",
    "    \n",
    "    \"\"\"\n",
    "    Parameters:\n",
    "        -> country: 'str' country label from which to get the data\n",
    "    \n",
    "    Description:\n",
    "        Returns the timeseries that corresponds to 'country'\n",
    "    \"\"\"\n",
    "    def get_country(self, country:str):\n",
    "        if self.encode_country:\n",
    "            return self.y[self.X[country]==1]\n",
    "        return self.raw[country]\n",
    "    \n",
    "    \"\"\"\n",
    "    Parameters:\n",
    "        -> df: MVTS to train the model. Should be in format of \"reshape\" function output\n",
    "        -> sort: 'bool', tag to sort data based on index, default = 'False'\n",
    "    \n",
    "    Description:\n",
    "        Creates a Matrix where each instance has the reference to the country it belongs to, one hot encoded.\n",
    "        Besides this it also has the original time-series from 'df' in a column named \"y\", and {lags} columns with\n",
    "        the data from previous years.\n",
    "        It drops columns which do not have at least {lags} previous years to reference.\n",
    "    \"\"\"\n",
    "    def __to_lagged_mvts(self, df: pd.DataFrame):\n",
    "        if self.encode_country:\n",
    "            self.encoder = LabelBinarizer().fit(df.columns)\n",
    "            new_df = pd.DataFrame(columns = [\"y\"] + list(df.columns))\n",
    "        \n",
    "            for col in df.columns:\n",
    "                tseries = df[col]\n",
    "                tseries.name = \"y\"\n",
    "                encoded_country = pd.DataFrame(data=list(self.encoder.transform([col])) * len(tseries), \n",
    "                                               columns=self.encoder.classes_,\n",
    "                                               index=tseries.index)\n",
    "                tseries = pd.concat((tseries, \n",
    "                                     self.__get_lags(tseries), \n",
    "                                     encoded_country), \n",
    "                                     axis=1).dropna()\n",
    "                cols = [f\"{-i}\" for i in range(1, self.lags+1)] + list(self.encoder.classes_) + [\"y\"]\n",
    "                new_df = pd.concat((new_df, tseries))[cols]\n",
    "                \n",
    "        else:\n",
    "            new_df = pd.DataFrame(columns = [\"y\"])\n",
    "            \n",
    "            for col in df.columns:\n",
    "                tseries = df[col]\n",
    "                tseries.name = \"y\"\n",
    "\n",
    "                tseries = pd.concat((tseries, \n",
    "                                     self.__get_lags(tseries)), \n",
    "                                     axis=1).dropna()\n",
    "                new_df = pd.concat((new_df, tseries))\n",
    "        return new_df\n",
    "    \n",
    "    \"\"\"\n",
    "    Parameters:\n",
    "        -> X: Time-Series\n",
    "    Description:\n",
    "        Iteratively creates a matrix. Each column corresponds to the data\n",
    "        from the ith previous year.\n",
    "    \"\"\"\n",
    "    def __get_lags(self, X: pd.Series):\n",
    "        return pd.DataFrame(\n",
    "            data={ f\"-{i}\": X.shift(i) for i in range(1,self.lags+1) }\n",
    "        )"
   ]
  },
  {
   "cell_type": "code",
   "execution_count": 16,
   "id": "a10ce354-4ae8-49f9-be60-0e84d09d39c8",
   "metadata": {},
   "outputs": [
    {
     "name": "stdout",
     "output_type": "stream",
     "text": [
      "[(0, 'Solomon Islands'),\n",
      " (1, 'Finland'),\n",
      " (2, 'Burkina Faso'),\n",
      " (3, 'Switzerland'),\n",
      " (4, 'Timor-Leste'),\n",
      " (5, 'Portugal'),\n",
      " (6, 'Chile'),\n",
      " (7, 'Bosnia and Herzegovina'),\n",
      " (8, 'Uruguay'),\n",
      " (9, 'Russian Federation')]\n"
     ]
    }
   ],
   "source": [
    "countries = list(pop[\"Country Name\"].sample(n=10, random_state=66))\n",
    "pprint(list(enumerate(countries)))"
   ]
  },
  {
   "cell_type": "code",
   "execution_count": 17,
   "id": "586468c6-18f6-4706-acc8-ed5b8f94310c",
   "metadata": {},
   "outputs": [],
   "source": [
    "label = countries[5]"
   ]
  },
  {
   "cell_type": "markdown",
   "id": "2ef61dee-170d-4b5e-884b-21878ee9f276",
   "metadata": {},
   "source": [
    "# Predicting on the **Training** Set with Simple Cross Validation"
   ]
  },
  {
   "cell_type": "code",
   "execution_count": 18,
   "id": "d9d66032-f6db-4f93-a662-5f6a23290fef",
   "metadata": {},
   "outputs": [],
   "source": [
    "model = ForecastModel().fit(reshape(pop), stop=2015 )"
   ]
  },
  {
   "cell_type": "code",
   "execution_count": 19,
   "id": "1b664aab-07d3-49ba-9935-51799ad31058",
   "metadata": {},
   "outputs": [
    {
     "name": "stdout",
     "output_type": "stream",
     "text": [
      "Predicted value is: 10318078.378;\n",
      "True value is: 10325452.000;\n",
      "\n",
      "Root Mean Squared Error is: 7373.622\n",
      "Error in relation to mean is: 0.0007\n"
     ]
    }
   ],
   "source": [
    "train_pred = model.predict([2016], label)\n",
    "real = model.raw.loc[2016,label]\n",
    "err = mean_squared_error([real], train_pred, squared=False)\n",
    "print(f\"\"\"Predicted value is: {train_pred[0]:.3f};\n",
    "True value is: {real:.3f};\n",
    "\n",
    "Root Mean Squared Error is: {err:.3f}\n",
    "Error in relation to mean is: {err/model.get_country(label).mean():.4f}\"\"\")"
   ]
  },
  {
   "cell_type": "code",
   "execution_count": 20,
   "id": "18256e68-7f8c-4416-9a56-a3440c27b84c",
   "metadata": {},
   "outputs": [],
   "source": [
    "y_test = [ model.raw.loc[2016, label] for label in countries ]"
   ]
  },
  {
   "cell_type": "code",
   "execution_count": 21,
   "id": "6105bc9a-d46b-4adb-8b98-d406b8e3e9b9",
   "metadata": {},
   "outputs": [
    {
     "data": {
      "text/plain": [
       "[599475.187973611,\n",
       " 5496047.051423751,\n",
       " 18639136.93452157,\n",
       " 8374886.73908551,\n",
       " 1269297.3266537488,\n",
       " 10318078.3779695,\n",
       " 17910773.87166746,\n",
       " 3508000.70113445,\n",
       " 3443603.084493074,\n",
       " 144364501.52479744]"
      ]
     },
     "execution_count": 21,
     "metadata": {},
     "output_type": "execute_result"
    }
   ],
   "source": [
    "preds = [ model.predict([2016], label)[0] for label in countries]\n",
    "preds"
   ]
  },
  {
   "cell_type": "code",
   "execution_count": 22,
   "id": "ae96f750-9c8b-4543-b8bc-6d1d0726624a",
   "metadata": {},
   "outputs": [
    {
     "name": "stdout",
     "output_type": "stream",
     "text": [
      "rmse = 8259.767023634158\n"
     ]
    }
   ],
   "source": [
    "print(f\"rmse = {mean_squared_error( y_test, preds, squared=False)}\")"
   ]
  },
  {
   "cell_type": "code",
   "execution_count": 23,
   "id": "5f2369b4-aeed-4b55-b266-68d10781af7a",
   "metadata": {},
   "outputs": [
    {
     "name": "stdout",
     "output_type": "stream",
     "text": [
      "Pearson Corr. Coef. = 0.999999994658902\n"
     ]
    }
   ],
   "source": [
    "print(f\"Pearson Corr. Coef. = {np.corrcoef(y_test, preds)[0,1]}\")"
   ]
  },
  {
   "cell_type": "code",
   "execution_count": 24,
   "id": "613ddca5-f5bb-4928-b664-74fd344e98a8",
   "metadata": {},
   "outputs": [
    {
     "data": {
      "image/png": "[encoded data removed]",
      "text/plain": [
       "<Figure size 1600x600 with 2 Axes>"
      ]
     },
     "metadata": {},
     "output_type": "display_data"
    }
   ],
   "source": [
    "def plot_sub(ax, x, y, label=\"\", xlabel=\"\", ylabel=\"\", title=\"\", ms=5):\n",
    "    ax.plot(x, y, \".\", label=label, ms=ms)\n",
    "    ax.set_xlabel(xlabel)\n",
    "    ax.set_ylabel(ylabel)\n",
    "    ax.set_title(title)\n",
    "    if label!=\"\":\n",
    "        ax.legend()\n",
    "\n",
    "def scat_sub(ax, x, y, label=\"\", xlabel=\"\", ylabel=\"\", title=\"\"):\n",
    "    ax.scatter(x, y, label=label)\n",
    "    ax.set_xlabel(xlabel)\n",
    "    ax.set_ylabel(ylabel)\n",
    "    ax.set_title(title)\n",
    "    if label!=\"\":\n",
    "        ax.legend()\n",
    "\n",
    "x_ = range(len(countries))\n",
    "f, ax = plt.subplots(1,2, figsize=(16,6))\n",
    "plot_sub(ax[0], x_, y_test, label=\"True Values\", ms=10)\n",
    "plot_sub(ax[0], x_, preds, label=\"Predicted Values\", xlabel=\"Country\", ylabel=\"Population\", title=\"Population predictions for 2016\")\n",
    "ax[0].set_xticks(x_, countries, rotation=45)\n",
    "\n",
    "xy=np.linspace(min(preds), max(preds))\n",
    "ax[1].plot(xy,xy, \"k--\", alpha=0.5, label=\"x=y\")\n",
    "for i, country in enumerate(countries):\n",
    "    scat_sub(ax[1], [preds[i]], [y_test[i]], xlabel=\"Predicted Population\", ylabel=\"True Population\", label=country)"
   ]
  },
  {
   "cell_type": "markdown",
   "id": "9a87436d-b164-4c67-ba2b-b87ab3fe3a67",
   "metadata": {
    "jp-MarkdownHeadingCollapsed": true,
    "tags": []
   },
   "source": [
    "# Best Parameter Search using **Simple Cross Validation**"
   ]
  },
  {
   "cell_type": "code",
   "execution_count": 292,
   "id": "bdfda6fc-2aa5-4a67-978b-07001f76c9c6",
   "metadata": {},
   "outputs": [],
   "source": [
    "def search_best_no_country( X,\n",
    "                            lagged_data,\n",
    "                            countries = countries,\n",
    "                            estimator = LinearRegression, \n",
    "                            lags: Sequence = [5], \n",
    "                            from_year = [1960],\n",
    "                            metric = \"pearson\",\n",
    "                            *args,\n",
    "                            **kwargs):\n",
    "    rmse = []\n",
    "    pearson = []\n",
    "    models = []\n",
    "    parameters=[]\n",
    "    \n",
    "    test = X.loc[2016, countries]\n",
    "    print(f\"Number of iterations: {len(lags) * len(from_year)}\")\n",
    "    i=0\n",
    "    for lag in lags:\n",
    "        for start_year in from_year:\n",
    "            i+=1\n",
    "            if i%200==0: print(\"Iteration Nº:\", i)\n",
    "            \n",
    "            time_diff = 2015 - start_year\n",
    "            #if lag<time_diff:\n",
    "            try:\n",
    "                model = ForecastModel(estimator=estimator(**kwargs), \n",
    "                                       lags=lag,\n",
    "                                      encode_country=False\n",
    "                                     ).faster_fit_no_country( X, \n",
    "                                                               lagged_data,\n",
    "                                                               start=start_year,\n",
    "                                                               stop=2015)\n",
    "                \n",
    "                preds = [ model.predict([2016], country)[0] for country in countries ]\n",
    "                rmse.append( mean_squared_error(test, preds, squared=False) )\n",
    "                pearson.append( np.corrcoef(test, preds)[0,1] )\n",
    "                models.append(model)\n",
    "                parameters.append({\"lags\":lag, \n",
    "                                   \"encode_country\":False, \n",
    "                                   \"train_range\": (start_year, 2015)})\n",
    "            except Exception as e:\n",
    "                continue\n",
    "    if metric == \"pearson\":\n",
    "        idx = np.argmax(pearson)\n",
    "    if metric == \"rmse\":\n",
    "        idx = np.argmin(rmse)\n",
    "    \n",
    "    print(\"Processing Finished!\")\n",
    "    return (models[idx], \n",
    "            parameters[idx], \n",
    "            rmse[idx], \n",
    "            rmse[idx]/test.mean(),\n",
    "            pearson[idx],\n",
    "            {\n",
    "             \"params\": parameters, \n",
    "             \"pearson\":pearson, \n",
    "             \"rmse\":rmse\n",
    "            })"
   ]
  },
  {
   "cell_type": "code",
   "execution_count": 293,
   "id": "9f60c1f5-96e0-4ce3-9711-32885f625f7e",
   "metadata": {},
   "outputs": [],
   "source": [
    "def search_best_encode_country( X,\n",
    "                                lagged_data,\n",
    "                                encoder,\n",
    "                                countries = countries,\n",
    "                                estimator = LinearRegression, \n",
    "                                lags: Sequence = [5], \n",
    "                                from_year = [1960],\n",
    "                                metric = \"pearson\",\n",
    "                                *args,\n",
    "                                **kwargs\n",
    "                              ):\n",
    "    rmse = []\n",
    "    pearson = []\n",
    "    models = []\n",
    "    parameters=[]\n",
    "    test = X.loc[2016, countries]\n",
    "    \n",
    "    print(f\"Number of iterations: {len(lags) * len(from_year)}\")\n",
    "    i=0\n",
    "    for lag in lags:\n",
    "        for start_year in from_year:\n",
    "            i+=1\n",
    "            if i%200==0: print(\"Iteration Nº:\", i)\n",
    "            \n",
    "            try:\n",
    "                model = ForecastModel(estimator=estimator(**kwargs), \n",
    "                                       lags=lag\n",
    "                                     ).faster_fit_country( X, \n",
    "                                                           lagged_data,\n",
    "                                                           encoder,\n",
    "                                                           start=start_year,\n",
    "                                                           stop=2015)\n",
    "\n",
    "                \n",
    "                preds = [ model.predict([2016], country)[0] for country in countries ]\n",
    "                rmse.append( mean_squared_error(test, preds, squared=False) )\n",
    "                pearson.append( np.corrcoef(test, preds)[0,1] )\n",
    "                models.append(model)\n",
    "                parameters.append({\"lags\":lag, \n",
    "                                   \"encode_country\":True, \n",
    "                                   \"train_range\": (start_year, 2015)})\n",
    "            except Exception as e:\n",
    "                continue\n",
    "    if metric == \"pearson\":\n",
    "        idx = np.argmax(pearson)\n",
    "    if metric == \"rmse\":\n",
    "        idx = np.argmin(rmse)\n",
    "    \n",
    "    print(\"Processing Finished!\")\n",
    "    return (models[idx], \n",
    "            parameters[idx], \n",
    "            rmse[idx], \n",
    "            rmse[idx]/test.mean(),\n",
    "            pearson[idx], \n",
    "            {\n",
    "                \"params\":parameters, \n",
    "                \"pearson\":pearson, \n",
    "                \"rmse\":rmse\n",
    "            })"
   ]
  },
  {
   "cell_type": "code",
   "execution_count": 211,
   "id": "8b0d1695-5256-4b79-a992-89254b6099a7",
   "metadata": {},
   "outputs": [],
   "source": [
    "def save_results(fname, *args):\n",
    "    pickle.dump(args, open(fname, \"wb\"))"
   ]
  },
  {
   "cell_type": "code",
   "execution_count": 212,
   "id": "7b378b34-4f26-44c7-8f22-65a700e49b3a",
   "metadata": {},
   "outputs": [],
   "source": [
    "def get_results(fname):\n",
    "    return pickle.load(open(fname, \"rb\"))"
   ]
  },
  {
   "cell_type": "code",
   "execution_count": 257,
   "id": "f7386374-e157-45fd-b52d-c6360b9b87e9",
   "metadata": {},
   "outputs": [],
   "source": [
    "def print_all(*args):\n",
    "    print(f\"\"\"\n",
    "    Best Parameters: {args[0]}\n",
    "    Best RMSE: {args[1]}\n",
    "    Best Pearson Corr.: {args[2]}\n",
    "    RMSE Relative to Mean: {args[3]}\n",
    "    \"\"\")"
   ]
  },
  {
   "cell_type": "markdown",
   "id": "d6594b47-7dd7-413b-92a5-e08545a1be34",
   "metadata": {
    "jp-MarkdownHeadingCollapsed": true,
    "tags": []
   },
   "source": [
    "# Search Best Parameters For Country Population"
   ]
  },
  {
   "cell_type": "code",
   "execution_count": 168,
   "id": "23aeff68-9b96-4b2a-ae60-d06659d5ed07",
   "metadata": {},
   "outputs": [],
   "source": [
    "pop = pd.read_csv(\"data/country_population.csv\")\n",
    "data = reshape(pop)"
   ]
  },
  {
   "cell_type": "code",
   "execution_count": 149,
   "id": "d863d523-b670-48a2-a0a6-9f79775c4fab",
   "metadata": {},
   "outputs": [],
   "source": [
    "data_lagged, encoder = to_lagged_mtvs_with_country(reshape(pop))"
   ]
  },
  {
   "cell_type": "markdown",
   "id": "03f0b087-fef7-4f80-86ee-06c46c3c7fcf",
   "metadata": {
    "jp-MarkdownHeadingCollapsed": true,
    "tags": []
   },
   "source": [
    "### Without Reference To Country"
   ]
  },
  {
   "cell_type": "code",
   "execution_count": 261,
   "id": "c26b8f49-1643-49ad-baa3-1c2626ec47ca",
   "metadata": {},
   "outputs": [
    {
     "name": "stdout",
     "output_type": "stream",
     "text": [
      "Number of iterations: 2499\n",
      "Iteration Nº: 200\n",
      "Iteration Nº: 400\n",
      "Iteration Nº: 600\n",
      "Iteration Nº: 800\n",
      "Iteration Nº: 1000\n",
      "Iteration Nº: 1200\n",
      "Iteration Nº: 1400\n",
      "Iteration Nº: 1600\n",
      "Iteration Nº: 1800\n",
      "Iteration Nº: 2000\n",
      "Iteration Nº: 2200\n",
      "Iteration Nº: 2400\n",
      "Processing Finished!\n"
     ]
    }
   ],
   "source": [
    "cols=[f\"{-i}\" for i in range(1,50+1)] + [\"y\"]\n",
    "# Searching without country reference\n",
    "(best_model, \n",
    " best_params, \n",
    " best_rmse, \n",
    " relative_rmse,\n",
    " best_pcorr,\n",
    "results) = search_best_no_country(X=data,\n",
    "                            lagged_data=data_lagged[cols],\n",
    "                            estimator=LinearRegression,\n",
    "                            lags=range(1,50),\n",
    "                            from_year=range(1960, 2010+1),\n",
    "                           )"
   ]
  },
  {
   "cell_type": "code",
   "execution_count": 262,
   "id": "23e60ed1-23dd-40b8-97f1-0034af600710",
   "metadata": {},
   "outputs": [
    {
     "name": "stdout",
     "output_type": "stream",
     "text": [
      "Best by Pearson:\n",
      "\n",
      "    Best Parameters: {'lags': 11, 'encode_country': False, 'train_range': (2003, 2015)}\n",
      "    Best RMSE: 3234.0631832131257\n",
      "    Best Pearson Corr.: 0.9999999989824311\n",
      "    RMSE Relative to Mean: 0.00015118049550982954\n",
      "    \n"
     ]
    }
   ],
   "source": [
    "print(\"Best by Pearson:\")\n",
    "print_all(best_params, best_rmse, best_pcorr, relative_rmse)"
   ]
  },
  {
   "cell_type": "code",
   "execution_count": 264,
   "id": "abcf800a-f8ce-43c0-8ecb-86c7afdc93b2",
   "metadata": {},
   "outputs": [
    {
     "name": "stdout",
     "output_type": "stream",
     "text": [
      "Best by RMSE:\n",
      "\n",
      "    Best Parameters: {'lags': 10, 'encode_country': False, 'train_range': (2004, 2015)}\n",
      "    Best RMSE: 3126.7021388070043\n",
      "    Best Pearson Corr.: 0.9999999988370707\n",
      "    RMSE Relative to Mean: 0.00014616176366314852\n",
      "    \n"
     ]
    }
   ],
   "source": [
    "idx = np.argmin(results[\"rmse\"])\n",
    "\n",
    "print(\"Best by RMSE:\")\n",
    "print_all(results[\"params\"][idx], results[\"rmse\"][idx], results[\"pearson\"][idx], results[\"rmse\"][idx]/reshape(pop).loc[2016, countries].mean())"
   ]
  },
  {
   "cell_type": "code",
   "execution_count": 219,
   "id": "2aecbbff-b332-46fb-a88e-f8cad40b3e23",
   "metadata": {},
   "outputs": [],
   "source": [
    "save_results(\"lm_no_country.pickle\", best_model, best_params, best_rmse, best_pcorr)"
   ]
  },
  {
   "cell_type": "markdown",
   "id": "dd75a8ea-633e-484f-8ff0-b6228c70c3ed",
   "metadata": {
    "tags": []
   },
   "source": [
    "### With Reference To Country"
   ]
  },
  {
   "cell_type": "code",
   "execution_count": 266,
   "id": "2a06ff4a-107d-4d17-8aaa-0fb3960484f6",
   "metadata": {},
   "outputs": [
    {
     "name": "stdout",
     "output_type": "stream",
     "text": [
      "Number of iterations: 2499\n",
      "Iteration Nº: 200\n",
      "Iteration Nº: 400\n",
      "Iteration Nº: 600\n",
      "Iteration Nº: 800\n",
      "Iteration Nº: 1000\n",
      "Iteration Nº: 1200\n",
      "Iteration Nº: 1400\n",
      "Iteration Nº: 1600\n",
      "Iteration Nº: 1800\n",
      "Iteration Nº: 2000\n",
      "Iteration Nº: 2200\n",
      "Iteration Nº: 2400\n",
      "Processing Finished!\n"
     ]
    }
   ],
   "source": [
    "# Searching without country reference\n",
    "(best_model, \n",
    " best_params, \n",
    " best_rmse, \n",
    " relative_rmse,\n",
    " best_pcorr,\n",
    "results) = search_best_encode_country(X=data,\n",
    "                                      lagged_data=data_lagged,\n",
    "                                      encoder=encoder,\n",
    "                                      estimator=LinearRegression,\n",
    "                                      lags=range(1,50),\n",
    "                                      from_year=range(1960, 2010+1),\n",
    "                                    )"
   ]
  },
  {
   "cell_type": "code",
   "execution_count": 267,
   "id": "ba9e229c-6799-498e-bbbb-cacf33e6708c",
   "metadata": {},
   "outputs": [
    {
     "name": "stdout",
     "output_type": "stream",
     "text": [
      "Best by Pearson:\n",
      "\n",
      "    Best Parameters: {'lags': 7, 'encode_country': True, 'train_range': (2008, 2015)}\n",
      "    Best RMSE: 4332.758394886292\n",
      "    Best Pearson Corr.: 0.9999999992405002\n",
      "    RMSE Relative to Mean: 0.00020254043410880286\n",
      "    \n"
     ]
    }
   ],
   "source": [
    "print(\"Best by Pearson:\")\n",
    "print_all(best_params, best_rmse, best_pcorr, relative_rmse)"
   ]
  },
  {
   "cell_type": "code",
   "execution_count": 268,
   "id": "75f1ab56-a00b-469c-9145-6f24f8b9592f",
   "metadata": {},
   "outputs": [
    {
     "name": "stdout",
     "output_type": "stream",
     "text": [
      "Best by RMSE:\n",
      "\n",
      "    Best Parameters: {'lags': 4, 'encode_country': True, 'train_range': (2010, 2015)}\n",
      "    Best RMSE: 1847.5109797031996\n",
      "    Best Pearson Corr.: 0.9999999990530041\n",
      "    RMSE Relative to Mean: 8.636430692546982e-05\n",
      "    \n"
     ]
    }
   ],
   "source": [
    "idx = np.argmin(results[\"rmse\"])\n",
    "\n",
    "print(\"Best by RMSE:\")\n",
    "print_all(results[\"params\"][idx], results[\"rmse\"][idx], results[\"pearson\"][idx], results[\"rmse\"][idx]/reshape(pop).loc[2016, countries].mean())"
   ]
  },
  {
   "cell_type": "code",
   "execution_count": null,
   "id": "66d6ec4b-59ea-409a-abcb-8673e07cd204",
   "metadata": {},
   "outputs": [],
   "source": [
    "best_model = ForecastModel(lags = 4).fit(reshape(pop), start=2010, stop=2015)"
   ]
  },
  {
   "cell_type": "code",
   "execution_count": 273,
   "id": "b22e7d6f-9407-4b9f-8b3e-821c74522ba8",
   "metadata": {},
   "outputs": [],
   "source": [
    "save_results(\"lm_country.pickle\", best_model, results[\"params\"][idx], results[\"rmse\"][idx], results[\"pearson\"][idx])"
   ]
  },
  {
   "cell_type": "markdown",
   "id": "82e81e45-b1e4-404b-8de8-e49e47f9e990",
   "metadata": {
    "jp-MarkdownHeadingCollapsed": true,
    "tags": []
   },
   "source": [
    "## Results For Country Population Dataset\n",
    "\n",
    "> Statistics obtained with train test split\n",
    "\n",
    "| Statistic | Linear Regression | Support Vector Regressor | Decision Tree Regressor |\n",
    "| :-: | :-: | :-: | :-: |\n",
    "| Pearson Corr. | 0.999999999053 | ? | ? |\n",
    "| RMSE | 1847.51 | ? | ? |\n",
    "| RMSE Relative to MEAN| 8.636 e-5 | ? | ? |\n",
    "\n",
    "> Best parameters obtained\n",
    "\n",
    "| Parameter | Linear Regression | Support Vector Regressor | Decision Tree Regressor |\n",
    "| :-: | :-: | :-: | :-: |\n",
    "| lags | 4 | ? | ? |\n",
    "| start | 2010 | ? | ? |\n",
    "| stop | 2015 | ? | ? |\n",
    "| encode_country | True | ? | ? |"
   ]
  },
  {
   "cell_type": "markdown",
   "id": "931e6871-4cef-4cf8-a5e1-b8942dae0b3b",
   "metadata": {
    "jp-MarkdownHeadingCollapsed": true,
    "tags": []
   },
   "source": [
    "## Predicting Country Population for 2017 on the **Test** Set"
   ]
  },
  {
   "cell_type": "code",
   "execution_count": 326,
   "id": "7b6955b5-6b26-4969-9eca-8497921145e5",
   "metadata": {},
   "outputs": [],
   "source": [
    "model = ForecastModel(lags=4).fit(data, start=2010, stop=2016)"
   ]
  },
  {
   "cell_type": "code",
   "execution_count": 306,
   "id": "1389857b-9820-4451-ad75-75da98f717d1",
   "metadata": {},
   "outputs": [
    {
     "data": {
      "text/plain": [
       "Solomon Islands              636030.0\n",
       "Finland                     5508214.0\n",
       "Burkina Faso               19193236.0\n",
       "Switzerland                 8451840.0\n",
       "Timor-Leste                 1243260.0\n",
       "Portugal                   10300300.0\n",
       "Chile                      18470435.0\n",
       "Bosnia and Herzegovina      3351534.0\n",
       "Uruguay                     3436645.0\n",
       "Russian Federation        144496739.0\n",
       "Name: 2017, dtype: float64"
      ]
     },
     "execution_count": 306,
     "metadata": {},
     "output_type": "execute_result"
    }
   ],
   "source": [
    "y_test=pd.read_csv(\"data/country_population_test.csv\", index_col=0).loc[2017]\n",
    "y_test"
   ]
  },
  {
   "cell_type": "code",
   "execution_count": 328,
   "id": "e76624fa-798f-448d-bb3f-0f2d55e5c2a3",
   "metadata": {},
   "outputs": [
    {
     "data": {
      "text/plain": [
       "[611350.26463308,\n",
       " 5508456.173079777,\n",
       " 19190881.438727256,\n",
       " 8462663.927113686,\n",
       " 1296501.1019321783,\n",
       " 10298850.878545672,\n",
       " 18055199.36208378,\n",
       " 3503028.5415351475,\n",
       " 3456759.2766070254,\n",
       " 144574604.333346]"
      ]
     },
     "execution_count": 328,
     "metadata": {},
     "output_type": "execute_result"
    }
   ],
   "source": [
    "preds = [ model.predict([2017], label)[0] for label in countries]\n",
    "preds"
   ]
  },
  {
   "cell_type": "code",
   "execution_count": 329,
   "id": "dc09af35-e350-4395-b946-1ecd9551a56d",
   "metadata": {},
   "outputs": [
    {
     "name": "stdout",
     "output_type": "stream",
     "text": [
      "rmse = 143320.40664246515\n"
     ]
    }
   ],
   "source": [
    "print(f\"rmse = {mean_squared_error( y_test, preds, squared=False)}\")"
   ]
  },
  {
   "cell_type": "code",
   "execution_count": 330,
   "id": "73159ab6-e07c-4144-8eaa-8fbb157a60ce",
   "metadata": {},
   "outputs": [
    {
     "name": "stdout",
     "output_type": "stream",
     "text": [
      "Pearson Corr. Coef. = 0.999994164911196\n"
     ]
    }
   ],
   "source": [
    "print(f\"Pearson Corr. Coef. = {np.corrcoef(y_test, preds)[0,1]}\")"
   ]
  },
  {
   "cell_type": "code",
   "execution_count": 331,
   "id": "fad24cd5-0a8c-4353-8510-3eda7bd2b455",
   "metadata": {},
   "outputs": [
    {
     "data": {
      "image/png": "[encoded data removed]",
      "text/plain": [
       "<Figure size 1600x600 with 2 Axes>"
      ]
     },
     "metadata": {},
     "output_type": "display_data"
    }
   ],
   "source": [
    "x_ = range(len(countries))\n",
    "f, ax = plt.subplots(1,2, figsize=(16,6))\n",
    "plot_sub(ax[0], x_, y_test, label=\"True Values\", ms=10)\n",
    "plot_sub(ax[0], x_, preds, label=\"Predicted Values\", xlabel=\"Country\")\n",
    "ax[0].set_xticks(x_, countries, rotation=45)\n",
    "\n",
    "xy=np.linspace(min(preds), max(preds))\n",
    "ax[1].plot(xy,xy, \"--k\", alpha=0.5, label=\"x=y\")\n",
    "for i, country in enumerate(countries):\n",
    "    scat_sub(ax[1], [preds[i]], [y_test[i]], xlabel=\"Predicted Population\", ylabel=\"True Population\", label=country)"
   ]
  },
  {
   "cell_type": "markdown",
   "id": "8bdebbe3-ebe0-4f1d-b78a-aa4b92800f63",
   "metadata": {
    "tags": []
   },
   "source": [
    "# Search Best Parameters for Fertility Rate"
   ]
  },
  {
   "cell_type": "code",
   "execution_count": 295,
   "id": "a4f2337f-866a-47fd-9f6e-61aad9272f65",
   "metadata": {},
   "outputs": [],
   "source": [
    "fert_rate = pd.read_csv(\"data/fertility_rate.csv\")\n",
    "data = reshape(fert_rate)"
   ]
  },
  {
   "cell_type": "code",
   "execution_count": 294,
   "id": "bd6ab975-71a9-420f-84f7-b5615cd4c635",
   "metadata": {},
   "outputs": [],
   "source": [
    "data_lagged, encoder = to_lagged_mtvs_with_country(data)"
   ]
  },
  {
   "cell_type": "markdown",
   "id": "b5781234-42d1-45e1-ab41-b2614fa2853b",
   "metadata": {
    "jp-MarkdownHeadingCollapsed": true,
    "tags": []
   },
   "source": [
    "## Without Country Information"
   ]
  },
  {
   "cell_type": "code",
   "execution_count": 296,
   "id": "d1620c02-fe63-4679-bb11-32851fdcb507",
   "metadata": {},
   "outputs": [
    {
     "name": "stdout",
     "output_type": "stream",
     "text": [
      "Number of iterations: 2499\n",
      "Iteration Nº: 200\n",
      "Iteration Nº: 400\n",
      "Iteration Nº: 600\n",
      "Iteration Nº: 800\n",
      "Iteration Nº: 1000\n",
      "Iteration Nº: 1200\n",
      "Iteration Nº: 1400\n",
      "Iteration Nº: 1600\n",
      "Iteration Nº: 1800\n",
      "Iteration Nº: 2000\n",
      "Iteration Nº: 2200\n",
      "Iteration Nº: 2400\n",
      "Processing Finished!\n"
     ]
    }
   ],
   "source": [
    "cols=[f\"{-i}\" for i in range(1,50+1)] + [\"y\"]\n",
    "# Searching without country reference\n",
    "(best_model, \n",
    " best_params, \n",
    " best_rmse, \n",
    " relative_rmse,\n",
    " best_pcorr,\n",
    "results) = search_best_no_country(X=data,\n",
    "                            lagged_data=data_lagged[cols],\n",
    "                            estimator=LinearRegression,\n",
    "                            lags=range(1,50),\n",
    "                            from_year=range(1960, 2010+1),\n",
    "                           )"
   ]
  },
  {
   "cell_type": "code",
   "execution_count": 297,
   "id": "b6d1047c-323f-4d6c-8825-748404ffa1a2",
   "metadata": {},
   "outputs": [
    {
     "name": "stdout",
     "output_type": "stream",
     "text": [
      "Best by Pearson:\n",
      "\n",
      "    Best Parameters: {'lags': 1, 'encode_country': False, 'train_range': (1972, 2015)}\n",
      "    Best RMSE: 0.031639769391831524\n",
      "    Best Pearson Corr.: 0.9999885045065277\n",
      "    RMSE Relative to Mean: 0.012129487978467135\n",
      "    \n"
     ]
    }
   ],
   "source": [
    "print(\"Best by Pearson:\")\n",
    "print_all(best_params, best_rmse, best_pcorr, relative_rmse)"
   ]
  },
  {
   "cell_type": "code",
   "execution_count": 298,
   "id": "c0d65e2c-da8d-468d-8816-d760a60a0098",
   "metadata": {},
   "outputs": [
    {
     "name": "stdout",
     "output_type": "stream",
     "text": [
      "Best by RMSE:\n",
      "\n",
      "    Best Parameters: {'lags': 11, 'encode_country': False, 'train_range': (2002, 2015)}\n",
      "    Best RMSE: 0.008060225822151297\n",
      "    Best Pearson Corr.: 0.9999872225630918\n",
      "    RMSE Relative to Mean: 3.767857536114357e-10\n",
      "    \n"
     ]
    }
   ],
   "source": [
    "idx = np.argmin(results[\"rmse\"])\n",
    "\n",
    "print(\"Best by RMSE:\")\n",
    "print_all(results[\"params\"][idx], results[\"rmse\"][idx], results[\"pearson\"][idx], results[\"rmse\"][idx]/reshape(fert).loc[2016, countries].mean())"
   ]
  },
  {
   "cell_type": "code",
   "execution_count": 299,
   "id": "c28f3e18-0b1a-4313-a126-6d118100f213",
   "metadata": {},
   "outputs": [],
   "source": [
    "best_model = ForecastModel(lags=11, encode_country=False).fit(data, start = 2002, stop=2015)"
   ]
  },
  {
   "cell_type": "code",
   "execution_count": 300,
   "id": "d91d969d-c7e1-4a2e-9153-3ae35ad77ab4",
   "metadata": {},
   "outputs": [],
   "source": [
    "save_results(\"fert_rate_lm.pickle\", best_model, results[\"rmse\"][idx], results[\"pearson\"][idx])"
   ]
  },
  {
   "cell_type": "markdown",
   "id": "4ea9a1af-4402-4633-b7a4-d7456b857bf8",
   "metadata": {
    "jp-MarkdownHeadingCollapsed": true,
    "tags": []
   },
   "source": [
    "## With Country Information"
   ]
  },
  {
   "cell_type": "code",
   "execution_count": 302,
   "id": "505294ac-3eb0-4656-b1cd-727f62303220",
   "metadata": {},
   "outputs": [
    {
     "name": "stdout",
     "output_type": "stream",
     "text": [
      "Number of iterations: 2499\n",
      "Iteration Nº: 200\n",
      "Iteration Nº: 400\n",
      "Iteration Nº: 600\n",
      "Iteration Nº: 800\n",
      "Iteration Nº: 1000\n",
      "Iteration Nº: 1200\n",
      "Iteration Nº: 1400\n",
      "Iteration Nº: 1600\n",
      "Iteration Nº: 1800\n",
      "Iteration Nº: 2000\n",
      "Iteration Nº: 2200\n",
      "Iteration Nº: 2400\n",
      "Processing Finished!\n"
     ]
    }
   ],
   "source": [
    "(best_model, \n",
    " best_params, \n",
    " best_rmse, \n",
    " relative_rmse,\n",
    " best_pcorr,\n",
    "results) = search_best_encode_country(  X=data,\n",
    "                                        lagged_data=data_lagged,\n",
    "                                        encoder=encoder,\n",
    "                                        estimator=LinearRegression,\n",
    "                                        lags=range(1,50),\n",
    "                                        from_year=range(1960, 2010+1),\n",
    "                                       )"
   ]
  },
  {
   "cell_type": "code",
   "execution_count": 303,
   "id": "6b6469b0-5b72-4593-8ea5-7218004b7d9b",
   "metadata": {},
   "outputs": [
    {
     "name": "stdout",
     "output_type": "stream",
     "text": [
      "Best by Pearson:\n",
      "\n",
      "    Best Parameters: {'lags': 10, 'encode_country': True, 'train_range': (1993, 2015)}\n",
      "    Best RMSE: 0.015840823517651523\n",
      "    Best Pearson Corr.: 0.9999829131018897\n",
      "    RMSE Relative to Mean: 0.006072771139601887\n",
      "    \n"
     ]
    }
   ],
   "source": [
    "print(\"Best by Pearson:\")\n",
    "print_all(best_params, best_rmse, best_pcorr, relative_rmse)"
   ]
  },
  {
   "cell_type": "code",
   "execution_count": 304,
   "id": "f9df6dca-7358-4fc5-8c8c-b3faa575dc02",
   "metadata": {},
   "outputs": [
    {
     "name": "stdout",
     "output_type": "stream",
     "text": [
      "Best by RMSE:\n",
      "\n",
      "    Best Parameters: {'lags': 35, 'encode_country': True, 'train_range': (1965, 2015)}\n",
      "    Best RMSE: 0.014551495163857207\n",
      "    Best Pearson Corr.: 0.9999804931054613\n",
      "    RMSE Relative to Mean: 6.802285931517146e-10\n",
      "    \n"
     ]
    }
   ],
   "source": [
    "idx = np.argmin(results[\"rmse\"])\n",
    "\n",
    "print(\"Best by RMSE:\")\n",
    "print_all(results[\"params\"][idx], results[\"rmse\"][idx], results[\"pearson\"][idx], results[\"rmse\"][idx]/data.loc[2016, countries].mean())"
   ]
  },
  {
   "cell_type": "code",
   "execution_count": 380,
   "id": "2b449e5f-f323-46d2-b412-29083e5909fb",
   "metadata": {},
   "outputs": [],
   "source": [
    "save_results(\"fert_rate_lm_country.pickle\", best_model, best_rmse, best_pcorr)"
   ]
  },
  {
   "cell_type": "markdown",
   "id": "777031fa-5f2c-410b-885e-1d16a1bb792c",
   "metadata": {
    "jp-MarkdownHeadingCollapsed": true,
    "tags": []
   },
   "source": [
    "## Results For Fertility Rate Dataset\n",
    "\n",
    "> Statistics obtained with train test split\n",
    "\n",
    "| Statistic | Linear Regression | Support Vector Regressor | Decision Tree Regressor |\n",
    "| :-: | :-: | :-: | :-: |\n",
    "| Pearson Corr. | 0.9999872 | ? | ? |\n",
    "| RMSE | 0.0081 | ? | ? |\n",
    "| RMSE Relative to MEAN| 3.767e-10 | ? | ? |\n",
    "\n",
    "> Best parameters obtained\n",
    "\n",
    "| Parameter | Linear Regression | Support Vector Regressor | Decision Tree Regressor |\n",
    "| :-: | :-: | :-: | :-: |\n",
    "| lags | 11 | ? | ? |\n",
    "| start | 2002 | ? | ? |\n",
    "| stop | 2015 | ? | ? |\n",
    "| encode_country | False | ? | ? |"
   ]
  },
  {
   "cell_type": "markdown",
   "id": "513642a8-dbbf-4eb4-aabc-b056d939e697",
   "metadata": {
    "jp-MarkdownHeadingCollapsed": true,
    "tags": []
   },
   "source": [
    "## Predicting Country Fertility Rate for 2017 on the **Test** Set"
   ]
  },
  {
   "cell_type": "code",
   "execution_count": 359,
   "id": "6fec371e-c8f1-4461-8143-552219c73d43",
   "metadata": {},
   "outputs": [],
   "source": [
    "model = ForecastModel(lags=11, encode_country=False).fit(data, start=2002, stop=2016)"
   ]
  },
  {
   "cell_type": "code",
   "execution_count": 346,
   "id": "2d07c187-ed96-404d-a715-69c6c89f1d3c",
   "metadata": {},
   "outputs": [
    {
     "data": {
      "text/plain": [
       "Solomon Islands           4.434\n",
       "Finland                   1.490\n",
       "Burkina Faso              5.271\n",
       "Switzerland               1.520\n",
       "Timor-Leste               4.093\n",
       "Portugal                  1.380\n",
       "Chile                     1.678\n",
       "Bosnia and Herzegovina    1.276\n",
       "Uruguay                   1.983\n",
       "Russian Federation        1.621\n",
       "Name: 2017, dtype: float64"
      ]
     },
     "execution_count": 346,
     "metadata": {},
     "output_type": "execute_result"
    }
   ],
   "source": [
    "y_test=pd.read_csv(\"data/fertility_rate_test.csv\", index_col=0).loc[2017]\n",
    "y_test"
   ]
  },
  {
   "cell_type": "code",
   "execution_count": 360,
   "id": "e451a3ab-4bd8-41a7-a243-7e6fdda25497",
   "metadata": {},
   "outputs": [
    {
     "data": {
      "text/plain": [
       "[3.790597430031753,\n",
       " 1.629738511655107,\n",
       " 5.266798150168189,\n",
       " 1.5387515688993456,\n",
       " 5.397873424309198,\n",
       " 1.3252710776991445,\n",
       " 1.7590421123406033,\n",
       " 1.3623160229274502,\n",
       " 1.9795454258731244,\n",
       " 1.7507300546322078]"
      ]
     },
     "execution_count": 360,
     "metadata": {},
     "output_type": "execute_result"
    }
   ],
   "source": [
    "preds = [ model.predict([2017], label)[0] for label in countries]\n",
    "preds"
   ]
  },
  {
   "cell_type": "code",
   "execution_count": 361,
   "id": "d286e0cb-04ba-46dd-9bbf-6a281296c9dd",
   "metadata": {},
   "outputs": [
    {
     "name": "stdout",
     "output_type": "stream",
     "text": [
      "rmse = 0.4658769156019714\n"
     ]
    }
   ],
   "source": [
    "print(f\"rmse = {mean_squared_error( y_test, preds, squared=False)}\")"
   ]
  },
  {
   "cell_type": "code",
   "execution_count": 362,
   "id": "08ff74dd-e211-4cd5-af79-2192435ba627",
   "metadata": {},
   "outputs": [
    {
     "name": "stdout",
     "output_type": "stream",
     "text": [
      "Pearson Corr. Coef. = 0.9552092803955194\n"
     ]
    }
   ],
   "source": [
    "print(f\"Pearson Corr. Coef. = {np.corrcoef(y_test, preds)[0,1]}\")"
   ]
  },
  {
   "cell_type": "code",
   "execution_count": 363,
   "id": "4ca33e4c-470e-4ac3-8362-2aacb582f585",
   "metadata": {},
   "outputs": [
    {
     "name": "stdout",
     "output_type": "stream",
     "text": [
      "relative rmse = 0.18826352364098095\n"
     ]
    }
   ],
   "source": [
    "print(f\"relative rmse = {mean_squared_error( y_test, preds, squared=False) / y_test.mean()}\")"
   ]
  },
  {
   "cell_type": "code",
   "execution_count": 364,
   "id": "0cd7e6f9-9474-47fa-9fdc-9a5c6382b8b6",
   "metadata": {},
   "outputs": [
    {
     "data": {
      "image/png": "[encoded data removed]",
      "text/plain": [
       "<Figure size 1600x600 with 2 Axes>"
      ]
     },
     "metadata": {},
     "output_type": "display_data"
    }
   ],
   "source": [
    "x_ = range(len(countries))\n",
    "f, ax = plt.subplots(1,2, figsize=(16,6))\n",
    "plot_sub(ax[0], x_, y_test, label=\"True Values\", ms=10)\n",
    "plot_sub(ax[0], x_, preds, label=\"Predicted Values\", xlabel=\"Country\")\n",
    "ax[0].set_xticks(x_, countries, rotation=45)\n",
    "\n",
    "xy=np.linspace(min(preds), max(preds))\n",
    "ax[1].plot(xy,xy, \"--k\", alpha=0.5, label=\"x=y\")\n",
    "for i, country in enumerate(countries):\n",
    "    scat_sub(ax[1], [preds[i]], [y_test[i]], xlabel=\"Predicted Fertility Rate\", ylabel=\"True Fertility Rate\", label=country)"
   ]
  },
  {
   "cell_type": "markdown",
   "id": "b828feb1-2e30-4cf2-b89c-17ff4b31c5d4",
   "metadata": {
    "tags": []
   },
   "source": [
    "# Search Best Parameters for Life Expectancy"
   ]
  },
  {
   "cell_type": "code",
   "execution_count": 365,
   "id": "66199dc8-9c02-4031-a220-172af3009129",
   "metadata": {},
   "outputs": [],
   "source": [
    "life_expect = pd.read_csv(\"data/life_expectancy.csv\")\n",
    "data = reshape(life_expect)"
   ]
  },
  {
   "cell_type": "code",
   "execution_count": 366,
   "id": "8dcb8fd2-b0e9-44c0-8f8f-03006461335b",
   "metadata": {},
   "outputs": [],
   "source": [
    "data_lagged, encoder = to_lagged_mtvs_with_country(data)"
   ]
  },
  {
   "cell_type": "markdown",
   "id": "cd816998-446b-491d-8caa-1bcab583a185",
   "metadata": {},
   "source": [
    "## Without Country Information"
   ]
  },
  {
   "cell_type": "code",
   "execution_count": 367,
   "id": "aa143882-145d-41e0-a7ab-c15cd72d1a58",
   "metadata": {},
   "outputs": [
    {
     "name": "stdout",
     "output_type": "stream",
     "text": [
      "Number of iterations: 2499\n",
      "Iteration Nº: 200\n",
      "Iteration Nº: 400\n",
      "Iteration Nº: 600\n",
      "Iteration Nº: 800\n",
      "Iteration Nº: 1000\n",
      "Iteration Nº: 1200\n",
      "Iteration Nº: 1400\n",
      "Iteration Nº: 1600\n",
      "Iteration Nº: 1800\n",
      "Iteration Nº: 2000\n",
      "Iteration Nº: 2200\n",
      "Iteration Nº: 2400\n",
      "Processing Finished!\n"
     ]
    }
   ],
   "source": [
    "cols=[f\"{-i}\" for i in range(1,50+1)] + [\"y\"]\n",
    "# Searching without country reference\n",
    "(best_model, \n",
    " best_params, \n",
    " best_rmse, \n",
    " relative_rmse,\n",
    " best_pcorr,\n",
    "results) = search_best_no_country(X=data,\n",
    "                            lagged_data=data_lagged[cols],\n",
    "                            estimator=LinearRegression,\n",
    "                            lags=range(1,50),\n",
    "                            from_year=range(1960, 2010+1),\n",
    "                           )"
   ]
  },
  {
   "cell_type": "code",
   "execution_count": 368,
   "id": "13454d9a-182a-4cf1-aec8-211936546583",
   "metadata": {},
   "outputs": [
    {
     "name": "stdout",
     "output_type": "stream",
     "text": [
      "Best by Pearson:\n",
      "\n",
      "    Best Parameters: {'lags': 12, 'encode_country': False, 'train_range': (1960, 2015)}\n",
      "    Best RMSE: 0.034089717002279044\n",
      "    Best Pearson Corr.: 0.9999957061144292\n",
      "    RMSE Relative to Mean: 0.0004537480214869713\n",
      "    \n"
     ]
    }
   ],
   "source": [
    "print(\"Best by Pearson:\")\n",
    "print_all(best_params, best_rmse, best_pcorr, relative_rmse)"
   ]
  },
  {
   "cell_type": "code",
   "execution_count": 370,
   "id": "d1ca18e1-600e-4566-b6dd-3982db61f8e2",
   "metadata": {},
   "outputs": [
    {
     "name": "stdout",
     "output_type": "stream",
     "text": [
      "Best by RMSE:\n",
      "\n",
      "    Best Parameters: {'lags': 16, 'encode_country': False, 'train_range': (1960, 2015)}\n",
      "    Best RMSE: 0.02694547589903712\n",
      "    Best Pearson Corr.: 0.9999926943483284\n",
      "    RMSE Relative to Mean: 0.0003586552618314658\n",
      "    \n"
     ]
    }
   ],
   "source": [
    "idx = np.argmin(results[\"rmse\"])\n",
    "\n",
    "print(\"Best by RMSE:\")\n",
    "print_all(results[\"params\"][idx], results[\"rmse\"][idx], results[\"pearson\"][idx], results[\"rmse\"][idx]/data.loc[2016, countries].mean())"
   ]
  },
  {
   "cell_type": "code",
   "execution_count": 371,
   "id": "e0ac9a8b-c09f-4768-b606-0096a9e802e9",
   "metadata": {},
   "outputs": [],
   "source": [
    "best_model = ForecastModel(lags=16, encode_country=False).fit(data, start=1960, stop=2015)"
   ]
  },
  {
   "cell_type": "code",
   "execution_count": 373,
   "id": "beb006bd-ff0f-4ac1-84ca-fab7c8b53c22",
   "metadata": {},
   "outputs": [],
   "source": [
    "save_results(\"life_expect_lm.pickle\", best_model, results[\"rmse\"][idx], results[\"pearson\"][idx])"
   ]
  },
  {
   "cell_type": "markdown",
   "id": "27f1481c-8055-42ed-bad9-672e5bb43d1b",
   "metadata": {
    "jp-MarkdownHeadingCollapsed": true,
    "tags": []
   },
   "source": [
    "## With Country Reference"
   ]
  },
  {
   "cell_type": "code",
   "execution_count": 374,
   "id": "69b1f295-0de6-4fca-a2a5-3eeb70c5c74a",
   "metadata": {},
   "outputs": [
    {
     "name": "stdout",
     "output_type": "stream",
     "text": [
      "Number of iterations: 2499\n",
      "Iteration Nº: 200\n",
      "Iteration Nº: 400\n",
      "Iteration Nº: 600\n",
      "Iteration Nº: 800\n",
      "Iteration Nº: 1000\n",
      "Iteration Nº: 1200\n",
      "Iteration Nº: 1400\n",
      "Iteration Nº: 1600\n",
      "Iteration Nº: 1800\n",
      "Iteration Nº: 2000\n",
      "Iteration Nº: 2200\n",
      "Iteration Nº: 2400\n",
      "Processing Finished!\n"
     ]
    }
   ],
   "source": [
    "(best_model, \n",
    " best_params, \n",
    " best_rmse, \n",
    " relative_rmse,\n",
    " best_pcorr,\n",
    "results) = search_best_encode_country(  X=data,\n",
    "                                        lagged_data=data_lagged,\n",
    "                                        encoder=encoder,\n",
    "                                        estimator=LinearRegression,\n",
    "                                        lags=range(1,50),\n",
    "                                        from_year=range(1960, 2010+1),\n",
    "                                       )"
   ]
  },
  {
   "cell_type": "code",
   "execution_count": 377,
   "id": "a1f62b6e-19e9-46db-9359-e50aa79b28b1",
   "metadata": {},
   "outputs": [
    {
     "name": "stdout",
     "output_type": "stream",
     "text": [
      "Best by Pearson:\n",
      "\n",
      "    Best Parameters: {'lags': 14, 'encode_country': True, 'train_range': (1972, 2015)}\n",
      "    Best RMSE: 0.03238254406347313\n",
      "    Best Pearson Corr.: 0.9999939970304493\n",
      "    RMSE Relative to Mean: 0.00043102485416740994\n",
      "    \n"
     ]
    }
   ],
   "source": [
    "print(\"Best by Pearson:\")\n",
    "print_all(best_params, best_rmse, best_pcorr, relative_rmse)"
   ]
  },
  {
   "cell_type": "code",
   "execution_count": 378,
   "id": "9639a06f-b5a5-455b-8e2e-927e9894a9d3",
   "metadata": {},
   "outputs": [
    {
     "name": "stdout",
     "output_type": "stream",
     "text": [
      "Best by RMSE:\n",
      "\n",
      "    Best Parameters: {'lags': 14, 'encode_country': True, 'train_range': (1972, 2015)}\n",
      "    Best RMSE: 0.03238254406347313\n",
      "    Best Pearson Corr.: 0.9999939970304493\n",
      "    RMSE Relative to Mean: 0.00043102485416740994\n",
      "    \n"
     ]
    }
   ],
   "source": [
    "idx = np.argmin(results[\"rmse\"])\n",
    "\n",
    "print(\"Best by RMSE:\")\n",
    "print_all(results[\"params\"][idx], results[\"rmse\"][idx], results[\"pearson\"][idx], results[\"rmse\"][idx]/data.loc[2016, countries].mean())"
   ]
  },
  {
   "cell_type": "code",
   "execution_count": 382,
   "id": "9c9fc2a2-13ad-439d-857d-fb5acc33511c",
   "metadata": {},
   "outputs": [],
   "source": [
    "save_results(\"life_expect_lm_country.pickle\", best_model, best_rmse, best_pcorr)"
   ]
  },
  {
   "cell_type": "markdown",
   "id": "5a0df224-993e-437d-a5f4-f1ae53762052",
   "metadata": {},
   "source": [
    "## Results For Life Expectancy Dataset\n",
    "\n",
    "> Statistics obtained with train test split\n",
    "\n",
    "| Statistic | Linear Regression | Support Vector Regressor | Decision Tree Regressor |\n",
    "| :-: | :-: | :-: | :-: |\n",
    "| Pearson Corr. | 0.9999926 | ? | ? |\n",
    "| RMSE | 0.027 | ? | ? |\n",
    "| RMSE Relative to MEAN| 3.767e-10 | ? | ? |\n",
    "\n",
    "> Best parameters obtained\n",
    "\n",
    "| Parameter | Linear Regression | Support Vector Regressor | Decision Tree Regressor |\n",
    "| :-: | :-: | :-: | :-: |\n",
    "| lags | 16 | ? | ? |\n",
    "| start | 1960 | ? | ? |\n",
    "| stop | 2015 | ? | ? |\n",
    "| encode_country | False | ? | ? |"
   ]
  },
  {
   "cell_type": "code",
   "execution_count": null,
   "id": "5de8501b-10db-460c-89df-36c9cbcdc065",
   "metadata": {},
   "outputs": [],
   "source": []
  },
  {
   "cell_type": "code",
   "execution_count": null,
   "id": "869c48ab-6e49-4be7-9950-4395dd970e27",
   "metadata": {},
   "outputs": [],
   "source": []
  }
 ],
 "metadata": {
  "kernelspec": {
   "display_name": "Python 3 (ipykernel)",
   "language": "python",
   "name": "python3"
  },
  "language_info": {
   "codemirror_mode": {
    "name": "ipython",
    "version": 3
   },
   "file_extension": ".py",
   "mimetype": "text/x-python",
   "name": "python",
   "nbconvert_exporter": "python",
   "pygments_lexer": "ipython3",
   "version": "3.9.7"
  }
 },
 "nbformat": 4,
 "nbformat_minor": 5
}
