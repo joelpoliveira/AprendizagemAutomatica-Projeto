{
 "cells": [
  {
   "cell_type": "code",
   "execution_count": null,
   "id": "36ee828e-f19a-46be-8d05-9b24c901dcdf",
   "metadata": {},
   "outputs": [],
   "source": [
    "import pandas as pd\n",
    "import numpy as np\n",
    "import matplotlib.pyplot as plt\n",
    "from pprint import pprint\n",
    "\n",
    "from sklearn.preprocessing import LabelBinarizer, OneHotEncoder, MultiLabelBinarizer\n",
    "from sklearn.metrics import mean_squared_error, max_error\n",
    "from sklearn.linear_model import LinearRegression, Lasso, Ridge\n",
    "from sklearn.tree import DecisionTreeRegressor\n",
    "from sklearn.neighbors import KNeighborsRegressor\n",
    "from sklearn.multioutput import MultiOutputRegressor\n",
    "from sklearn.svm import SVR, LinearSVR\n",
    "from sklearn.preprocessing import StandardScaler\n",
    "\n",
    "from typing import Sequence"
   ]
  },
  {
   "cell_type": "code",
   "execution_count": null,
   "id": "b1862098-1146-4724-8605-d13d765d2904",
   "metadata": {},
   "outputs": [],
   "source": [
    "\"\"\"\n",
    "Parameters:\n",
    "    df: 'dataframe' structured like in csv files\n",
    "    scale: 'bool', request to standardize data, default=False\n",
    "    start: 'int', representing the year where to start the timeseries\n",
    "    stop: 'int', representing the year where to stop the timeseries\n",
    "\n",
    "Output:\n",
    "    DataFrame with the follwing structure:\n",
    "        -> data   = values\n",
    "        -> columns= country_name\n",
    "        -> index  = year\n",
    "\n",
    "Description:\n",
    "    Basicly creates a multivariate time-series\n",
    "\"\"\"\n",
    "def reshape(df: pd.DataFrame, scale:bool =False, start=1960, stop=2016) -> pd.DataFrame:\n",
    "    columns = df[\"Country Name\"]\n",
    "    index = range(start, stop+1)\n",
    "    data = df[[f\"{i}\" for i in index]].to_numpy().T\n",
    "    \n",
    "    df = pd.DataFrame(data = data,\n",
    "                        columns=columns,\n",
    "                        index=index)\n",
    "    if scale:\n",
    "        df = ( df-df.mean() ) / df.std() \n",
    "    return df"
   ]
  },
  {
   "cell_type": "code",
   "execution_count": null,
   "id": "d731b241-77dc-451a-a445-c6c7195c24cf",
   "metadata": {},
   "outputs": [],
   "source": [
    "filter_ = lambda df, country: df[df[\"Country Name\"].isin(country)]"
   ]
  },
  {
   "cell_type": "code",
   "execution_count": null,
   "id": "d52185a4-67f3-4047-a897-a33f9e2e0ece",
   "metadata": {},
   "outputs": [],
   "source": [
    "pop = pd.read_csv(\"data/country_population.csv\")\n",
    "pop.head()"
   ]
  },
  {
   "cell_type": "code",
   "execution_count": null,
   "id": "9aefe5a3-108f-43ff-a5ee-8dc46240cda8",
   "metadata": {},
   "outputs": [],
   "source": [
    "reshape(pop).head()"
   ]
  },
  {
   "cell_type": "code",
   "execution_count": null,
   "id": "0732a476-377e-493c-a4eb-b7f3547b1e98",
   "metadata": {},
   "outputs": [],
   "source": [
    "\"\"\"\n",
    "Parameters:\n",
    "    df: 'dataframe' structured like \"reshape\" function output, multivariate timeseries\n",
    "    label: 'str', name for the column of the data\n",
    "\n",
    "Description:\n",
    "    Agglomerates all the different timeseries for each country in a single column.\n",
    "    Each row as the country it refers to, one hot encoded.\n",
    "    The data for each country is still ordered by year.\n",
    "\"\"\"\n",
    "def to_mvts(df: pd.DataFrame, label:str):\n",
    "    encoder = LabelBinarizer().fit(df.columns)\n",
    "    new_df = pd.DataFrame(columns = [label] + list(df.columns))\n",
    "    \n",
    "    for i, col in enumerate(df.columns):\n",
    "        tseries = df[col]\n",
    "        tseries.name = label\n",
    "        #one hot encodes country\n",
    "        encoded_country = pd.DataFrame(data=list(encoder.transform([col]))*len(tseries), \n",
    "                                       columns=encoder.classes_,\n",
    "                                       index=tseries.index)\n",
    "        #merges country timeseries with respective one hot encoding\n",
    "        tseries = pd.concat((tseries, encoded_country), axis=1)\n",
    "        new_df = pd.concat((new_df, tseries), sort=True)\n",
    "    return new_df"
   ]
  },
  {
   "cell_type": "code",
   "execution_count": null,
   "id": "3fbba334-23fe-4f21-9bf7-e6462c45f89e",
   "metadata": {},
   "outputs": [],
   "source": [
    "#multivariate_timeseries = to_mvts(reshape(pop), \"Population\")\n",
    "multivariate_timeseries = pd.read_csv(\"data/mvts.csv\", index_col=0)\n",
    "\n",
    "multivariate_timeseries.head()"
   ]
  },
  {
   "cell_type": "code",
   "execution_count": null,
   "id": "31dffedc-64b0-44e4-a03e-8d8d864f96f4",
   "metadata": {},
   "outputs": [],
   "source": [
    "multivariate_timeseries.to_csv(\"data/mvts.csv\")"
   ]
  },
  {
   "cell_type": "code",
   "execution_count": null,
   "id": "b483646a-5f32-43de-9254-dcdd35ebf748",
   "metadata": {},
   "outputs": [],
   "source": [
    "\"\"\"\n",
    "Class for the prediction of future values of a time-series;\n",
    "Initalization Parameters:\n",
    "    -> estimator: ML model to use in the forecast regression. !Must be a model from 'Sklearn' package!\n",
    "    -> lags: 'int', how many previous years to take in consideration to make the prediction.\n",
    "\n",
    "Non-initial Instances:\n",
    "    -> raw: Default data that entered the model (output of 'reshape()' format)\n",
    "    -> X: Independent variables used to train the model. Matrix that for each row/year as the *lags*\n",
    "            previous years, as well as the one hot encoded country it belongs to.\n",
    "    -> y: Dependent variable used to train the model. Time-series with the expected output\n",
    "            for each element in X.\n",
    "    -> min_year: The minimum year for which the model can make a prediction. Corresponds to \n",
    "                {year of the first entrance} + {lags}\n",
    "    -> encoder: Model to one hot encode the country labels. Corresponds to sklearn 'LabelBinarizer' model\n",
    "\n",
    "\"\"\"\n",
    "class ForecastModel:\n",
    "    def __init__(self, \n",
    "                 estimator = LinearRegression(), \n",
    "                 lags=5):\n",
    "        self.estimator=estimator\n",
    "        self.lags = lags\n",
    "    \n",
    "    \"\"\"\n",
    "    Parameters:\n",
    "        -> X: MVTS to train the model. Should be in format of \"reshape\" function output\n",
    "        \n",
    "    Description:\n",
    "        Using input X mvts creates an instance 'y', and an instance 'X' (mentioned in \"Non-initial Instances\").\n",
    "        Then saves the first year for which the model can make predictions ('min_year').\n",
    "        Finally trains the estimator with the matrix data 'X' as the independent variables and\n",
    "        'y' series as the dependent variable.\n",
    "    \"\"\"\n",
    "    def fit(self, X):\n",
    "        self.raw = X\n",
    "        mvts = self.__to_lagged_mvts(X)\n",
    "        self.X = mvts.drop(columns=\"y\")#self.__get_lags(sparse)\n",
    "        self.y = mvts[\"y\"]#.loc[self.X.index]\n",
    "        \n",
    "        self.min_year = self.X.index.min()\n",
    "        self.estimator = self.estimator.fit(self.X, self.y)\n",
    "        return self\n",
    "    \n",
    "    \"\"\"\n",
    "    Parameters:\n",
    "        -> years: List of years for which to make the prediction. Must be an iterable\n",
    "        -> country: 'str', Country for which to make the prediction\n",
    "    \n",
    "    Description:\n",
    "        Iterates over the years and makes the predicted value using \n",
    "        data from {lags} last years from that country.\n",
    "    \"\"\"\n",
    "    def predict(self, years: Sequence, country: str):\n",
    "        encoded_country = list(self.encoder.transform([country])[0])\n",
    "        \n",
    "        X = []\n",
    "        lags = range(1, self.lags+1)\n",
    "        for year in years:\n",
    "            assert(year>=self.min_year)\n",
    "            X += [ \n",
    "                [self.get_year(year - i, country) for i in lags] + encoded_country\n",
    "            ]\n",
    "            \n",
    "        #model needed to have the labels that used in training\n",
    "        X = pd.DataFrame(data = X,\n",
    "                        columns = self.estimator.feature_names_in_)   \n",
    "            \n",
    "        return self.estimator.predict( X )\n",
    "    \n",
    "    \"\"\"\n",
    "    Parameters:\n",
    "        -> year: 'int', year from which to get the data\n",
    "        -> country: 'str', country from which to get the data\n",
    "        \n",
    "    Description:\n",
    "        Returns data from {raw} located in ['year', 'country']. \n",
    "        If this data does not exist ( e.g. was not present in the training set) it\n",
    "        is first predicted recursively. After this it is memoized in raw table, to\n",
    "        avoid repeating the recursion.\n",
    "    \"\"\"\n",
    "    def get_year(self, year: int, country : str) -> float:\n",
    "        try: \n",
    "            data = self.raw.loc[year, country]\n",
    "            if data == np.nan:\n",
    "                raise Exception()\n",
    "            return data\n",
    "        except:\n",
    "            pred = self.predict([year], country)[0]\n",
    "            self.raw.loc[year, country] = pred\n",
    "            return pred\n",
    "    \n",
    "    \"\"\"\n",
    "    Parameters:\n",
    "        -> country: 'str' country label from which to get the data\n",
    "    \n",
    "    Description:\n",
    "        Returns the timeseries that corresponds to 'country'\n",
    "    \"\"\"\n",
    "    def get_country(self, country:str):\n",
    "        return self.y[self.X[country]==1]\n",
    "    \n",
    "    \"\"\"\n",
    "    Parameters:\n",
    "        -> df: MVTS to train the model. Should be in format of \"reshape\" function output\n",
    "        -> sort: 'bool', tag to sort data based on index, default = 'False'\n",
    "    \n",
    "    Description:\n",
    "        Creates a Matrix where each instance has the reference to the country it belongs to, one hot encoded.\n",
    "        Besides this it also has the original time-series from 'df' in a column named \"y\", and {lags} columns with\n",
    "        the data from previous years.\n",
    "        It drops columns which do not have at least {lags} previous years to reference.\n",
    "    \"\"\"\n",
    "    def __to_lagged_mvts(self, df: pd.DataFrame, sort=False):\n",
    "        self.encoder = LabelBinarizer().fit(df.columns)\n",
    "        new_df = pd.DataFrame(columns = [\"y\"] + list(df.columns))\n",
    "        \n",
    "        for col in df.columns:\n",
    "            tseries = df[col]\n",
    "            tseries.name = \"y\"\n",
    "            encoded_country = pd.DataFrame(data=list(self.encoder.transform([col])) * len(tseries), \n",
    "                                           columns=self.encoder.classes_,\n",
    "                                           index=tseries.index)\n",
    "            \n",
    "            tseries = pd.concat((tseries, \n",
    "                                 self.__get_lags(tseries), \n",
    "                                 encoded_country), \n",
    "                                 axis=1).dropna()\n",
    "            new_df = pd.concat((new_df, tseries), sort=True)\n",
    "        if sort: \n",
    "            return new_df.sort_index()\n",
    "        return new_df\n",
    "    \n",
    "    \"\"\"\n",
    "    Parameters:\n",
    "        -> X: Time-Series\n",
    "    Description:\n",
    "        Iteratively creates a matrix. Each column corresponds to the data\n",
    "        from the ith previous year.\n",
    "    \"\"\"\n",
    "    def __get_lags(self, X: pd.Series):\n",
    "        return pd.DataFrame(\n",
    "            data={ f\"-{i}\": X.shift(i) for i in range(1,self.lags+1) }\n",
    "        )"
   ]
  },
  {
   "cell_type": "code",
   "execution_count": null,
   "id": "dbb4351b-276d-41e9-811b-3320476d41b3",
   "metadata": {},
   "outputs": [],
   "source": [
    "model = ForecastModel().fit(reshape(pop))"
   ]
  },
  {
   "cell_type": "code",
   "execution_count": null,
   "id": "a10ce354-4ae8-49f9-be60-0e84d09d39c8",
   "metadata": {},
   "outputs": [],
   "source": [
    "countries = list(pop[\"Country Name\"].sample(n=10, random_state=66))\n",
    "pprint(list(enumerate(countries)))"
   ]
  },
  {
   "cell_type": "code",
   "execution_count": null,
   "id": "586468c6-18f6-4706-acc8-ed5b8f94310c",
   "metadata": {},
   "outputs": [],
   "source": [
    "label = countries[5]"
   ]
  },
  {
   "cell_type": "markdown",
   "id": "2ef61dee-170d-4b5e-884b-21878ee9f276",
   "metadata": {},
   "source": [
    "# Predicting on the **Training** Set for a Series of Years"
   ]
  },
  {
   "cell_type": "code",
   "execution_count": null,
   "id": "1b664aab-07d3-49ba-9935-51799ad31058",
   "metadata": {},
   "outputs": [],
   "source": [
    "train_pred = model.predict([2016], label)\n",
    "real = model.raw.loc[2016,label]\n",
    "err = mean_squared_error([real], train_pred, squared=False)\n",
    "print(f\"\"\"Predicted value is: {train_pred[0]:.3f};\n",
    "True value is: {real:.3f};\n",
    "\n",
    "Root Mean Squared Error is: {err:.3f}\n",
    "Error in relation to mean is: {err/model.get_country(label).mean():.3f}\"\"\")"
   ]
  },
  {
   "cell_type": "code",
   "execution_count": null,
   "id": "4e83c801-d8b2-47e3-a136-4e6d7a9b0838",
   "metadata": {},
   "outputs": [],
   "source": [
    "min_year = 2000;\n",
    "max_year = 2016;"
   ]
  },
  {
   "cell_type": "code",
   "execution_count": null,
   "id": "f0f72031-b349-4906-921c-f67634be1037",
   "metadata": {},
   "outputs": [],
   "source": [
    "preds = model.predict(list(range(min_year, max_year+1)), label)"
   ]
  },
  {
   "cell_type": "code",
   "execution_count": null,
   "id": "613ddca5-f5bb-4928-b664-74fd344e98a8",
   "metadata": {},
   "outputs": [],
   "source": [
    "def plot_sub(ax, x, y, label=\"\", xlabel=\"\", ylabel=\"\", title=\"\"):\n",
    "    ax.plot(x, y, label=label)\n",
    "    ax.set_xlabel(xlabel)\n",
    "    ax.set_ylabel(ylabel)\n",
    "    ax.set_title(title)\n",
    "    if label!=\"\":\n",
    "        ax.legend()\n",
    "\n",
    "def scat_sub(ax, x, y, label=\"\", xlabel=\"\", ylabel=\"\", title=\"\"):\n",
    "    ax.scatter(x, y, label=label)\n",
    "    ax.set_xlabel(xlabel)\n",
    "    ax.set_ylabel(ylabel)\n",
    "    ax.set_title(title)\n",
    "    if label!=\"\":\n",
    "        ax.legend()\n",
    "\n",
    "f, ax = plt.subplots(1,2, figsize=(16,6))\n",
    "plot_sub(ax[0], range(min_year,max_year+1), model.get_country(label).loc[min_year:max_year], label=\"True Values\")\n",
    "plot_sub(ax[0], range(min_year,max_year+1), preds, label=\"Predicted Values\", xlabel=\"Year\")\n",
    "\n",
    "scat_sub(ax[1], preds, model.get_country(label).loc[min_year:max_year], xlabel=\"Predicted\", ylabel=\"True\")\n",
    "xy=np.linspace(preds.min(), preds.max())\n",
    "ax[1].plot(xy,xy, \"r\")"
   ]
  },
  {
   "cell_type": "markdown",
   "id": "7380a037-3541-44cb-b46a-7b677a2de3f3",
   "metadata": {},
   "source": [
    "# Predicting on the **Test** Set for a Series of Years"
   ]
  },
  {
   "cell_type": "code",
   "execution_count": null,
   "id": "acda99fb-45cb-49be-92d7-24c3055dd91e",
   "metadata": {},
   "outputs": [],
   "source": [
    "y_test=pd.read_csv(\"data/country_population_test.csv\", index_col=0)[label]\n",
    "y_test"
   ]
  },
  {
   "cell_type": "code",
   "execution_count": null,
   "id": "d8c6ad7e-0b89-46dd-ac17-65020bf27683",
   "metadata": {},
   "outputs": [],
   "source": [
    "preds = model.predict(y_test.index, label)\n",
    "preds"
   ]
  },
  {
   "cell_type": "code",
   "execution_count": null,
   "id": "1abe5519-cd90-4063-a92e-fbabd1abc1de",
   "metadata": {},
   "outputs": [],
   "source": [
    "print(f\"rmse = {mean_squared_error( y_test, preds, squared=False)}\")"
   ]
  },
  {
   "cell_type": "code",
   "execution_count": null,
   "id": "f39f82c5-f5ae-4d87-935a-5bbcfbd3520a",
   "metadata": {},
   "outputs": [],
   "source": [
    "print(f\"Pearson Corr. Coef. = {np.corrcoef(y_test, preds)[0,1]}\")"
   ]
  },
  {
   "cell_type": "code",
   "execution_count": null,
   "id": "9725f7ce-a852-4661-9598-8c63b13ec052",
   "metadata": {},
   "outputs": [],
   "source": [
    "f, ax = plt.subplots(1,2, figsize=(16,6))\n",
    "plot_sub(ax[0], y_test.index, y_test, label=\"True Values\")\n",
    "plot_sub(ax[0], y_test.index, preds, label=\"Predicted Values\", xlabel=\"Year\")\n",
    "\n",
    "scat_sub(ax[1], preds, y_test, xlabel=\"Predicted\", ylabel=\"True\")\n",
    "xy=np.linspace(min(preds), max(preds))\n",
    "ax[1].plot(xy,xy, \"r\")"
   ]
  },
  {
   "cell_type": "markdown",
   "id": "931e6871-4cef-4cf8-a5e1-b8942dae0b3b",
   "metadata": {},
   "source": [
    "# Predicting 2017 on the **Test** Set for several countries"
   ]
  },
  {
   "cell_type": "code",
   "execution_count": null,
   "id": "1389857b-9820-4451-ad75-75da98f717d1",
   "metadata": {},
   "outputs": [],
   "source": [
    "y_test=pd.read_csv(\"data/country_population_test.csv\", index_col=0).loc[2017]\n",
    "y_test"
   ]
  },
  {
   "cell_type": "code",
   "execution_count": null,
   "id": "e76624fa-798f-448d-bb3f-0f2d55e5c2a3",
   "metadata": {},
   "outputs": [],
   "source": [
    "preds = [ model.predict([2017], label)[0] for label in countries]\n",
    "preds"
   ]
  },
  {
   "cell_type": "code",
   "execution_count": null,
   "id": "dc09af35-e350-4395-b946-1ecd9551a56d",
   "metadata": {},
   "outputs": [],
   "source": [
    "print(f\"rmse = {mean_squared_error( y_test, preds, squared=False)}\")"
   ]
  },
  {
   "cell_type": "code",
   "execution_count": null,
   "id": "73159ab6-e07c-4144-8eaa-8fbb157a60ce",
   "metadata": {},
   "outputs": [],
   "source": [
    "print(f\"Pearson Corr. Coef. = {np.corrcoef(y_test, preds)[0,1]}\")"
   ]
  },
  {
   "cell_type": "code",
   "execution_count": null,
   "id": "fad24cd5-0a8c-4353-8510-3eda7bd2b455",
   "metadata": {},
   "outputs": [],
   "source": [
    "x_ = range(len(countries))\n",
    "f, ax = plt.subplots(1,2, figsize=(16,6))\n",
    "plot_sub(ax[0], x_, y_test, label=\"True Values\")\n",
    "plot_sub(ax[0], x_, preds, label=\"Predicted Values\", xlabel=\"Country\")\n",
    "ax[0].set_xticks(x_, countries, rotation=45)\n",
    "\n",
    "scat_sub(ax[1], preds, y_test, xlabel=\"Predicted\", ylabel=\"True\")\n",
    "xy=np.linspace(min(preds), max(preds))\n",
    "ax[1].plot(xy,xy, \"r\")"
   ]
  },
  {
   "cell_type": "code",
   "execution_count": null,
   "id": "85aecba2-8b1f-4b9f-ac5f-669ba446528a",
   "metadata": {},
   "outputs": [],
   "source": []
  }
 ],
 "metadata": {
  "kernelspec": {
   "display_name": "Python 3 (ipykernel)",
   "language": "python",
   "name": "python3"
  },
  "language_info": {
   "codemirror_mode": {
    "name": "ipython",
    "version": 3
   },
   "file_extension": ".py",
   "mimetype": "text/x-python",
   "name": "python",
   "nbconvert_exporter": "python",
   "pygments_lexer": "ipython3",
   "version": "3.9.7"
  }
 },
 "nbformat": 4,
 "nbformat_minor": 5
}
